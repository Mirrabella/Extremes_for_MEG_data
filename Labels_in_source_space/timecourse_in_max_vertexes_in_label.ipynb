{
 "cells": [
  {
   "cell_type": "markdown",
   "id": "210fd93e",
   "metadata": {},
   "source": [
    "# Выбор лейбла"
   ]
  },
  {
   "cell_type": "code",
   "execution_count": 1,
   "id": "b382cd1b",
   "metadata": {},
   "outputs": [],
   "source": [
    "import os\n",
    "import mne\n",
    "import numpy as np\n",
    "import pandas as pd\n",
    "from scipy import stats\n",
    "from statsmodels.stats import multitest as mul\n",
    "from matplotlib import pyplot as plt"
   ]
  },
  {
   "cell_type": "code",
   "execution_count": 2,
   "id": "b200d303",
   "metadata": {},
   "outputs": [],
   "source": [
    "os.environ[\"SUBJECTS_DIR\"] = \"/home/vtretyakova/Рабочий стол/speach_learn/Labels/freesurfer\""
   ]
  },
  {
   "cell_type": "code",
   "execution_count": 3,
   "id": "45a36075",
   "metadata": {},
   "outputs": [],
   "source": [
    "stc = mne.read_source_estimate('/net/server/data/home/inside/Niherus_work_transfer/Make_source_for_beta/MAIN_SCRIPT/Source/SourceEstimate/beta_reactclean_15_26/p_val/p-val_full_fdr_r2-end_sub22_interv_merged-lh.stc')\n",
    "stc.subject = \"avg_platon_27sub\""
   ]
  },
  {
   "cell_type": "code",
   "execution_count": 4,
   "id": "789198fa",
   "metadata": {},
   "outputs": [
    {
     "name": "stdout",
     "output_type": "stream",
     "text": [
      "Reading labels from parcellation...\n",
      "   read 75 labels from /home/vtretyakova/Рабочий стол/speach_learn/Labels/freesurfer/avg_platon_27sub/label/lh.aparc.a2009s.annot\n",
      "   read 75 labels from /home/vtretyakova/Рабочий стол/speach_learn/Labels/freesurfer/avg_platon_27sub/label/rh.aparc.a2009s.annot\n"
     ]
    }
   ],
   "source": [
    "# Читаем лейблы (они должны лежать в той директории, которую мы указали, т.е. во \n",
    "#/home/vtretyakova/Рабочий стол/speach_learn/Labels/freesurfer/avg_platon_27sub/label)\n",
    "\n",
    "labels = mne.read_labels_from_annot('avg_platon_27sub', 'aparc.a2009s')"
   ]
  },
  {
   "cell_type": "markdown",
   "id": "2b241a3d",
   "metadata": {},
   "source": [
    "# Из наших данных, мы знаем, что нам нужно выбрать лейблы из левого полушария. Поэтому берем только их из списка aparc.a2009s"
   ]
  },
  {
   "cell_type": "code",
   "execution_count": 15,
   "id": "c0c46f5d",
   "metadata": {},
   "outputs": [],
   "source": [
    "labels_lh = []\n",
    "i = 0\n",
    "while i <= (len(labels)-1):\n",
    "    #print(i)\n",
    "    labels_lh.append(labels[i])\n",
    "    i = i+2\n",
    "\n",
    "    \n",
    "    "
   ]
  },
  {
   "cell_type": "code",
   "execution_count": 14,
   "id": "efd2bab0",
   "metadata": {},
   "outputs": [
    {
     "data": {
      "text/plain": [
       "75"
      ]
     },
     "execution_count": 14,
     "metadata": {},
     "output_type": "execute_result"
    }
   ],
   "source": [
    "len(labels_lh)"
   ]
  },
  {
   "cell_type": "code",
   "execution_count": 18,
   "id": "bc59ad76",
   "metadata": {},
   "outputs": [
    {
     "name": "stderr",
     "output_type": "stream",
     "text": [
      "/tmp/ipykernel_1455566/1254178966.py:5: DeprecationWarning: The Mayavi 3D backend is deprecated in 0.24 and will be removed in the next version of MNE-Python. Use the pyvistaqt or notebook backends instead\n",
      "  brain = mne.viz.plot_source_estimates(stc_in_label, hemi='lh', views = ['lat', 'med'], time_viewer='auto', initial_time = -1.950,\n",
      "/tmp/ipykernel_1455566/1254178966.py:5: DeprecationWarning: The Mayavi 3D backend is deprecated in 0.24 and will be removed in the next version of MNE-Python. Use the pyvistaqt or notebook backends instead\n",
      "  brain = mne.viz.plot_source_estimates(stc_in_label, hemi='lh', views = ['lat', 'med'], time_viewer='auto', initial_time = -1.950,\n",
      "/tmp/ipykernel_1455566/1254178966.py:5: DeprecationWarning: The Mayavi 3D backend is deprecated in 0.24 and will be removed in the next version of MNE-Python. Use the pyvistaqt or notebook backends instead\n",
      "  brain = mne.viz.plot_source_estimates(stc_in_label, hemi='lh', views = ['lat', 'med'], time_viewer='auto', initial_time = -1.950,\n",
      "/tmp/ipykernel_1455566/1254178966.py:5: DeprecationWarning: The Mayavi 3D backend is deprecated in 0.24 and will be removed in the next version of MNE-Python. Use the pyvistaqt or notebook backends instead\n",
      "  brain = mne.viz.plot_source_estimates(stc_in_label, hemi='lh', views = ['lat', 'med'], time_viewer='auto', initial_time = -1.950,\n",
      "/tmp/ipykernel_1455566/1254178966.py:5: DeprecationWarning: The Mayavi 3D backend is deprecated in 0.24 and will be removed in the next version of MNE-Python. Use the pyvistaqt or notebook backends instead\n",
      "  brain = mne.viz.plot_source_estimates(stc_in_label, hemi='lh', views = ['lat', 'med'], time_viewer='auto', initial_time = -1.950,\n",
      "/tmp/ipykernel_1455566/1254178966.py:5: DeprecationWarning: The Mayavi 3D backend is deprecated in 0.24 and will be removed in the next version of MNE-Python. Use the pyvistaqt or notebook backends instead\n",
      "  brain = mne.viz.plot_source_estimates(stc_in_label, hemi='lh', views = ['lat', 'med'], time_viewer='auto', initial_time = -1.950,\n",
      "/tmp/ipykernel_1455566/1254178966.py:5: DeprecationWarning: The Mayavi 3D backend is deprecated in 0.24 and will be removed in the next version of MNE-Python. Use the pyvistaqt or notebook backends instead\n",
      "  brain = mne.viz.plot_source_estimates(stc_in_label, hemi='lh', views = ['lat', 'med'], time_viewer='auto', initial_time = -1.950,\n",
      "/tmp/ipykernel_1455566/1254178966.py:5: DeprecationWarning: The Mayavi 3D backend is deprecated in 0.24 and will be removed in the next version of MNE-Python. Use the pyvistaqt or notebook backends instead\n",
      "  brain = mne.viz.plot_source_estimates(stc_in_label, hemi='lh', views = ['lat', 'med'], time_viewer='auto', initial_time = -1.950,\n",
      "/tmp/ipykernel_1455566/1254178966.py:5: DeprecationWarning: The Mayavi 3D backend is deprecated in 0.24 and will be removed in the next version of MNE-Python. Use the pyvistaqt or notebook backends instead\n",
      "  brain = mne.viz.plot_source_estimates(stc_in_label, hemi='lh', views = ['lat', 'med'], time_viewer='auto', initial_time = -1.950,\n",
      "/tmp/ipykernel_1455566/1254178966.py:5: DeprecationWarning: The Mayavi 3D backend is deprecated in 0.24 and will be removed in the next version of MNE-Python. Use the pyvistaqt or notebook backends instead\n",
      "  brain = mne.viz.plot_source_estimates(stc_in_label, hemi='lh', views = ['lat', 'med'], time_viewer='auto', initial_time = -1.950,\n",
      "/tmp/ipykernel_1455566/1254178966.py:5: DeprecationWarning: The Mayavi 3D backend is deprecated in 0.24 and will be removed in the next version of MNE-Python. Use the pyvistaqt or notebook backends instead\n",
      "  brain = mne.viz.plot_source_estimates(stc_in_label, hemi='lh', views = ['lat', 'med'], time_viewer='auto', initial_time = -1.950,\n",
      "/tmp/ipykernel_1455566/1254178966.py:5: DeprecationWarning: The Mayavi 3D backend is deprecated in 0.24 and will be removed in the next version of MNE-Python. Use the pyvistaqt or notebook backends instead\n",
      "  brain = mne.viz.plot_source_estimates(stc_in_label, hemi='lh', views = ['lat', 'med'], time_viewer='auto', initial_time = -1.950,\n",
      "/tmp/ipykernel_1455566/1254178966.py:5: DeprecationWarning: The Mayavi 3D backend is deprecated in 0.24 and will be removed in the next version of MNE-Python. Use the pyvistaqt or notebook backends instead\n",
      "  brain = mne.viz.plot_source_estimates(stc_in_label, hemi='lh', views = ['lat', 'med'], time_viewer='auto', initial_time = -1.950,\n",
      "/tmp/ipykernel_1455566/1254178966.py:5: DeprecationWarning: The Mayavi 3D backend is deprecated in 0.24 and will be removed in the next version of MNE-Python. Use the pyvistaqt or notebook backends instead\n",
      "  brain = mne.viz.plot_source_estimates(stc_in_label, hemi='lh', views = ['lat', 'med'], time_viewer='auto', initial_time = -1.950,\n",
      "/tmp/ipykernel_1455566/1254178966.py:5: DeprecationWarning: The Mayavi 3D backend is deprecated in 0.24 and will be removed in the next version of MNE-Python. Use the pyvistaqt or notebook backends instead\n",
      "  brain = mne.viz.plot_source_estimates(stc_in_label, hemi='lh', views = ['lat', 'med'], time_viewer='auto', initial_time = -1.950,\n",
      "/tmp/ipykernel_1455566/1254178966.py:5: DeprecationWarning: The Mayavi 3D backend is deprecated in 0.24 and will be removed in the next version of MNE-Python. Use the pyvistaqt or notebook backends instead\n",
      "  brain = mne.viz.plot_source_estimates(stc_in_label, hemi='lh', views = ['lat', 'med'], time_viewer='auto', initial_time = -1.950,\n",
      "/tmp/ipykernel_1455566/1254178966.py:5: DeprecationWarning: The Mayavi 3D backend is deprecated in 0.24 and will be removed in the next version of MNE-Python. Use the pyvistaqt or notebook backends instead\n",
      "  brain = mne.viz.plot_source_estimates(stc_in_label, hemi='lh', views = ['lat', 'med'], time_viewer='auto', initial_time = -1.950,\n",
      "/tmp/ipykernel_1455566/1254178966.py:5: DeprecationWarning: The Mayavi 3D backend is deprecated in 0.24 and will be removed in the next version of MNE-Python. Use the pyvistaqt or notebook backends instead\n",
      "  brain = mne.viz.plot_source_estimates(stc_in_label, hemi='lh', views = ['lat', 'med'], time_viewer='auto', initial_time = -1.950,\n",
      "/tmp/ipykernel_1455566/1254178966.py:5: DeprecationWarning: The Mayavi 3D backend is deprecated in 0.24 and will be removed in the next version of MNE-Python. Use the pyvistaqt or notebook backends instead\n",
      "  brain = mne.viz.plot_source_estimates(stc_in_label, hemi='lh', views = ['lat', 'med'], time_viewer='auto', initial_time = -1.950,\n",
      "/tmp/ipykernel_1455566/1254178966.py:5: DeprecationWarning: The Mayavi 3D backend is deprecated in 0.24 and will be removed in the next version of MNE-Python. Use the pyvistaqt or notebook backends instead\n",
      "  brain = mne.viz.plot_source_estimates(stc_in_label, hemi='lh', views = ['lat', 'med'], time_viewer='auto', initial_time = -1.950,\n",
      "/tmp/ipykernel_1455566/1254178966.py:5: DeprecationWarning: The Mayavi 3D backend is deprecated in 0.24 and will be removed in the next version of MNE-Python. Use the pyvistaqt or notebook backends instead\n",
      "  brain = mne.viz.plot_source_estimates(stc_in_label, hemi='lh', views = ['lat', 'med'], time_viewer='auto', initial_time = -1.950,\n",
      "/tmp/ipykernel_1455566/1254178966.py:5: DeprecationWarning: The Mayavi 3D backend is deprecated in 0.24 and will be removed in the next version of MNE-Python. Use the pyvistaqt or notebook backends instead\n",
      "  brain = mne.viz.plot_source_estimates(stc_in_label, hemi='lh', views = ['lat', 'med'], time_viewer='auto', initial_time = -1.950,\n",
      "/tmp/ipykernel_1455566/1254178966.py:5: DeprecationWarning: The Mayavi 3D backend is deprecated in 0.24 and will be removed in the next version of MNE-Python. Use the pyvistaqt or notebook backends instead\n",
      "  brain = mne.viz.plot_source_estimates(stc_in_label, hemi='lh', views = ['lat', 'med'], time_viewer='auto', initial_time = -1.950,\n",
      "/tmp/ipykernel_1455566/1254178966.py:5: DeprecationWarning: The Mayavi 3D backend is deprecated in 0.24 and will be removed in the next version of MNE-Python. Use the pyvistaqt or notebook backends instead\n",
      "  brain = mne.viz.plot_source_estimates(stc_in_label, hemi='lh', views = ['lat', 'med'], time_viewer='auto', initial_time = -1.950,\n",
      "/tmp/ipykernel_1455566/1254178966.py:5: DeprecationWarning: The Mayavi 3D backend is deprecated in 0.24 and will be removed in the next version of MNE-Python. Use the pyvistaqt or notebook backends instead\n",
      "  brain = mne.viz.plot_source_estimates(stc_in_label, hemi='lh', views = ['lat', 'med'], time_viewer='auto', initial_time = -1.950,\n",
      "/tmp/ipykernel_1455566/1254178966.py:5: DeprecationWarning: The Mayavi 3D backend is deprecated in 0.24 and will be removed in the next version of MNE-Python. Use the pyvistaqt or notebook backends instead\n",
      "  brain = mne.viz.plot_source_estimates(stc_in_label, hemi='lh', views = ['lat', 'med'], time_viewer='auto', initial_time = -1.950,\n"
     ]
    },
    {
     "name": "stderr",
     "output_type": "stream",
     "text": [
      "/tmp/ipykernel_1455566/1254178966.py:5: DeprecationWarning: The Mayavi 3D backend is deprecated in 0.24 and will be removed in the next version of MNE-Python. Use the pyvistaqt or notebook backends instead\n",
      "  brain = mne.viz.plot_source_estimates(stc_in_label, hemi='lh', views = ['lat', 'med'], time_viewer='auto', initial_time = -1.950,\n",
      "/tmp/ipykernel_1455566/1254178966.py:5: DeprecationWarning: The Mayavi 3D backend is deprecated in 0.24 and will be removed in the next version of MNE-Python. Use the pyvistaqt or notebook backends instead\n",
      "  brain = mne.viz.plot_source_estimates(stc_in_label, hemi='lh', views = ['lat', 'med'], time_viewer='auto', initial_time = -1.950,\n",
      "/tmp/ipykernel_1455566/1254178966.py:5: DeprecationWarning: The Mayavi 3D backend is deprecated in 0.24 and will be removed in the next version of MNE-Python. Use the pyvistaqt or notebook backends instead\n",
      "  brain = mne.viz.plot_source_estimates(stc_in_label, hemi='lh', views = ['lat', 'med'], time_viewer='auto', initial_time = -1.950,\n",
      "/tmp/ipykernel_1455566/1254178966.py:5: DeprecationWarning: The Mayavi 3D backend is deprecated in 0.24 and will be removed in the next version of MNE-Python. Use the pyvistaqt or notebook backends instead\n",
      "  brain = mne.viz.plot_source_estimates(stc_in_label, hemi='lh', views = ['lat', 'med'], time_viewer='auto', initial_time = -1.950,\n",
      "/tmp/ipykernel_1455566/1254178966.py:5: DeprecationWarning: The Mayavi 3D backend is deprecated in 0.24 and will be removed in the next version of MNE-Python. Use the pyvistaqt or notebook backends instead\n",
      "  brain = mne.viz.plot_source_estimates(stc_in_label, hemi='lh', views = ['lat', 'med'], time_viewer='auto', initial_time = -1.950,\n",
      "/tmp/ipykernel_1455566/1254178966.py:5: DeprecationWarning: The Mayavi 3D backend is deprecated in 0.24 and will be removed in the next version of MNE-Python. Use the pyvistaqt or notebook backends instead\n",
      "  brain = mne.viz.plot_source_estimates(stc_in_label, hemi='lh', views = ['lat', 'med'], time_viewer='auto', initial_time = -1.950,\n",
      "/tmp/ipykernel_1455566/1254178966.py:5: DeprecationWarning: The Mayavi 3D backend is deprecated in 0.24 and will be removed in the next version of MNE-Python. Use the pyvistaqt or notebook backends instead\n",
      "  brain = mne.viz.plot_source_estimates(stc_in_label, hemi='lh', views = ['lat', 'med'], time_viewer='auto', initial_time = -1.950,\n",
      "/tmp/ipykernel_1455566/1254178966.py:5: DeprecationWarning: The Mayavi 3D backend is deprecated in 0.24 and will be removed in the next version of MNE-Python. Use the pyvistaqt or notebook backends instead\n",
      "  brain = mne.viz.plot_source_estimates(stc_in_label, hemi='lh', views = ['lat', 'med'], time_viewer='auto', initial_time = -1.950,\n",
      "/tmp/ipykernel_1455566/1254178966.py:5: DeprecationWarning: The Mayavi 3D backend is deprecated in 0.24 and will be removed in the next version of MNE-Python. Use the pyvistaqt or notebook backends instead\n",
      "  brain = mne.viz.plot_source_estimates(stc_in_label, hemi='lh', views = ['lat', 'med'], time_viewer='auto', initial_time = -1.950,\n",
      "/tmp/ipykernel_1455566/1254178966.py:5: DeprecationWarning: The Mayavi 3D backend is deprecated in 0.24 and will be removed in the next version of MNE-Python. Use the pyvistaqt or notebook backends instead\n",
      "  brain = mne.viz.plot_source_estimates(stc_in_label, hemi='lh', views = ['lat', 'med'], time_viewer='auto', initial_time = -1.950,\n",
      "/tmp/ipykernel_1455566/1254178966.py:5: DeprecationWarning: The Mayavi 3D backend is deprecated in 0.24 and will be removed in the next version of MNE-Python. Use the pyvistaqt or notebook backends instead\n",
      "  brain = mne.viz.plot_source_estimates(stc_in_label, hemi='lh', views = ['lat', 'med'], time_viewer='auto', initial_time = -1.950,\n",
      "/tmp/ipykernel_1455566/1254178966.py:5: DeprecationWarning: The Mayavi 3D backend is deprecated in 0.24 and will be removed in the next version of MNE-Python. Use the pyvistaqt or notebook backends instead\n",
      "  brain = mne.viz.plot_source_estimates(stc_in_label, hemi='lh', views = ['lat', 'med'], time_viewer='auto', initial_time = -1.950,\n",
      "/tmp/ipykernel_1455566/1254178966.py:5: DeprecationWarning: The Mayavi 3D backend is deprecated in 0.24 and will be removed in the next version of MNE-Python. Use the pyvistaqt or notebook backends instead\n",
      "  brain = mne.viz.plot_source_estimates(stc_in_label, hemi='lh', views = ['lat', 'med'], time_viewer='auto', initial_time = -1.950,\n",
      "/tmp/ipykernel_1455566/1254178966.py:5: DeprecationWarning: The Mayavi 3D backend is deprecated in 0.24 and will be removed in the next version of MNE-Python. Use the pyvistaqt or notebook backends instead\n",
      "  brain = mne.viz.plot_source_estimates(stc_in_label, hemi='lh', views = ['lat', 'med'], time_viewer='auto', initial_time = -1.950,\n",
      "/tmp/ipykernel_1455566/1254178966.py:5: DeprecationWarning: The Mayavi 3D backend is deprecated in 0.24 and will be removed in the next version of MNE-Python. Use the pyvistaqt or notebook backends instead\n",
      "  brain = mne.viz.plot_source_estimates(stc_in_label, hemi='lh', views = ['lat', 'med'], time_viewer='auto', initial_time = -1.950,\n",
      "/tmp/ipykernel_1455566/1254178966.py:5: DeprecationWarning: The Mayavi 3D backend is deprecated in 0.24 and will be removed in the next version of MNE-Python. Use the pyvistaqt or notebook backends instead\n",
      "  brain = mne.viz.plot_source_estimates(stc_in_label, hemi='lh', views = ['lat', 'med'], time_viewer='auto', initial_time = -1.950,\n",
      "/tmp/ipykernel_1455566/1254178966.py:5: DeprecationWarning: The Mayavi 3D backend is deprecated in 0.24 and will be removed in the next version of MNE-Python. Use the pyvistaqt or notebook backends instead\n",
      "  brain = mne.viz.plot_source_estimates(stc_in_label, hemi='lh', views = ['lat', 'med'], time_viewer='auto', initial_time = -1.950,\n",
      "/tmp/ipykernel_1455566/1254178966.py:5: DeprecationWarning: The Mayavi 3D backend is deprecated in 0.24 and will be removed in the next version of MNE-Python. Use the pyvistaqt or notebook backends instead\n",
      "  brain = mne.viz.plot_source_estimates(stc_in_label, hemi='lh', views = ['lat', 'med'], time_viewer='auto', initial_time = -1.950,\n",
      "/tmp/ipykernel_1455566/1254178966.py:5: DeprecationWarning: The Mayavi 3D backend is deprecated in 0.24 and will be removed in the next version of MNE-Python. Use the pyvistaqt or notebook backends instead\n",
      "  brain = mne.viz.plot_source_estimates(stc_in_label, hemi='lh', views = ['lat', 'med'], time_viewer='auto', initial_time = -1.950,\n",
      "/tmp/ipykernel_1455566/1254178966.py:5: DeprecationWarning: The Mayavi 3D backend is deprecated in 0.24 and will be removed in the next version of MNE-Python. Use the pyvistaqt or notebook backends instead\n",
      "  brain = mne.viz.plot_source_estimates(stc_in_label, hemi='lh', views = ['lat', 'med'], time_viewer='auto', initial_time = -1.950,\n",
      "/tmp/ipykernel_1455566/1254178966.py:5: DeprecationWarning: The Mayavi 3D backend is deprecated in 0.24 and will be removed in the next version of MNE-Python. Use the pyvistaqt or notebook backends instead\n",
      "  brain = mne.viz.plot_source_estimates(stc_in_label, hemi='lh', views = ['lat', 'med'], time_viewer='auto', initial_time = -1.950,\n",
      "/tmp/ipykernel_1455566/1254178966.py:5: DeprecationWarning: The Mayavi 3D backend is deprecated in 0.24 and will be removed in the next version of MNE-Python. Use the pyvistaqt or notebook backends instead\n",
      "  brain = mne.viz.plot_source_estimates(stc_in_label, hemi='lh', views = ['lat', 'med'], time_viewer='auto', initial_time = -1.950,\n",
      "/tmp/ipykernel_1455566/1254178966.py:5: DeprecationWarning: The Mayavi 3D backend is deprecated in 0.24 and will be removed in the next version of MNE-Python. Use the pyvistaqt or notebook backends instead\n",
      "  brain = mne.viz.plot_source_estimates(stc_in_label, hemi='lh', views = ['lat', 'med'], time_viewer='auto', initial_time = -1.950,\n",
      "/tmp/ipykernel_1455566/1254178966.py:5: DeprecationWarning: The Mayavi 3D backend is deprecated in 0.24 and will be removed in the next version of MNE-Python. Use the pyvistaqt or notebook backends instead\n",
      "  brain = mne.viz.plot_source_estimates(stc_in_label, hemi='lh', views = ['lat', 'med'], time_viewer='auto', initial_time = -1.950,\n",
      "/tmp/ipykernel_1455566/1254178966.py:5: DeprecationWarning: The Mayavi 3D backend is deprecated in 0.24 and will be removed in the next version of MNE-Python. Use the pyvistaqt or notebook backends instead\n",
      "  brain = mne.viz.plot_source_estimates(stc_in_label, hemi='lh', views = ['lat', 'med'], time_viewer='auto', initial_time = -1.950,\n",
      "/tmp/ipykernel_1455566/1254178966.py:5: DeprecationWarning: The Mayavi 3D backend is deprecated in 0.24 and will be removed in the next version of MNE-Python. Use the pyvistaqt or notebook backends instead\n",
      "  brain = mne.viz.plot_source_estimates(stc_in_label, hemi='lh', views = ['lat', 'med'], time_viewer='auto', initial_time = -1.950,\n"
     ]
    },
    {
     "name": "stderr",
     "output_type": "stream",
     "text": [
      "/tmp/ipykernel_1455566/1254178966.py:5: DeprecationWarning: The Mayavi 3D backend is deprecated in 0.24 and will be removed in the next version of MNE-Python. Use the pyvistaqt or notebook backends instead\n",
      "  brain = mne.viz.plot_source_estimates(stc_in_label, hemi='lh', views = ['lat', 'med'], time_viewer='auto', initial_time = -1.950,\n",
      "/tmp/ipykernel_1455566/1254178966.py:5: DeprecationWarning: The Mayavi 3D backend is deprecated in 0.24 and will be removed in the next version of MNE-Python. Use the pyvistaqt or notebook backends instead\n",
      "  brain = mne.viz.plot_source_estimates(stc_in_label, hemi='lh', views = ['lat', 'med'], time_viewer='auto', initial_time = -1.950,\n",
      "/tmp/ipykernel_1455566/1254178966.py:5: DeprecationWarning: The Mayavi 3D backend is deprecated in 0.24 and will be removed in the next version of MNE-Python. Use the pyvistaqt or notebook backends instead\n",
      "  brain = mne.viz.plot_source_estimates(stc_in_label, hemi='lh', views = ['lat', 'med'], time_viewer='auto', initial_time = -1.950,\n",
      "/tmp/ipykernel_1455566/1254178966.py:5: DeprecationWarning: The Mayavi 3D backend is deprecated in 0.24 and will be removed in the next version of MNE-Python. Use the pyvistaqt or notebook backends instead\n",
      "  brain = mne.viz.plot_source_estimates(stc_in_label, hemi='lh', views = ['lat', 'med'], time_viewer='auto', initial_time = -1.950,\n",
      "/tmp/ipykernel_1455566/1254178966.py:5: DeprecationWarning: The Mayavi 3D backend is deprecated in 0.24 and will be removed in the next version of MNE-Python. Use the pyvistaqt or notebook backends instead\n",
      "  brain = mne.viz.plot_source_estimates(stc_in_label, hemi='lh', views = ['lat', 'med'], time_viewer='auto', initial_time = -1.950,\n",
      "/tmp/ipykernel_1455566/1254178966.py:5: DeprecationWarning: The Mayavi 3D backend is deprecated in 0.24 and will be removed in the next version of MNE-Python. Use the pyvistaqt or notebook backends instead\n",
      "  brain = mne.viz.plot_source_estimates(stc_in_label, hemi='lh', views = ['lat', 'med'], time_viewer='auto', initial_time = -1.950,\n",
      "/tmp/ipykernel_1455566/1254178966.py:5: DeprecationWarning: The Mayavi 3D backend is deprecated in 0.24 and will be removed in the next version of MNE-Python. Use the pyvistaqt or notebook backends instead\n",
      "  brain = mne.viz.plot_source_estimates(stc_in_label, hemi='lh', views = ['lat', 'med'], time_viewer='auto', initial_time = -1.950,\n",
      "/tmp/ipykernel_1455566/1254178966.py:5: DeprecationWarning: The Mayavi 3D backend is deprecated in 0.24 and will be removed in the next version of MNE-Python. Use the pyvistaqt or notebook backends instead\n",
      "  brain = mne.viz.plot_source_estimates(stc_in_label, hemi='lh', views = ['lat', 'med'], time_viewer='auto', initial_time = -1.950,\n",
      "/tmp/ipykernel_1455566/1254178966.py:5: DeprecationWarning: The Mayavi 3D backend is deprecated in 0.24 and will be removed in the next version of MNE-Python. Use the pyvistaqt or notebook backends instead\n",
      "  brain = mne.viz.plot_source_estimates(stc_in_label, hemi='lh', views = ['lat', 'med'], time_viewer='auto', initial_time = -1.950,\n",
      "/tmp/ipykernel_1455566/1254178966.py:5: DeprecationWarning: The Mayavi 3D backend is deprecated in 0.24 and will be removed in the next version of MNE-Python. Use the pyvistaqt or notebook backends instead\n",
      "  brain = mne.viz.plot_source_estimates(stc_in_label, hemi='lh', views = ['lat', 'med'], time_viewer='auto', initial_time = -1.950,\n",
      "/tmp/ipykernel_1455566/1254178966.py:5: DeprecationWarning: The Mayavi 3D backend is deprecated in 0.24 and will be removed in the next version of MNE-Python. Use the pyvistaqt or notebook backends instead\n",
      "  brain = mne.viz.plot_source_estimates(stc_in_label, hemi='lh', views = ['lat', 'med'], time_viewer='auto', initial_time = -1.950,\n",
      "/tmp/ipykernel_1455566/1254178966.py:5: DeprecationWarning: The Mayavi 3D backend is deprecated in 0.24 and will be removed in the next version of MNE-Python. Use the pyvistaqt or notebook backends instead\n",
      "  brain = mne.viz.plot_source_estimates(stc_in_label, hemi='lh', views = ['lat', 'med'], time_viewer='auto', initial_time = -1.950,\n",
      "/tmp/ipykernel_1455566/1254178966.py:5: DeprecationWarning: The Mayavi 3D backend is deprecated in 0.24 and will be removed in the next version of MNE-Python. Use the pyvistaqt or notebook backends instead\n",
      "  brain = mne.viz.plot_source_estimates(stc_in_label, hemi='lh', views = ['lat', 'med'], time_viewer='auto', initial_time = -1.950,\n",
      "/tmp/ipykernel_1455566/1254178966.py:5: DeprecationWarning: The Mayavi 3D backend is deprecated in 0.24 and will be removed in the next version of MNE-Python. Use the pyvistaqt or notebook backends instead\n",
      "  brain = mne.viz.plot_source_estimates(stc_in_label, hemi='lh', views = ['lat', 'med'], time_viewer='auto', initial_time = -1.950,\n",
      "/tmp/ipykernel_1455566/1254178966.py:5: DeprecationWarning: The Mayavi 3D backend is deprecated in 0.24 and will be removed in the next version of MNE-Python. Use the pyvistaqt or notebook backends instead\n",
      "  brain = mne.viz.plot_source_estimates(stc_in_label, hemi='lh', views = ['lat', 'med'], time_viewer='auto', initial_time = -1.950,\n",
      "/tmp/ipykernel_1455566/1254178966.py:5: DeprecationWarning: The Mayavi 3D backend is deprecated in 0.24 and will be removed in the next version of MNE-Python. Use the pyvistaqt or notebook backends instead\n",
      "  brain = mne.viz.plot_source_estimates(stc_in_label, hemi='lh', views = ['lat', 'med'], time_viewer='auto', initial_time = -1.950,\n",
      "/tmp/ipykernel_1455566/1254178966.py:5: DeprecationWarning: The Mayavi 3D backend is deprecated in 0.24 and will be removed in the next version of MNE-Python. Use the pyvistaqt or notebook backends instead\n",
      "  brain = mne.viz.plot_source_estimates(stc_in_label, hemi='lh', views = ['lat', 'med'], time_viewer='auto', initial_time = -1.950,\n",
      "/tmp/ipykernel_1455566/1254178966.py:5: DeprecationWarning: The Mayavi 3D backend is deprecated in 0.24 and will be removed in the next version of MNE-Python. Use the pyvistaqt or notebook backends instead\n",
      "  brain = mne.viz.plot_source_estimates(stc_in_label, hemi='lh', views = ['lat', 'med'], time_viewer='auto', initial_time = -1.950,\n",
      "/tmp/ipykernel_1455566/1254178966.py:5: DeprecationWarning: The Mayavi 3D backend is deprecated in 0.24 and will be removed in the next version of MNE-Python. Use the pyvistaqt or notebook backends instead\n",
      "  brain = mne.viz.plot_source_estimates(stc_in_label, hemi='lh', views = ['lat', 'med'], time_viewer='auto', initial_time = -1.950,\n",
      "/tmp/ipykernel_1455566/1254178966.py:5: DeprecationWarning: The Mayavi 3D backend is deprecated in 0.24 and will be removed in the next version of MNE-Python. Use the pyvistaqt or notebook backends instead\n",
      "  brain = mne.viz.plot_source_estimates(stc_in_label, hemi='lh', views = ['lat', 'med'], time_viewer='auto', initial_time = -1.950,\n",
      "/tmp/ipykernel_1455566/1254178966.py:5: DeprecationWarning: The Mayavi 3D backend is deprecated in 0.24 and will be removed in the next version of MNE-Python. Use the pyvistaqt or notebook backends instead\n",
      "  brain = mne.viz.plot_source_estimates(stc_in_label, hemi='lh', views = ['lat', 'med'], time_viewer='auto', initial_time = -1.950,\n",
      "/tmp/ipykernel_1455566/1254178966.py:5: DeprecationWarning: The Mayavi 3D backend is deprecated in 0.24 and will be removed in the next version of MNE-Python. Use the pyvistaqt or notebook backends instead\n",
      "  brain = mne.viz.plot_source_estimates(stc_in_label, hemi='lh', views = ['lat', 'med'], time_viewer='auto', initial_time = -1.950,\n",
      "/tmp/ipykernel_1455566/1254178966.py:5: DeprecationWarning: The Mayavi 3D backend is deprecated in 0.24 and will be removed in the next version of MNE-Python. Use the pyvistaqt or notebook backends instead\n",
      "  brain = mne.viz.plot_source_estimates(stc_in_label, hemi='lh', views = ['lat', 'med'], time_viewer='auto', initial_time = -1.950,\n",
      "/tmp/ipykernel_1455566/1254178966.py:5: DeprecationWarning: The Mayavi 3D backend is deprecated in 0.24 and will be removed in the next version of MNE-Python. Use the pyvistaqt or notebook backends instead\n",
      "  brain = mne.viz.plot_source_estimates(stc_in_label, hemi='lh', views = ['lat', 'med'], time_viewer='auto', initial_time = -1.950,\n",
      "/tmp/ipykernel_1455566/1254178966.py:5: DeprecationWarning: The Mayavi 3D backend is deprecated in 0.24 and will be removed in the next version of MNE-Python. Use the pyvistaqt or notebook backends instead\n",
      "  brain = mne.viz.plot_source_estimates(stc_in_label, hemi='lh', views = ['lat', 'med'], time_viewer='auto', initial_time = -1.950,\n",
      "/tmp/ipykernel_1455566/1254178966.py:5: DeprecationWarning: The Mayavi 3D backend is deprecated in 0.24 and will be removed in the next version of MNE-Python. Use the pyvistaqt or notebook backends instead\n",
      "  brain = mne.viz.plot_source_estimates(stc_in_label, hemi='lh', views = ['lat', 'med'], time_viewer='auto', initial_time = -1.950,\n"
     ]
    },
    {
     "name": "stderr",
     "output_type": "stream",
     "text": [
      "/tmp/ipykernel_1455566/1254178966.py:5: DeprecationWarning: The Mayavi 3D backend is deprecated in 0.24 and will be removed in the next version of MNE-Python. Use the pyvistaqt or notebook backends instead\n",
      "  brain = mne.viz.plot_source_estimates(stc_in_label, hemi='lh', views = ['lat', 'med'], time_viewer='auto', initial_time = -1.950,\n",
      "/tmp/ipykernel_1455566/1254178966.py:5: DeprecationWarning: The Mayavi 3D backend is deprecated in 0.24 and will be removed in the next version of MNE-Python. Use the pyvistaqt or notebook backends instead\n",
      "  brain = mne.viz.plot_source_estimates(stc_in_label, hemi='lh', views = ['lat', 'med'], time_viewer='auto', initial_time = -1.950,\n",
      "/tmp/ipykernel_1455566/1254178966.py:5: DeprecationWarning: The Mayavi 3D backend is deprecated in 0.24 and will be removed in the next version of MNE-Python. Use the pyvistaqt or notebook backends instead\n",
      "  brain = mne.viz.plot_source_estimates(stc_in_label, hemi='lh', views = ['lat', 'med'], time_viewer='auto', initial_time = -1.950,\n",
      "/tmp/ipykernel_1455566/1254178966.py:5: DeprecationWarning: The Mayavi 3D backend is deprecated in 0.24 and will be removed in the next version of MNE-Python. Use the pyvistaqt or notebook backends instead\n",
      "  brain = mne.viz.plot_source_estimates(stc_in_label, hemi='lh', views = ['lat', 'med'], time_viewer='auto', initial_time = -1.950,\n",
      "/tmp/ipykernel_1455566/1254178966.py:5: DeprecationWarning: The Mayavi 3D backend is deprecated in 0.24 and will be removed in the next version of MNE-Python. Use the pyvistaqt or notebook backends instead\n",
      "  brain = mne.viz.plot_source_estimates(stc_in_label, hemi='lh', views = ['lat', 'med'], time_viewer='auto', initial_time = -1.950,\n",
      "/tmp/ipykernel_1455566/1254178966.py:5: DeprecationWarning: The Mayavi 3D backend is deprecated in 0.24 and will be removed in the next version of MNE-Python. Use the pyvistaqt or notebook backends instead\n",
      "  brain = mne.viz.plot_source_estimates(stc_in_label, hemi='lh', views = ['lat', 'med'], time_viewer='auto', initial_time = -1.950,\n",
      "/tmp/ipykernel_1455566/1254178966.py:5: DeprecationWarning: The Mayavi 3D backend is deprecated in 0.24 and will be removed in the next version of MNE-Python. Use the pyvistaqt or notebook backends instead\n",
      "  brain = mne.viz.plot_source_estimates(stc_in_label, hemi='lh', views = ['lat', 'med'], time_viewer='auto', initial_time = -1.950,\n",
      "/tmp/ipykernel_1455566/1254178966.py:5: DeprecationWarning: The Mayavi 3D backend is deprecated in 0.24 and will be removed in the next version of MNE-Python. Use the pyvistaqt or notebook backends instead\n",
      "  brain = mne.viz.plot_source_estimates(stc_in_label, hemi='lh', views = ['lat', 'med'], time_viewer='auto', initial_time = -1.950,\n",
      "/tmp/ipykernel_1455566/1254178966.py:5: DeprecationWarning: The Mayavi 3D backend is deprecated in 0.24 and will be removed in the next version of MNE-Python. Use the pyvistaqt or notebook backends instead\n",
      "  brain = mne.viz.plot_source_estimates(stc_in_label, hemi='lh', views = ['lat', 'med'], time_viewer='auto', initial_time = -1.950,\n",
      "/tmp/ipykernel_1455566/1254178966.py:5: DeprecationWarning: The Mayavi 3D backend is deprecated in 0.24 and will be removed in the next version of MNE-Python. Use the pyvistaqt or notebook backends instead\n",
      "  brain = mne.viz.plot_source_estimates(stc_in_label, hemi='lh', views = ['lat', 'med'], time_viewer='auto', initial_time = -1.950,\n",
      "/tmp/ipykernel_1455566/1254178966.py:5: DeprecationWarning: The Mayavi 3D backend is deprecated in 0.24 and will be removed in the next version of MNE-Python. Use the pyvistaqt or notebook backends instead\n",
      "  brain = mne.viz.plot_source_estimates(stc_in_label, hemi='lh', views = ['lat', 'med'], time_viewer='auto', initial_time = -1.950,\n",
      "/tmp/ipykernel_1455566/1254178966.py:5: DeprecationWarning: The Mayavi 3D backend is deprecated in 0.24 and will be removed in the next version of MNE-Python. Use the pyvistaqt or notebook backends instead\n",
      "  brain = mne.viz.plot_source_estimates(stc_in_label, hemi='lh', views = ['lat', 'med'], time_viewer='auto', initial_time = -1.950,\n",
      "/tmp/ipykernel_1455566/1254178966.py:5: DeprecationWarning: The Mayavi 3D backend is deprecated in 0.24 and will be removed in the next version of MNE-Python. Use the pyvistaqt or notebook backends instead\n",
      "  brain = mne.viz.plot_source_estimates(stc_in_label, hemi='lh', views = ['lat', 'med'], time_viewer='auto', initial_time = -1.950,\n",
      "/tmp/ipykernel_1455566/1254178966.py:5: DeprecationWarning: The Mayavi 3D backend is deprecated in 0.24 and will be removed in the next version of MNE-Python. Use the pyvistaqt or notebook backends instead\n",
      "  brain = mne.viz.plot_source_estimates(stc_in_label, hemi='lh', views = ['lat', 'med'], time_viewer='auto', initial_time = -1.950,\n",
      "/tmp/ipykernel_1455566/1254178966.py:5: DeprecationWarning: The Mayavi 3D backend is deprecated in 0.24 and will be removed in the next version of MNE-Python. Use the pyvistaqt or notebook backends instead\n",
      "  brain = mne.viz.plot_source_estimates(stc_in_label, hemi='lh', views = ['lat', 'med'], time_viewer='auto', initial_time = -1.950,\n",
      "/tmp/ipykernel_1455566/1254178966.py:5: DeprecationWarning: The Mayavi 3D backend is deprecated in 0.24 and will be removed in the next version of MNE-Python. Use the pyvistaqt or notebook backends instead\n",
      "  brain = mne.viz.plot_source_estimates(stc_in_label, hemi='lh', views = ['lat', 'med'], time_viewer='auto', initial_time = -1.950,\n",
      "/tmp/ipykernel_1455566/1254178966.py:5: DeprecationWarning: The Mayavi 3D backend is deprecated in 0.24 and will be removed in the next version of MNE-Python. Use the pyvistaqt or notebook backends instead\n",
      "  brain = mne.viz.plot_source_estimates(stc_in_label, hemi='lh', views = ['lat', 'med'], time_viewer='auto', initial_time = -1.950,\n",
      "/tmp/ipykernel_1455566/1254178966.py:5: DeprecationWarning: The Mayavi 3D backend is deprecated in 0.24 and will be removed in the next version of MNE-Python. Use the pyvistaqt or notebook backends instead\n",
      "  brain = mne.viz.plot_source_estimates(stc_in_label, hemi='lh', views = ['lat', 'med'], time_viewer='auto', initial_time = -1.950,\n",
      "/tmp/ipykernel_1455566/1254178966.py:5: DeprecationWarning: The Mayavi 3D backend is deprecated in 0.24 and will be removed in the next version of MNE-Python. Use the pyvistaqt or notebook backends instead\n",
      "  brain = mne.viz.plot_source_estimates(stc_in_label, hemi='lh', views = ['lat', 'med'], time_viewer='auto', initial_time = -1.950,\n",
      "/tmp/ipykernel_1455566/1254178966.py:5: DeprecationWarning: The Mayavi 3D backend is deprecated in 0.24 and will be removed in the next version of MNE-Python. Use the pyvistaqt or notebook backends instead\n",
      "  brain = mne.viz.plot_source_estimates(stc_in_label, hemi='lh', views = ['lat', 'med'], time_viewer='auto', initial_time = -1.950,\n",
      "/tmp/ipykernel_1455566/1254178966.py:5: DeprecationWarning: The Mayavi 3D backend is deprecated in 0.24 and will be removed in the next version of MNE-Python. Use the pyvistaqt or notebook backends instead\n",
      "  brain = mne.viz.plot_source_estimates(stc_in_label, hemi='lh', views = ['lat', 'med'], time_viewer='auto', initial_time = -1.950,\n",
      "/tmp/ipykernel_1455566/1254178966.py:5: DeprecationWarning: The Mayavi 3D backend is deprecated in 0.24 and will be removed in the next version of MNE-Python. Use the pyvistaqt or notebook backends instead\n",
      "  brain = mne.viz.plot_source_estimates(stc_in_label, hemi='lh', views = ['lat', 'med'], time_viewer='auto', initial_time = -1.950,\n",
      "/tmp/ipykernel_1455566/1254178966.py:5: DeprecationWarning: The Mayavi 3D backend is deprecated in 0.24 and will be removed in the next version of MNE-Python. Use the pyvistaqt or notebook backends instead\n",
      "  brain = mne.viz.plot_source_estimates(stc_in_label, hemi='lh', views = ['lat', 'med'], time_viewer='auto', initial_time = -1.950,\n",
      "/tmp/ipykernel_1455566/1254178966.py:5: DeprecationWarning: The Mayavi 3D backend is deprecated in 0.24 and will be removed in the next version of MNE-Python. Use the pyvistaqt or notebook backends instead\n",
      "  brain = mne.viz.plot_source_estimates(stc_in_label, hemi='lh', views = ['lat', 'med'], time_viewer='auto', initial_time = -1.950,\n",
      "/tmp/ipykernel_1455566/1254178966.py:5: DeprecationWarning: The Mayavi 3D backend is deprecated in 0.24 and will be removed in the next version of MNE-Python. Use the pyvistaqt or notebook backends instead\n",
      "  brain = mne.viz.plot_source_estimates(stc_in_label, hemi='lh', views = ['lat', 'med'], time_viewer='auto', initial_time = -1.950,\n",
      "/tmp/ipykernel_1455566/1254178966.py:5: DeprecationWarning: The Mayavi 3D backend is deprecated in 0.24 and will be removed in the next version of MNE-Python. Use the pyvistaqt or notebook backends instead\n",
      "  brain = mne.viz.plot_source_estimates(stc_in_label, hemi='lh', views = ['lat', 'med'], time_viewer='auto', initial_time = -1.950,\n"
     ]
    },
    {
     "name": "stderr",
     "output_type": "stream",
     "text": [
      "/tmp/ipykernel_1455566/1254178966.py:5: DeprecationWarning: The Mayavi 3D backend is deprecated in 0.24 and will be removed in the next version of MNE-Python. Use the pyvistaqt or notebook backends instead\n",
      "  brain = mne.viz.plot_source_estimates(stc_in_label, hemi='lh', views = ['lat', 'med'], time_viewer='auto', initial_time = -1.950,\n",
      "/tmp/ipykernel_1455566/1254178966.py:5: DeprecationWarning: The Mayavi 3D backend is deprecated in 0.24 and will be removed in the next version of MNE-Python. Use the pyvistaqt or notebook backends instead\n",
      "  brain = mne.viz.plot_source_estimates(stc_in_label, hemi='lh', views = ['lat', 'med'], time_viewer='auto', initial_time = -1.950,\n",
      "/tmp/ipykernel_1455566/1254178966.py:5: DeprecationWarning: The Mayavi 3D backend is deprecated in 0.24 and will be removed in the next version of MNE-Python. Use the pyvistaqt or notebook backends instead\n",
      "  brain = mne.viz.plot_source_estimates(stc_in_label, hemi='lh', views = ['lat', 'med'], time_viewer='auto', initial_time = -1.950,\n",
      "/tmp/ipykernel_1455566/1254178966.py:5: DeprecationWarning: The Mayavi 3D backend is deprecated in 0.24 and will be removed in the next version of MNE-Python. Use the pyvistaqt or notebook backends instead\n",
      "  brain = mne.viz.plot_source_estimates(stc_in_label, hemi='lh', views = ['lat', 'med'], time_viewer='auto', initial_time = -1.950,\n",
      "/tmp/ipykernel_1455566/1254178966.py:5: DeprecationWarning: The Mayavi 3D backend is deprecated in 0.24 and will be removed in the next version of MNE-Python. Use the pyvistaqt or notebook backends instead\n",
      "  brain = mne.viz.plot_source_estimates(stc_in_label, hemi='lh', views = ['lat', 'med'], time_viewer='auto', initial_time = -1.950,\n",
      "/tmp/ipykernel_1455566/1254178966.py:5: DeprecationWarning: The Mayavi 3D backend is deprecated in 0.24 and will be removed in the next version of MNE-Python. Use the pyvistaqt or notebook backends instead\n",
      "  brain = mne.viz.plot_source_estimates(stc_in_label, hemi='lh', views = ['lat', 'med'], time_viewer='auto', initial_time = -1.950,\n",
      "/tmp/ipykernel_1455566/1254178966.py:5: DeprecationWarning: The Mayavi 3D backend is deprecated in 0.24 and will be removed in the next version of MNE-Python. Use the pyvistaqt or notebook backends instead\n",
      "  brain = mne.viz.plot_source_estimates(stc_in_label, hemi='lh', views = ['lat', 'med'], time_viewer='auto', initial_time = -1.950,\n",
      "/tmp/ipykernel_1455566/1254178966.py:5: DeprecationWarning: The Mayavi 3D backend is deprecated in 0.24 and will be removed in the next version of MNE-Python. Use the pyvistaqt or notebook backends instead\n",
      "  brain = mne.viz.plot_source_estimates(stc_in_label, hemi='lh', views = ['lat', 'med'], time_viewer='auto', initial_time = -1.950,\n",
      "/tmp/ipykernel_1455566/1254178966.py:5: DeprecationWarning: The Mayavi 3D backend is deprecated in 0.24 and will be removed in the next version of MNE-Python. Use the pyvistaqt or notebook backends instead\n",
      "  brain = mne.viz.plot_source_estimates(stc_in_label, hemi='lh', views = ['lat', 'med'], time_viewer='auto', initial_time = -1.950,\n",
      "/tmp/ipykernel_1455566/1254178966.py:5: DeprecationWarning: The Mayavi 3D backend is deprecated in 0.24 and will be removed in the next version of MNE-Python. Use the pyvistaqt or notebook backends instead\n",
      "  brain = mne.viz.plot_source_estimates(stc_in_label, hemi='lh', views = ['lat', 'med'], time_viewer='auto', initial_time = -1.950,\n",
      "/tmp/ipykernel_1455566/1254178966.py:5: DeprecationWarning: The Mayavi 3D backend is deprecated in 0.24 and will be removed in the next version of MNE-Python. Use the pyvistaqt or notebook backends instead\n",
      "  brain = mne.viz.plot_source_estimates(stc_in_label, hemi='lh', views = ['lat', 'med'], time_viewer='auto', initial_time = -1.950,\n",
      "/tmp/ipykernel_1455566/1254178966.py:5: DeprecationWarning: The Mayavi 3D backend is deprecated in 0.24 and will be removed in the next version of MNE-Python. Use the pyvistaqt or notebook backends instead\n",
      "  brain = mne.viz.plot_source_estimates(stc_in_label, hemi='lh', views = ['lat', 'med'], time_viewer='auto', initial_time = -1.950,\n",
      "/tmp/ipykernel_1455566/1254178966.py:5: DeprecationWarning: The Mayavi 3D backend is deprecated in 0.24 and will be removed in the next version of MNE-Python. Use the pyvistaqt or notebook backends instead\n",
      "  brain = mne.viz.plot_source_estimates(stc_in_label, hemi='lh', views = ['lat', 'med'], time_viewer='auto', initial_time = -1.950,\n",
      "/tmp/ipykernel_1455566/1254178966.py:5: DeprecationWarning: The Mayavi 3D backend is deprecated in 0.24 and will be removed in the next version of MNE-Python. Use the pyvistaqt or notebook backends instead\n",
      "  brain = mne.viz.plot_source_estimates(stc_in_label, hemi='lh', views = ['lat', 'med'], time_viewer='auto', initial_time = -1.950,\n",
      "/tmp/ipykernel_1455566/1254178966.py:5: DeprecationWarning: The Mayavi 3D backend is deprecated in 0.24 and will be removed in the next version of MNE-Python. Use the pyvistaqt or notebook backends instead\n",
      "  brain = mne.viz.plot_source_estimates(stc_in_label, hemi='lh', views = ['lat', 'med'], time_viewer='auto', initial_time = -1.950,\n",
      "/tmp/ipykernel_1455566/1254178966.py:5: DeprecationWarning: The Mayavi 3D backend is deprecated in 0.24 and will be removed in the next version of MNE-Python. Use the pyvistaqt or notebook backends instead\n",
      "  brain = mne.viz.plot_source_estimates(stc_in_label, hemi='lh', views = ['lat', 'med'], time_viewer='auto', initial_time = -1.950,\n",
      "/tmp/ipykernel_1455566/1254178966.py:5: DeprecationWarning: The Mayavi 3D backend is deprecated in 0.24 and will be removed in the next version of MNE-Python. Use the pyvistaqt or notebook backends instead\n",
      "  brain = mne.viz.plot_source_estimates(stc_in_label, hemi='lh', views = ['lat', 'med'], time_viewer='auto', initial_time = -1.950,\n",
      "/tmp/ipykernel_1455566/1254178966.py:5: DeprecationWarning: The Mayavi 3D backend is deprecated in 0.24 and will be removed in the next version of MNE-Python. Use the pyvistaqt or notebook backends instead\n",
      "  brain = mne.viz.plot_source_estimates(stc_in_label, hemi='lh', views = ['lat', 'med'], time_viewer='auto', initial_time = -1.950,\n",
      "/tmp/ipykernel_1455566/1254178966.py:5: DeprecationWarning: The Mayavi 3D backend is deprecated in 0.24 and will be removed in the next version of MNE-Python. Use the pyvistaqt or notebook backends instead\n",
      "  brain = mne.viz.plot_source_estimates(stc_in_label, hemi='lh', views = ['lat', 'med'], time_viewer='auto', initial_time = -1.950,\n",
      "/tmp/ipykernel_1455566/1254178966.py:5: DeprecationWarning: The Mayavi 3D backend is deprecated in 0.24 and will be removed in the next version of MNE-Python. Use the pyvistaqt or notebook backends instead\n",
      "  brain = mne.viz.plot_source_estimates(stc_in_label, hemi='lh', views = ['lat', 'med'], time_viewer='auto', initial_time = -1.950,\n",
      "/tmp/ipykernel_1455566/1254178966.py:5: DeprecationWarning: The Mayavi 3D backend is deprecated in 0.24 and will be removed in the next version of MNE-Python. Use the pyvistaqt or notebook backends instead\n",
      "  brain = mne.viz.plot_source_estimates(stc_in_label, hemi='lh', views = ['lat', 'med'], time_viewer='auto', initial_time = -1.950,\n",
      "/tmp/ipykernel_1455566/1254178966.py:5: DeprecationWarning: The Mayavi 3D backend is deprecated in 0.24 and will be removed in the next version of MNE-Python. Use the pyvistaqt or notebook backends instead\n",
      "  brain = mne.viz.plot_source_estimates(stc_in_label, hemi='lh', views = ['lat', 'med'], time_viewer='auto', initial_time = -1.950,\n",
      "/tmp/ipykernel_1455566/1254178966.py:5: DeprecationWarning: The Mayavi 3D backend is deprecated in 0.24 and will be removed in the next version of MNE-Python. Use the pyvistaqt or notebook backends instead\n",
      "  brain = mne.viz.plot_source_estimates(stc_in_label, hemi='lh', views = ['lat', 'med'], time_viewer='auto', initial_time = -1.950,\n",
      "/tmp/ipykernel_1455566/1254178966.py:5: DeprecationWarning: The Mayavi 3D backend is deprecated in 0.24 and will be removed in the next version of MNE-Python. Use the pyvistaqt or notebook backends instead\n",
      "  brain = mne.viz.plot_source_estimates(stc_in_label, hemi='lh', views = ['lat', 'med'], time_viewer='auto', initial_time = -1.950,\n",
      "/tmp/ipykernel_1455566/1254178966.py:5: DeprecationWarning: The Mayavi 3D backend is deprecated in 0.24 and will be removed in the next version of MNE-Python. Use the pyvistaqt or notebook backends instead\n",
      "  brain = mne.viz.plot_source_estimates(stc_in_label, hemi='lh', views = ['lat', 'med'], time_viewer='auto', initial_time = -1.950,\n",
      "/tmp/ipykernel_1455566/1254178966.py:5: DeprecationWarning: The Mayavi 3D backend is deprecated in 0.24 and will be removed in the next version of MNE-Python. Use the pyvistaqt or notebook backends instead\n",
      "  brain = mne.viz.plot_source_estimates(stc_in_label, hemi='lh', views = ['lat', 'med'], time_viewer='auto', initial_time = -1.950,\n"
     ]
    },
    {
     "name": "stderr",
     "output_type": "stream",
     "text": [
      "/tmp/ipykernel_1455566/1254178966.py:5: DeprecationWarning: The Mayavi 3D backend is deprecated in 0.24 and will be removed in the next version of MNE-Python. Use the pyvistaqt or notebook backends instead\n",
      "  brain = mne.viz.plot_source_estimates(stc_in_label, hemi='lh', views = ['lat', 'med'], time_viewer='auto', initial_time = -1.950,\n",
      "/tmp/ipykernel_1455566/1254178966.py:5: DeprecationWarning: The Mayavi 3D backend is deprecated in 0.24 and will be removed in the next version of MNE-Python. Use the pyvistaqt or notebook backends instead\n",
      "  brain = mne.viz.plot_source_estimates(stc_in_label, hemi='lh', views = ['lat', 'med'], time_viewer='auto', initial_time = -1.950,\n",
      "/tmp/ipykernel_1455566/1254178966.py:5: DeprecationWarning: The Mayavi 3D backend is deprecated in 0.24 and will be removed in the next version of MNE-Python. Use the pyvistaqt or notebook backends instead\n",
      "  brain = mne.viz.plot_source_estimates(stc_in_label, hemi='lh', views = ['lat', 'med'], time_viewer='auto', initial_time = -1.950,\n",
      "/tmp/ipykernel_1455566/1254178966.py:5: DeprecationWarning: The Mayavi 3D backend is deprecated in 0.24 and will be removed in the next version of MNE-Python. Use the pyvistaqt or notebook backends instead\n",
      "  brain = mne.viz.plot_source_estimates(stc_in_label, hemi='lh', views = ['lat', 'med'], time_viewer='auto', initial_time = -1.950,\n",
      "/tmp/ipykernel_1455566/1254178966.py:5: DeprecationWarning: The Mayavi 3D backend is deprecated in 0.24 and will be removed in the next version of MNE-Python. Use the pyvistaqt or notebook backends instead\n",
      "  brain = mne.viz.plot_source_estimates(stc_in_label, hemi='lh', views = ['lat', 'med'], time_viewer='auto', initial_time = -1.950,\n",
      "/tmp/ipykernel_1455566/1254178966.py:5: DeprecationWarning: The Mayavi 3D backend is deprecated in 0.24 and will be removed in the next version of MNE-Python. Use the pyvistaqt or notebook backends instead\n",
      "  brain = mne.viz.plot_source_estimates(stc_in_label, hemi='lh', views = ['lat', 'med'], time_viewer='auto', initial_time = -1.950,\n",
      "/tmp/ipykernel_1455566/1254178966.py:5: DeprecationWarning: The Mayavi 3D backend is deprecated in 0.24 and will be removed in the next version of MNE-Python. Use the pyvistaqt or notebook backends instead\n",
      "  brain = mne.viz.plot_source_estimates(stc_in_label, hemi='lh', views = ['lat', 'med'], time_viewer='auto', initial_time = -1.950,\n",
      "/tmp/ipykernel_1455566/1254178966.py:5: DeprecationWarning: The Mayavi 3D backend is deprecated in 0.24 and will be removed in the next version of MNE-Python. Use the pyvistaqt or notebook backends instead\n",
      "  brain = mne.viz.plot_source_estimates(stc_in_label, hemi='lh', views = ['lat', 'med'], time_viewer='auto', initial_time = -1.950,\n",
      "/tmp/ipykernel_1455566/1254178966.py:5: DeprecationWarning: The Mayavi 3D backend is deprecated in 0.24 and will be removed in the next version of MNE-Python. Use the pyvistaqt or notebook backends instead\n",
      "  brain = mne.viz.plot_source_estimates(stc_in_label, hemi='lh', views = ['lat', 'med'], time_viewer='auto', initial_time = -1.950,\n",
      "/tmp/ipykernel_1455566/1254178966.py:5: DeprecationWarning: The Mayavi 3D backend is deprecated in 0.24 and will be removed in the next version of MNE-Python. Use the pyvistaqt or notebook backends instead\n",
      "  brain = mne.viz.plot_source_estimates(stc_in_label, hemi='lh', views = ['lat', 'med'], time_viewer='auto', initial_time = -1.950,\n",
      "/tmp/ipykernel_1455566/1254178966.py:5: DeprecationWarning: The Mayavi 3D backend is deprecated in 0.24 and will be removed in the next version of MNE-Python. Use the pyvistaqt or notebook backends instead\n",
      "  brain = mne.viz.plot_source_estimates(stc_in_label, hemi='lh', views = ['lat', 'med'], time_viewer='auto', initial_time = -1.950,\n",
      "/tmp/ipykernel_1455566/1254178966.py:5: DeprecationWarning: The Mayavi 3D backend is deprecated in 0.24 and will be removed in the next version of MNE-Python. Use the pyvistaqt or notebook backends instead\n",
      "  brain = mne.viz.plot_source_estimates(stc_in_label, hemi='lh', views = ['lat', 'med'], time_viewer='auto', initial_time = -1.950,\n",
      "/tmp/ipykernel_1455566/1254178966.py:5: DeprecationWarning: The Mayavi 3D backend is deprecated in 0.24 and will be removed in the next version of MNE-Python. Use the pyvistaqt or notebook backends instead\n",
      "  brain = mne.viz.plot_source_estimates(stc_in_label, hemi='lh', views = ['lat', 'med'], time_viewer='auto', initial_time = -1.950,\n",
      "/tmp/ipykernel_1455566/1254178966.py:5: DeprecationWarning: The Mayavi 3D backend is deprecated in 0.24 and will be removed in the next version of MNE-Python. Use the pyvistaqt or notebook backends instead\n",
      "  brain = mne.viz.plot_source_estimates(stc_in_label, hemi='lh', views = ['lat', 'med'], time_viewer='auto', initial_time = -1.950,\n",
      "/tmp/ipykernel_1455566/1254178966.py:5: DeprecationWarning: The Mayavi 3D backend is deprecated in 0.24 and will be removed in the next version of MNE-Python. Use the pyvistaqt or notebook backends instead\n",
      "  brain = mne.viz.plot_source_estimates(stc_in_label, hemi='lh', views = ['lat', 'med'], time_viewer='auto', initial_time = -1.950,\n",
      "/tmp/ipykernel_1455566/1254178966.py:5: DeprecationWarning: The Mayavi 3D backend is deprecated in 0.24 and will be removed in the next version of MNE-Python. Use the pyvistaqt or notebook backends instead\n",
      "  brain = mne.viz.plot_source_estimates(stc_in_label, hemi='lh', views = ['lat', 'med'], time_viewer='auto', initial_time = -1.950,\n",
      "/tmp/ipykernel_1455566/1254178966.py:5: DeprecationWarning: The Mayavi 3D backend is deprecated in 0.24 and will be removed in the next version of MNE-Python. Use the pyvistaqt or notebook backends instead\n",
      "  brain = mne.viz.plot_source_estimates(stc_in_label, hemi='lh', views = ['lat', 'med'], time_viewer='auto', initial_time = -1.950,\n",
      "/tmp/ipykernel_1455566/1254178966.py:5: DeprecationWarning: The Mayavi 3D backend is deprecated in 0.24 and will be removed in the next version of MNE-Python. Use the pyvistaqt or notebook backends instead\n",
      "  brain = mne.viz.plot_source_estimates(stc_in_label, hemi='lh', views = ['lat', 'med'], time_viewer='auto', initial_time = -1.950,\n",
      "/tmp/ipykernel_1455566/1254178966.py:5: DeprecationWarning: The Mayavi 3D backend is deprecated in 0.24 and will be removed in the next version of MNE-Python. Use the pyvistaqt or notebook backends instead\n",
      "  brain = mne.viz.plot_source_estimates(stc_in_label, hemi='lh', views = ['lat', 'med'], time_viewer='auto', initial_time = -1.950,\n",
      "/tmp/ipykernel_1455566/1254178966.py:5: DeprecationWarning: The Mayavi 3D backend is deprecated in 0.24 and will be removed in the next version of MNE-Python. Use the pyvistaqt or notebook backends instead\n",
      "  brain = mne.viz.plot_source_estimates(stc_in_label, hemi='lh', views = ['lat', 'med'], time_viewer='auto', initial_time = -1.950,\n"
     ]
    }
   ],
   "source": [
    "# Строим лейблы и выбираем вручную\n",
    "scale = [0.9, 0.99, 1.0]\n",
    "for label in labels_lh:\n",
    "\n",
    "    stc_in_label = stc.in_label(label) \n",
    "    brain = mne.viz.plot_source_estimates(stc_in_label, hemi='lh', views = ['lat', 'med'], time_viewer='auto', initial_time = -1.950,\n",
    "                                               background = 'white', clim = dict(kind = 'value', pos_lims = scale),\n",
    "                                               spacing ='ico5', backend = 'mayavi')\n",
    "    brain.add_label(label, color = 'green', borders=True) # border - show borders or not\n",
    "\n",
    "    brain.save_image(\"/home/vtretyakova/Рабочий стол/speach_learn/Labels/left_labels_aparc2009/{0}.jpeg\".format(label.name)) \n",
    "    brain.close"
   ]
  },
  {
   "cell_type": "code",
   "execution_count": 1,
   "id": "cff315f7",
   "metadata": {},
   "outputs": [],
   "source": [
    "chosen_labels_name = [\n",
    "    'G_and_S_cingul-Mid-Ant-lh',\n",
    "    'G_cingul-Post-ventral-lh',\n",
    "    'G_oc-temp_med-Parahip-lh',\n",
    "    'S_front_inf-lh',\n",
    "    'S_front_sup-lh'\n",
    "]"
   ]
  },
  {
   "cell_type": "code",
   "execution_count": 6,
   "id": "02b81aa1",
   "metadata": {},
   "outputs": [
    {
     "data": {
      "text/plain": [
       "[<Label | avg_platon_27sub, 'G_and_S_cingul-Mid-Ant-lh', lh : 1942 vertices>,\n",
       " <Label | avg_platon_27sub, 'G_cingul-Post-ventral-lh', lh : 575 vertices>,\n",
       " <Label | avg_platon_27sub, 'G_oc-temp_med-Parahip-lh', lh : 2288 vertices>,\n",
       " <Label | avg_platon_27sub, 'S_front_inf-lh', lh : 2273 vertices>,\n",
       " <Label | avg_platon_27sub, 'S_front_sup-lh', lh : 3100 vertices>]"
      ]
     },
     "execution_count": 6,
     "metadata": {},
     "output_type": "execute_result"
    }
   ],
   "source": [
    "chosen_labels = [label for label in labels if label.name in chosen_labels_name]\n",
    "chosen_labels"
   ]
  },
  {
   "cell_type": "markdown",
   "id": "3f34751d",
   "metadata": {},
   "source": [
    "# Находим 10 максимальных вертехсов в каждом лейбле"
   ]
  },
  {
   "cell_type": "markdown",
   "id": "a47a9d1d",
   "metadata": {},
   "source": [
    "# Сейчас stc состоят из 3 точек, которые соответсвуют 3 усреденным интервалам. Поскольку мы ищем максимумы только на интервале M, который соответствует средней точке, то нам необходимо получить отдельные файлы для каждого интервала"
   ]
  },
  {
   "cell_type": "code",
   "execution_count": 12,
   "id": "cc4f00f5",
   "metadata": {},
   "outputs": [
    {
     "data": {
      "text/plain": [
       "<SourceEstimate | 20484 vertices, subject : avg_platon_27sub, tmin : 100.0 (ms), tmax : 100.0 (ms), tstep : 50.0 (ms), data shape : (20484, 1), ~240 kB>"
      ]
     },
     "execution_count": 12,
     "metadata": {},
     "output_type": "execute_result"
    }
   ],
   "source": [
    "donor = mne.read_source_estimate('/net/server/data/home/inside/Niherus_work_transfer/Make_source_for_beta/MAIN_SCRIPT/Source/SourceEstimate/beta_reactclean_15_26/p_val_fdr/p-val_no_fdr_r1-st_vs_r2-end_sub22_0.1-0.55_merged')\n",
    "donor.subject = \"avg_platon_27sub\"\n",
    "donor"
   ]
  },
  {
   "cell_type": "code",
   "execution_count": 14,
   "id": "912d5f7f",
   "metadata": {},
   "outputs": [
    {
     "name": "stdout",
     "output_type": "stream",
     "text": [
      "20484\n",
      "(20484, 1)\n"
     ]
    }
   ],
   "source": [
    "stc_M_active2 = []\n",
    "for i in range(len(stc.data)):\n",
    "    s = stc.data[i][1]\n",
    "    stc_M_active2.append(s)\n",
    "    \n",
    "print(len(stc_M_active2))\n",
    "\n",
    "stc_M_active2 = np.array(stc_M_active2)\n",
    "stc_M_active2 = stc_M_active2[:, np.newaxis]\n",
    "print(stc_M_active2.shape) \n",
    "donor.data = stc_M_active2"
   ]
  },
  {
   "cell_type": "code",
   "execution_count": 15,
   "id": "6d1d3bb7",
   "metadata": {},
   "outputs": [
    {
     "data": {
      "text/plain": [
       "<SourceEstimate | 125 vertices, subject : avg_platon_27sub, tmin : 100.0 (ms), tmax : 100.0 (ms), tstep : 50.0 (ms), data shape : (125, 1), ~2 kB>"
      ]
     },
     "execution_count": 15,
     "metadata": {},
     "output_type": "execute_result"
    }
   ],
   "source": [
    "stc_in_label_0 = donor.in_label(chosen_labels[0])\n",
    "stc_in_label_0"
   ]
  },
  {
   "cell_type": "code",
   "execution_count": 26,
   "id": "e2f4e6b1",
   "metadata": {},
   "outputs": [],
   "source": [
    "stc_in_label_0_data = stc_in_label_0.data"
   ]
  },
  {
   "cell_type": "code",
   "execution_count": 37,
   "id": "73fbe8c1",
   "metadata": {},
   "outputs": [
    {
     "data": {
      "text/plain": [
       "0.9997508"
      ]
     },
     "execution_count": 37,
     "metadata": {},
     "output_type": "execute_result"
    }
   ],
   "source": [
    "stc_in_label_0_data_reshape = np.reshape(stc_in_label_0_data, (125,))\n"
   ]
  },
  {
   "cell_type": "code",
   "execution_count": 69,
   "id": "1611d6a2",
   "metadata": {},
   "outputs": [],
   "source": [
    "stc_in_label_0_data_reshape_abs = np.abs(stc_in_label_0_data_reshape)"
   ]
  },
  {
   "cell_type": "markdown",
   "id": "de809370",
   "metadata": {},
   "source": [
    "https://pyprog.pro/sort/argmax.html"
   ]
  },
  {
   "cell_type": "markdown",
   "id": "b0029b0e",
   "metadata": {},
   "source": [
    "# Индекс вертекса с максимальным pvalue"
   ]
  },
  {
   "cell_type": "code",
   "execution_count": 31,
   "id": "0af5c5d6",
   "metadata": {},
   "outputs": [
    {
     "data": {
      "text/plain": [
       "array([77])"
      ]
     },
     "execution_count": 31,
     "metadata": {},
     "output_type": "execute_result"
    }
   ],
   "source": [
    "max_index_0 = np.argmax(stc_in_label_0_data, axis = 0)\n",
    "max_index_0"
   ]
  },
  {
   "cell_type": "markdown",
   "id": "89167353",
   "metadata": {},
   "source": [
    "# Индексы 10 самых значимых вертексов"
   ]
  },
  {
   "cell_type": "markdown",
   "id": "ca994359",
   "metadata": {},
   "source": [
    "https://askdev.ru/q/kak-poluchit-indeksy-n-maksimalnyh-znacheniy-v-massive-numpy-4667/"
   ]
  },
  {
   "cell_type": "code",
   "execution_count": 39,
   "id": "a68a43a3",
   "metadata": {},
   "outputs": [
    {
     "data": {
      "text/plain": [
       "array([ 77,  76,  75,  15, 103,  74,  52,  37,  35, 107])"
      ]
     },
     "execution_count": 39,
     "metadata": {},
     "output_type": "execute_result"
    }
   ],
   "source": [
    "idx = (-stc_in_label_0_data_reshape).argsort()[:10]\n",
    "idx"
   ]
  },
  {
   "cell_type": "markdown",
   "id": "ae0d6601",
   "metadata": {},
   "source": [
    "# Тоже другим способом"
   ]
  },
  {
   "cell_type": "code",
   "execution_count": 40,
   "id": "1b597ff4",
   "metadata": {},
   "outputs": [
    {
     "data": {
      "text/plain": [
       "array([107,  35,  37, 103,  77,  52,  15,  74,  75,  76])"
      ]
     },
     "execution_count": 40,
     "metadata": {},
     "output_type": "execute_result"
    }
   ],
   "source": [
    "ind = np.argpartition(stc_in_label_0_data_reshape, -10)[-10:]\n",
    "ind"
   ]
  },
  {
   "cell_type": "markdown",
   "id": "75d2c71f",
   "metadata": {},
   "source": [
    "# Сначала находим абсолютные значения pvalue"
   ]
  },
  {
   "cell_type": "code",
   "execution_count": 71,
   "id": "715f6a20",
   "metadata": {},
   "outputs": [
    {
     "data": {
      "text/plain": [
       "array([107,  35,  37, 103,  77,  52,  15,  74,  75,  76])"
      ]
     },
     "execution_count": 71,
     "metadata": {},
     "output_type": "execute_result"
    }
   ],
   "source": [
    "ind_abs = np.argpartition(stc_in_label_0_data_reshape_abs, -10)[-10:]\n",
    "ind_abs"
   ]
  },
  {
   "cell_type": "markdown",
   "id": "52b1a1c2",
   "metadata": {},
   "source": [
    "# Загружаем данные для тайм курсов (неусреденные)"
   ]
  },
  {
   "cell_type": "code",
   "execution_count": 44,
   "id": "2ab15224",
   "metadata": {},
   "outputs": [
    {
     "data": {
      "text/plain": [
       "<SourceEstimate | 20484 vertices, subject : avg_platon_27sub, tmin : -2000.0 (ms), tmax : 1950.0000000000002 (ms), tstep : 50.0 (ms), data shape : (20484, 80), ~6.4 MB>"
      ]
     },
     "execution_count": 44,
     "metadata": {},
     "output_type": "execute_result"
    }
   ],
   "source": [
    "stc_active1_mean_beta = mne.read_source_estimate('/net/server/data/home/inside/Niherus_work_transfer/Make_source_for_beta/MAIN_SCRIPT/Source/SourceEstimate/beta_reactclean_15_26/mean_conds/mean_conds_reactactive1-st_sub22_integ50-lh.stc')\n",
    "stc_active1_mean_beta.subject = \"avg_platon_27sub\"\n",
    "stc_active1_mean_beta"
   ]
  },
  {
   "cell_type": "code",
   "execution_count": 49,
   "id": "b4ffa457",
   "metadata": {},
   "outputs": [
    {
     "name": "stdout",
     "output_type": "stream",
     "text": [
      "Using control points [0.10867742 0.12816209 0.27987526]\n"
     ]
    },
    {
     "name": "stderr",
     "output_type": "stream",
     "text": [
      "IMAGEIO FFMPEG_WRITER WARNING: input image is not divisible by macro_block_size=16, resizing from (1073, 277) to (1088, 288) to ensure video compatibility with most codecs and players. To prevent resizing, make your input image divisible by the macro_block_size or set the macro_block_size to 1 (risking incompatibility).\n",
      "[swscaler @ 0x555fe8324bc0] Warning: data is not aligned! This can lead to a speed loss\n"
     ]
    }
   ],
   "source": [
    "brain = mne.viz.plot_source_estimates(stc_active1_mean_beta, hemi='lh', views = 'med')"
   ]
  },
  {
   "cell_type": "code",
   "execution_count": 54,
   "id": "b0d179dd",
   "metadata": {},
   "outputs": [
    {
     "data": {
      "text/plain": [
       "<SourceEstimate | 125 vertices, subject : avg_platon_27sub, tmin : -2000.0 (ms), tmax : 1950.0000000000002 (ms), tstep : 50.0 (ms), data shape : (125, 80), ~40 kB>"
      ]
     },
     "execution_count": 54,
     "metadata": {},
     "output_type": "execute_result"
    }
   ],
   "source": [
    "stc_active1_mean_beta_in_label_0 = stc_active1_mean_beta.in_label(chosen_labels[0])\n",
    "stc_active1_mean_beta_in_label_0"
   ]
  },
  {
   "cell_type": "code",
   "execution_count": 55,
   "id": "cb9fdb3c",
   "metadata": {},
   "outputs": [
    {
     "data": {
      "text/plain": [
       "array([[-0.26859432, -0.06491767, -0.02860713, ..., -0.01901424,\n",
       "        -0.03307396, -0.06826081],\n",
       "       [-0.24741395, -0.04359976, -0.01462135, ..., -0.02119666,\n",
       "        -0.03267041, -0.06005796],\n",
       "       [-0.28010154, -0.05775957, -0.01081613, ...,  0.00987309,\n",
       "         0.00342405, -0.03979674],\n",
       "       ...,\n",
       "       [-0.26415595, -0.05786348, -0.02627725, ...,  0.00406738,\n",
       "        -0.01672252, -0.0681386 ],\n",
       "       [-0.2590865 , -0.05234123, -0.02504157, ...,  0.00048976,\n",
       "        -0.01431135, -0.0660546 ],\n",
       "       [-0.2596131 , -0.04539985, -0.01326144, ..., -0.01049719,\n",
       "        -0.0278684 , -0.06872154]], dtype=float32)"
      ]
     },
     "execution_count": 55,
     "metadata": {},
     "output_type": "execute_result"
    }
   ],
   "source": [
    "stc_active1_mean_beta_in_label_0_data = stc_active1_mean_beta_in_label_0.data\n",
    "stc_active1_mean_beta_in_label_0_data"
   ]
  },
  {
   "cell_type": "code",
   "execution_count": 56,
   "id": "abba677c",
   "metadata": {},
   "outputs": [
    {
     "data": {
      "text/plain": [
       "(10, 80)"
      ]
     },
     "execution_count": 56,
     "metadata": {},
     "output_type": "execute_result"
    }
   ],
   "source": [
    "stc_active1_mean_beta_in_label_0_data_for_timecourse = stc_active1_mean_beta_in_label_0_data[ind]\n",
    "stc_active1_mean_beta_in_label_0_data_for_timecourse.shape"
   ]
  },
  {
   "cell_type": "code",
   "execution_count": 59,
   "id": "e574e4e4",
   "metadata": {},
   "outputs": [
    {
     "data": {
      "text/plain": [
       "(80,)"
      ]
     },
     "execution_count": 59,
     "metadata": {},
     "output_type": "execute_result"
    }
   ],
   "source": [
    "stc_active1_mean_beta_in_label_0_data_for_timecourse_mean = stc_active1_mean_beta_in_label_0_data_for_timecourse.mean(axis = 0)\n",
    "stc_active1_mean_beta_in_label_0_data_for_timecourse_mean.shape"
   ]
  },
  {
   "cell_type": "code",
   "execution_count": 64,
   "id": "d6b33999",
   "metadata": {},
   "outputs": [
    {
     "data": {
      "text/plain": [
       "array([-0.2785359 , -0.05899585, -0.00995677, -0.00358595, -0.01835218,\n",
       "       -0.01329186, -0.00415799,  0.00454099,  0.00556799,  0.01027831,\n",
       "        0.00443714, -0.00294992, -0.00818481, -0.00324765, -0.00565728,\n",
       "       -0.01457712, -0.01915872, -0.02285519, -0.02824905, -0.02319329,\n",
       "       -0.0196298 , -0.02460558, -0.02981775, -0.029791  , -0.03707948,\n",
       "       -0.04140171, -0.03717376, -0.02475488, -0.01757999, -0.03110733,\n",
       "       -0.03765929, -0.03786151, -0.03536276, -0.03208445, -0.0526989 ,\n",
       "       -0.06708141, -0.05798874, -0.042844  , -0.04765216, -0.04590284,\n",
       "       -0.03075496, -0.01135751, -0.00755176, -0.01357323, -0.01413389,\n",
       "       -0.00194298,  0.00695942,  0.01714833,  0.00962866, -0.0003964 ,\n",
       "       -0.01456011, -0.02458487, -0.02316674, -0.01225101, -0.00265054,\n",
       "        0.00134836, -0.00363027, -0.00104598, -0.00155506, -0.00630152,\n",
       "       -0.01979432, -0.02333082, -0.01013367, -0.00270071, -0.01287142,\n",
       "       -0.01022612, -0.0019809 , -0.00091581, -0.00516841, -0.00172272,\n",
       "        0.00047987,  0.01235699,  0.01942113,  0.01872761,  0.01272198,\n",
       "        0.00187847, -0.00458239,  0.0009511 , -0.0125646 , -0.05160075],\n",
       "      dtype=float32)"
      ]
     },
     "execution_count": 64,
     "metadata": {},
     "output_type": "execute_result"
    }
   ],
   "source": [
    "stc_active1_mean_beta_in_label_0_data_for_timecourse_mean"
   ]
  },
  {
   "cell_type": "code",
   "execution_count": 62,
   "id": "e39ba860",
   "metadata": {},
   "outputs": [],
   "source": [
    "beta_in_label_0 = list(stc_active1_mean_beta_in_label_0_data_for_timecourse_mean)"
   ]
  },
  {
   "cell_type": "code",
   "execution_count": 65,
   "id": "a99a7ce7",
   "metadata": {},
   "outputs": [
    {
     "data": {
      "text/plain": [
       "array([-2.  , -1.95, -1.9 , -1.85, -1.8 , -1.75, -1.7 , -1.65, -1.6 ,\n",
       "       -1.55, -1.5 , -1.45, -1.4 , -1.35, -1.3 , -1.25, -1.2 , -1.15,\n",
       "       -1.1 , -1.05, -1.  , -0.95, -0.9 , -0.85, -0.8 , -0.75, -0.7 ,\n",
       "       -0.65, -0.6 , -0.55, -0.5 , -0.45, -0.4 , -0.35, -0.3 , -0.25,\n",
       "       -0.2 , -0.15, -0.1 , -0.05,  0.  ,  0.05,  0.1 ,  0.15,  0.2 ,\n",
       "        0.25,  0.3 ,  0.35,  0.4 ,  0.45,  0.5 ,  0.55,  0.6 ,  0.65,\n",
       "        0.7 ,  0.75,  0.8 ,  0.85,  0.9 ,  0.95,  1.  ,  1.05,  1.1 ,\n",
       "        1.15,  1.2 ,  1.25,  1.3 ,  1.35,  1.4 ,  1.45,  1.5 ,  1.55,\n",
       "        1.6 ,  1.65,  1.7 ,  1.75,  1.8 ,  1.85,  1.9 ,  1.95])"
      ]
     },
     "execution_count": 65,
     "metadata": {},
     "output_type": "execute_result"
    }
   ],
   "source": [
    "stc_active1_mean_beta.times"
   ]
  },
  {
   "cell_type": "code",
   "execution_count": 66,
   "id": "bb0d51c1",
   "metadata": {},
   "outputs": [
    {
     "data": {
      "text/plain": [
       "(80,)"
      ]
     },
     "execution_count": 66,
     "metadata": {},
     "output_type": "execute_result"
    }
   ],
   "source": [
    "stc_active1_mean_beta.times.shape"
   ]
  },
  {
   "cell_type": "code",
   "execution_count": 67,
   "id": "4d78c016",
   "metadata": {},
   "outputs": [],
   "source": [
    "time_points = list(stc_active1_mean_beta.times)"
   ]
  },
  {
   "cell_type": "code",
   "execution_count": 77,
   "id": "a3a1076c",
   "metadata": {},
   "outputs": [
    {
     "data": {
      "text/plain": [
       "[<matplotlib.lines.Line2D at 0x7f9db0121640>]"
      ]
     },
     "execution_count": 77,
     "metadata": {},
     "output_type": "execute_result"
    },
    {
     "data": {
      "image/png": "[encoded data removed]",
      "text/plain": [
       "<Figure size 432x288 with 1 Axes>"
      ]
     },
     "metadata": {
      "needs_background": "light"
     },
     "output_type": "display_data"
    }
   ],
   "source": [
    "plt.figure() #создаем рисунок \n",
    "plt.rcParams['axes.facecolor'] = 'none' # делаем его прозрачным\n",
    "plt.xlim(-1.5, 1.5) #назначаем границы рисунка по х\n",
    "plt.ylim(-1.0, 1.0) #назначаем границы рисунка по у\n",
    "#plt.title('norisk, фидбеки усреднялись отдельно', fontsize = 8) \n",
    "plt.plot([0, 0.001], [-1, 1], color='k', linewidth=3, linestyle='--', zorder=1) # вертикальная линия, которая показывает, где находится наше событие\n",
    "plt.plot([-1.5, 1.5], [0, 0.001], color='k', linewidth=3, linestyle='--', zorder=1) # нулевая линия по горизонтали\n",
    "\n",
    "plt.plot(time_points, beta_in_label_0, color='b', linewidth=3) # рисует график первого кондишена (всегда синий)\n",
    "    "
   ]
  },
  {
   "cell_type": "markdown",
   "id": "cb8c39dc",
   "metadata": {},
   "source": [
    "# Active2"
   ]
  },
  {
   "cell_type": "code",
   "execution_count": 51,
   "id": "bce02322",
   "metadata": {},
   "outputs": [
    {
     "data": {
      "text/plain": [
       "<SourceEstimate | 20484 vertices, subject : avg_platon_27sub, tmin : -2000.0 (ms), tmax : 1950.0000000000002 (ms), tstep : 50.0 (ms), data shape : (20484, 80), ~6.4 MB>"
      ]
     },
     "execution_count": 51,
     "metadata": {},
     "output_type": "execute_result"
    }
   ],
   "source": [
    "stc_active2_mean_beta = mne.read_source_estimate('/net/server/data/home/inside/Niherus_work_transfer/Make_source_for_beta/MAIN_SCRIPT/Source/SourceEstimate/beta_reactclean_15_26/mean_conds/mean_conds_reactactive2-end_sub22_integ50-lh.stc')\n",
    "stc_active2_mean_beta.subject = \"avg_platon_27sub\"\n",
    "stc_active2_mean_beta"
   ]
  },
  {
   "cell_type": "code",
   "execution_count": 53,
   "id": "8bbcc3bd",
   "metadata": {},
   "outputs": [
    {
     "name": "stdout",
     "output_type": "stream",
     "text": [
      "Using control points [0.0974405  0.10917095 0.26644048]\n"
     ]
    }
   ],
   "source": [
    "brain = mne.viz.plot_source_estimates(stc_active2_mean_beta, hemi='lh', views = 'med')"
   ]
  },
  {
   "cell_type": "code",
   "execution_count": 78,
   "id": "80e6bdfa",
   "metadata": {},
   "outputs": [
    {
     "data": {
      "text/plain": [
       "<SourceEstimate | 125 vertices, subject : avg_platon_27sub, tmin : -2000.0 (ms), tmax : 1950.0000000000002 (ms), tstep : 50.0 (ms), data shape : (125, 80), ~40 kB>"
      ]
     },
     "execution_count": 78,
     "metadata": {},
     "output_type": "execute_result"
    }
   ],
   "source": [
    "stc_active2_mean_beta_in_label_0 = stc_active2_mean_beta.in_label(chosen_labels[0])\n",
    "stc_active2_mean_beta_in_label_0"
   ]
  },
  {
   "cell_type": "code",
   "execution_count": 79,
   "id": "299720b1",
   "metadata": {},
   "outputs": [
    {
     "name": "stdout",
     "output_type": "stream",
     "text": [
      "(10, 80)\n",
      "(80,)\n"
     ]
    }
   ],
   "source": [
    "stc_active2_mean_beta_in_label_0_data = stc_active2_mean_beta_in_label_0.data\n",
    "stc_active2_mean_beta_in_label_0_data_for_timecourse = stc_active2_mean_beta_in_label_0_data[ind]\n",
    "print(stc_active1_mean_beta_in_label_0_data_for_timecourse.shape)\n",
    "\n",
    "\n",
    "stc_active2_mean_beta_in_label_0_data_for_timecourse_mean = stc_active2_mean_beta_in_label_0_data_for_timecourse.mean(axis = 0)\n",
    "print(stc_active2_mean_beta_in_label_0_data_for_timecourse_mean.shape)\n",
    "beta_in_active2_label_0 = list(stc_active2_mean_beta_in_label_0_data_for_timecourse_mean)"
   ]
  },
  {
   "cell_type": "code",
   "execution_count": 81,
   "id": "bd014512",
   "metadata": {},
   "outputs": [
    {
     "data": {
      "text/plain": [
       "[<matplotlib.lines.Line2D at 0x7f9d946c63a0>]"
      ]
     },
     "execution_count": 81,
     "metadata": {},
     "output_type": "execute_result"
    },
    {
     "data": {
      "image/png": "[encoded data removed]",
      "text/plain": [
       "<Figure size 432x288 with 1 Axes>"
      ]
     },
     "metadata": {
      "needs_background": "light"
     },
     "output_type": "display_data"
    }
   ],
   "source": [
    "plt.figure() #создаем рисунок \n",
    "plt.rcParams['axes.facecolor'] = 'none' # делаем его прозрачным\n",
    "plt.xlim(-1.5, 1.5) #назначаем границы рисунка по х\n",
    "plt.ylim(-0.5, 0.5) #назначаем границы рисунка по у\n",
    "plt.title('active1 - blue, active2 - red, G_and_S_cingul-Mid-Ant-lh', fontsize = 8) \n",
    "plt.plot([0, 0.001], [-1, 1], color='k', linewidth=3, linestyle='--', zorder=1) # вертикальная линия, которая показывает, где находится наше событие\n",
    "plt.plot([-1.5, 1.5], [0, 0.001], color='k', linewidth=3, linestyle='--', zorder=1) # нулевая линия по горизонтали\n",
    "\n",
    "plt.plot(time_points, beta_in_label_0, color='b', linewidth=3) # рисует график первого кондишена (всегда синий)\n",
    "plt.plot(time_points, beta_in_active2_label_0, color='r', linewidth=3) # active 2    "
   ]
  },
  {
   "cell_type": "markdown",
   "id": "4b221171",
   "metadata": {},
   "source": [
    "# скрипт для построения таймкурсов на вертексах с максимальным pvalue в лейбле см. time_courses_for_labels.py"
   ]
  },
  {
   "cell_type": "code",
   "execution_count": null,
   "id": "6dfef54c",
   "metadata": {},
   "outputs": [],
   "source": []
  }
 ],
 "metadata": {
  "kernelspec": {
   "display_name": "Python 3 (ipykernel)",
   "language": "python",
   "name": "python3"
  },
  "language_info": {
   "codemirror_mode": {
    "name": "ipython",
    "version": 3
   },
   "file_extension": ".py",
   "mimetype": "text/x-python",
   "name": "python",
   "nbconvert_exporter": "python",
   "pygments_lexer": "ipython3",
   "version": "3.9.7"
  }
 },
 "nbformat": 4,
 "nbformat_minor": 5
}
