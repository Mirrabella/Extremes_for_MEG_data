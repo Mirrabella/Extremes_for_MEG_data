{
 "cells": [
  {
   "cell_type": "markdown",
   "id": "4375f37e",
   "metadata": {},
   "source": [
    "# MNI coordinates for vertices"
   ]
  },
  {
   "cell_type": "markdown",
   "id": "296139dd",
   "metadata": {},
   "source": [
    "import os\n",
    "import mne\n",
    "import numpy as np\n",
    "import pandas as pd\n",
    "from scipy import stats\n",
    "from statsmodels.stats import multitest as mul\n"
   ]
  },
  {
   "cell_type": "code",
   "execution_count": 33,
   "id": "cf00ae02",
   "metadata": {},
   "outputs": [],
   "source": [
    "os.environ[\"SUBJECTS_DIR\"] = \"/home/vtretyakova/Рабочий стол/speach_learn/Labels/freesurfer\"\n",
    "subjects_dir = \"/home/vtretyakova/Рабочий стол/speach_learn/Labels/freesurfer\"\n",
    "subject = \"avg_platon_27sub\""
   ]
  },
  {
   "cell_type": "code",
   "execution_count": 3,
   "id": "2adcd110",
   "metadata": {},
   "outputs": [
    {
     "name": "stdout",
     "output_type": "stream",
     "text": [
      "Reading labels from parcellation...\n",
      "   read 75 labels from /home/vtretyakova/Рабочий стол/speach_learn/Labels/freesurfer/avg_platon_27sub/label/lh.aparc.a2009s.annot\n",
      "   read 75 labels from /home/vtretyakova/Рабочий стол/speach_learn/Labels/freesurfer/avg_platon_27sub/label/rh.aparc.a2009s.annot\n"
     ]
    }
   ],
   "source": [
    "# Читаем лейблы (они должны лежать в той директории, которую мы указали, т.е. во \n",
    "#/home/vtretyakova/Рабочий стол/speach_learn/Labels/freesurfer/avg_platon_27sub/label)\n",
    "\n",
    "labels = mne.read_labels_from_annot('avg_platon_27sub', 'aparc.a2009s')"
   ]
  },
  {
   "cell_type": "code",
   "execution_count": 4,
   "id": "f479b8de",
   "metadata": {},
   "outputs": [],
   "source": [
    "chosen_labels_name = [\n",
    "    'G_and_S_cingul-Mid-Ant-lh',\n",
    "    'G_cingul-Post-ventral-lh',\n",
    "    'G_oc-temp_med-Parahip-lh',\n",
    "    'S_front_inf-lh',\n",
    "    'S_front_sup-lh'\n",
    "]"
   ]
  },
  {
   "cell_type": "code",
   "execution_count": 5,
   "id": "d4eb43d1",
   "metadata": {},
   "outputs": [
    {
     "data": {
      "text/plain": [
       "[<Label | avg_platon_27sub, 'G_and_S_cingul-Mid-Ant-lh', lh : 1942 vertices>,\n",
       " <Label | avg_platon_27sub, 'G_cingul-Post-ventral-lh', lh : 575 vertices>,\n",
       " <Label | avg_platon_27sub, 'G_oc-temp_med-Parahip-lh', lh : 2288 vertices>,\n",
       " <Label | avg_platon_27sub, 'S_front_inf-lh', lh : 2273 vertices>,\n",
       " <Label | avg_platon_27sub, 'S_front_sup-lh', lh : 3100 vertices>]"
      ]
     },
     "execution_count": 5,
     "metadata": {},
     "output_type": "execute_result"
    }
   ],
   "source": [
    "chosen_labels = [label for label in labels if label.name in chosen_labels_name]\n",
    "chosen_labels"
   ]
  },
  {
   "cell_type": "markdown",
   "id": "109362ad",
   "metadata": {},
   "source": [
    "# Download p_value average data (three time points - PreM, M, PostM)"
   ]
  },
  {
   "cell_type": "code",
   "execution_count": 6,
   "id": "5c6c6bcc",
   "metadata": {},
   "outputs": [],
   "source": [
    "stc = mne.read_source_estimate('/net/server/data/home/inside/Niherus_work_transfer/Make_source_for_beta/MAIN_SCRIPT/Source/SourceEstimate/beta_reactclean_15_26/p_val/p-val_full_fdr_r2-end_sub22_interv_merged-lh.stc')\n",
    "stc.subject = \"avg_platon_27sub\""
   ]
  },
  {
   "cell_type": "markdown",
   "id": "c78c84fe",
   "metadata": {},
   "source": [
    "# We need only Movements interval, so doenload donor for one point"
   ]
  },
  {
   "cell_type": "code",
   "execution_count": 7,
   "id": "b9f828db",
   "metadata": {},
   "outputs": [
    {
     "data": {
      "text/plain": [
       "<SourceEstimate | 20484 vertices, subject : avg_platon_27sub, tmin : 100.0 (ms), tmax : 100.0 (ms), tstep : 50.0 (ms), data shape : (20484, 1), ~240 kB>"
      ]
     },
     "execution_count": 7,
     "metadata": {},
     "output_type": "execute_result"
    }
   ],
   "source": [
    "donor = mne.read_source_estimate('/net/server/data/home/inside/Niherus_work_transfer/Make_source_for_beta/MAIN_SCRIPT/Source/SourceEstimate/beta_reactclean_15_26/p_val_fdr/p-val_no_fdr_r1-st_vs_r2-end_sub22_0.1-0.55_merged')\n",
    "donor.subject = \"avg_platon_27sub\"\n",
    "donor"
   ]
  },
  {
   "cell_type": "code",
   "execution_count": 8,
   "id": "a9508de2",
   "metadata": {},
   "outputs": [
    {
     "name": "stdout",
     "output_type": "stream",
     "text": [
      "20484\n",
      "(20484, 1)\n"
     ]
    }
   ],
   "source": [
    "stc_M_active2 = []\n",
    "for i in range(len(stc.data)):\n",
    "    s = stc.data[i][1]\n",
    "    stc_M_active2.append(s)\n",
    "    \n",
    "print(len(stc_M_active2))\n",
    "\n",
    "stc_M_active2 = np.array(stc_M_active2)\n",
    "stc_M_active2 = stc_M_active2[:, np.newaxis]\n",
    "print(stc_M_active2.shape) \n",
    "donor.data = stc_M_active2"
   ]
  },
  {
   "cell_type": "code",
   "execution_count": 9,
   "id": "cf23c34b",
   "metadata": {},
   "outputs": [
    {
     "data": {
      "text/plain": [
       "<SourceEstimate | 125 vertices, subject : avg_platon_27sub, tmin : 100.0 (ms), tmax : 100.0 (ms), tstep : 50.0 (ms), data shape : (125, 1), ~2 kB>"
      ]
     },
     "execution_count": 9,
     "metadata": {},
     "output_type": "execute_result"
    }
   ],
   "source": [
    "stc_in_label_0 = donor.in_label(chosen_labels[0])\n",
    "stc_in_label_0"
   ]
  },
  {
   "cell_type": "markdown",
   "id": "be9631d0",
   "metadata": {},
   "source": [
    "# Data from stc"
   ]
  },
  {
   "cell_type": "code",
   "execution_count": 13,
   "id": "6fac7bfa",
   "metadata": {},
   "outputs": [
    {
     "data": {
      "text/plain": [
       "(125, 1)"
      ]
     },
     "execution_count": 13,
     "metadata": {},
     "output_type": "execute_result"
    }
   ],
   "source": [
    "stc_in_label_0_data = stc_in_label_0.data\n",
    "stc_in_label_0_data.shape"
   ]
  },
  {
   "cell_type": "code",
   "execution_count": 14,
   "id": "5820ef09",
   "metadata": {},
   "outputs": [
    {
     "data": {
      "text/plain": [
       "array([[0.9907663 ],\n",
       "       [0.94816035],\n",
       "       [0.991758  ],\n",
       "       [0.99204004],\n",
       "       [0.99735826],\n",
       "       [0.93570316],\n",
       "       [0.9952798 ],\n",
       "       [0.99763346],\n",
       "       [0.9953461 ],\n",
       "       [0.9826458 ],\n",
       "       [0.9964803 ],\n",
       "       [0.9949557 ],\n",
       "       [0.9951283 ],\n",
       "       [0.99411577],\n",
       "       [0.99886805],\n",
       "       [0.99947995],\n",
       "       [0.996921  ],\n",
       "       [0.987853  ],\n",
       "       [0.9936928 ],\n",
       "       [0.98939025],\n",
       "       [0.9536147 ],\n",
       "       [0.99724233],\n",
       "       [0.9977853 ],\n",
       "       [0.9984481 ],\n",
       "       [0.99650073],\n",
       "       [0.99517757],\n",
       "       [0.9912292 ],\n",
       "       [0.99054205],\n",
       "       [0.9858867 ],\n",
       "       [0.9807239 ],\n",
       "       [0.94733983],\n",
       "       [0.9944036 ],\n",
       "       [0.9921971 ],\n",
       "       [0.9932392 ],\n",
       "       [0.99502695],\n",
       "       [0.99894845],\n",
       "       [0.99761504],\n",
       "       [0.9989701 ],\n",
       "       [0.99481225],\n",
       "       [0.9790599 ],\n",
       "       [0.9926553 ],\n",
       "       [0.9887038 ],\n",
       "       [0.9882566 ],\n",
       "       [0.99420196],\n",
       "       [0.99458987],\n",
       "       [0.99489325],\n",
       "       [0.997766  ],\n",
       "       [0.9927966 ],\n",
       "       [0.99497175],\n",
       "       [0.9979151 ],\n",
       "       [0.99565876],\n",
       "       [0.9976909 ],\n",
       "       [0.9990939 ],\n",
       "       [0.9911458 ],\n",
       "       [0.9948165 ],\n",
       "       [0.9958067 ],\n",
       "       [0.9932787 ],\n",
       "       [0.99546766],\n",
       "       [0.99575216],\n",
       "       [0.99578935],\n",
       "       [0.9900326 ],\n",
       "       [0.987295  ],\n",
       "       [0.9916765 ],\n",
       "       [0.9915217 ],\n",
       "       [0.99389106],\n",
       "       [0.9811471 ],\n",
       "       [0.9425865 ],\n",
       "       [0.9375378 ],\n",
       "       [0.96900487],\n",
       "       [0.9528483 ],\n",
       "       [0.9975495 ],\n",
       "       [0.9966254 ],\n",
       "       [0.99536115],\n",
       "       [0.9937504 ],\n",
       "       [0.9991552 ],\n",
       "       [0.99959314],\n",
       "       [0.999727  ],\n",
       "       [0.9997508 ],\n",
       "       [0.9986621 ],\n",
       "       [0.99392337],\n",
       "       [0.9904339 ],\n",
       "       [0.9923115 ],\n",
       "       [0.99151367],\n",
       "       [0.9936898 ],\n",
       "       [0.9792959 ],\n",
       "       [0.939781  ],\n",
       "       [0.8631983 ],\n",
       "       [0.9404166 ],\n",
       "       [0.9586662 ],\n",
       "       [0.99515224],\n",
       "       [0.9936626 ],\n",
       "       [0.98597586],\n",
       "       [0.9955175 ],\n",
       "       [0.98008966],\n",
       "       [0.98759305],\n",
       "       [0.9651549 ],\n",
       "       [0.9908054 ],\n",
       "       [0.9224833 ],\n",
       "       [0.9230731 ],\n",
       "       [0.9958138 ],\n",
       "       [0.9929069 ],\n",
       "       [0.99656874],\n",
       "       [0.9986232 ],\n",
       "       [0.9992302 ],\n",
       "       [0.9984721 ],\n",
       "       [0.99724996],\n",
       "       [0.9943444 ],\n",
       "       [0.99890244],\n",
       "       [0.9945911 ],\n",
       "       [0.99593025],\n",
       "       [0.9974945 ],\n",
       "       [0.99722624],\n",
       "       [0.9956597 ],\n",
       "       [0.9976919 ],\n",
       "       [0.9949503 ],\n",
       "       [0.98849684],\n",
       "       [0.99157643],\n",
       "       [0.9889785 ],\n",
       "       [0.9900682 ],\n",
       "       [0.98539156],\n",
       "       [0.99272597],\n",
       "       [0.98511773],\n",
       "       [0.9761099 ],\n",
       "       [0.98643005],\n",
       "       [0.91919523]], dtype=float32)"
      ]
     },
     "execution_count": 14,
     "metadata": {},
     "output_type": "execute_result"
    }
   ],
   "source": [
    "stc_in_label_0_data"
   ]
  },
  {
   "cell_type": "code",
   "execution_count": 15,
   "id": "5a199b5a",
   "metadata": {},
   "outputs": [
    {
     "data": {
      "text/plain": [
       "array([0.9907663 , 0.94816035, 0.991758  , 0.99204004, 0.99735826,\n",
       "       0.93570316, 0.9952798 , 0.99763346, 0.9953461 , 0.9826458 ,\n",
       "       0.9964803 , 0.9949557 , 0.9951283 , 0.99411577, 0.99886805,\n",
       "       0.99947995, 0.996921  , 0.987853  , 0.9936928 , 0.98939025,\n",
       "       0.9536147 , 0.99724233, 0.9977853 , 0.9984481 , 0.99650073,\n",
       "       0.99517757, 0.9912292 , 0.99054205, 0.9858867 , 0.9807239 ,\n",
       "       0.94733983, 0.9944036 , 0.9921971 , 0.9932392 , 0.99502695,\n",
       "       0.99894845, 0.99761504, 0.9989701 , 0.99481225, 0.9790599 ,\n",
       "       0.9926553 , 0.9887038 , 0.9882566 , 0.99420196, 0.99458987,\n",
       "       0.99489325, 0.997766  , 0.9927966 , 0.99497175, 0.9979151 ,\n",
       "       0.99565876, 0.9976909 , 0.9990939 , 0.9911458 , 0.9948165 ,\n",
       "       0.9958067 , 0.9932787 , 0.99546766, 0.99575216, 0.99578935,\n",
       "       0.9900326 , 0.987295  , 0.9916765 , 0.9915217 , 0.99389106,\n",
       "       0.9811471 , 0.9425865 , 0.9375378 , 0.96900487, 0.9528483 ,\n",
       "       0.9975495 , 0.9966254 , 0.99536115, 0.9937504 , 0.9991552 ,\n",
       "       0.99959314, 0.999727  , 0.9997508 , 0.9986621 , 0.99392337,\n",
       "       0.9904339 , 0.9923115 , 0.99151367, 0.9936898 , 0.9792959 ,\n",
       "       0.939781  , 0.8631983 , 0.9404166 , 0.9586662 , 0.99515224,\n",
       "       0.9936626 , 0.98597586, 0.9955175 , 0.98008966, 0.98759305,\n",
       "       0.9651549 , 0.9908054 , 0.9224833 , 0.9230731 , 0.9958138 ,\n",
       "       0.9929069 , 0.99656874, 0.9986232 , 0.9992302 , 0.9984721 ,\n",
       "       0.99724996, 0.9943444 , 0.99890244, 0.9945911 , 0.99593025,\n",
       "       0.9974945 , 0.99722624, 0.9956597 , 0.9976919 , 0.9949503 ,\n",
       "       0.98849684, 0.99157643, 0.9889785 , 0.9900682 , 0.98539156,\n",
       "       0.99272597, 0.98511773, 0.9761099 , 0.98643005, 0.91919523],\n",
       "      dtype=float32)"
      ]
     },
     "execution_count": 15,
     "metadata": {},
     "output_type": "execute_result"
    }
   ],
   "source": [
    "stc_in_label_0_data_reshape = np.reshape(stc_in_label_0_data, (125,))\n",
    "stc_in_label_0_data_reshape"
   ]
  },
  {
   "cell_type": "code",
   "execution_count": 37,
   "id": "0bae8cb3",
   "metadata": {},
   "outputs": [
    {
     "data": {
      "text/plain": [
       "array([0.9997508 , 0.999727  , 0.99959314, 0.99947995, 0.9992302 ,\n",
       "       0.9991552 , 0.9990939 , 0.9989701 , 0.99894845, 0.99890244],\n",
       "      dtype=float32)"
      ]
     },
     "execution_count": 37,
     "metadata": {},
     "output_type": "execute_result"
    }
   ],
   "source": [
    "stc_in_label_0_data_reshape_sorted = -np.sort(-stc_in_label_0_data_reshape)\n",
    "stc_in_label_0_data_reshape_sorted[:10]"
   ]
  },
  {
   "cell_type": "code",
   "execution_count": 38,
   "id": "aa47eee1",
   "metadata": {},
   "outputs": [
    {
     "data": {
      "text/plain": [
       "array([ 77,  76,  75,  15, 103,  74,  52,  37,  35, 107])"
      ]
     },
     "execution_count": 38,
     "metadata": {},
     "output_type": "execute_result"
    }
   ],
   "source": [
    "stc_in_label_0_data_reshape_sorted_arg = np.argsort(-stc_in_label_0_data_reshape)\n",
    "stc_in_label_0_data_reshape_sorted_arg[:10]\n",
    "\n"
   ]
  },
  {
   "cell_type": "markdown",
   "id": "f20c5814",
   "metadata": {},
   "source": [
    "# common indexes for vertices in label"
   ]
  },
  {
   "cell_type": "code",
   "execution_count": 11,
   "id": "8779054b",
   "metadata": {},
   "outputs": [
    {
     "data": {
      "text/plain": [
       "array([  74,  111,  115,  253,  422,  501,  506,  509,  510,  511,  944,\n",
       "        945,  946, 1116, 1117, 1118, 1119, 1120, 1121, 1122, 1123, 1607,\n",
       "       2170, 2171, 2172, 2173, 2174, 2175, 2176, 2177, 2178, 2864, 2865,\n",
       "       2866, 3035, 3036, 3037, 3038, 3039, 3040, 3041, 3042, 3638, 4274,\n",
       "       4276, 4278, 4788, 4789, 4790, 4791, 4792, 4793, 4794, 4795, 4796,\n",
       "       4797, 4798, 4799, 4800, 4801, 4802, 4803, 4804, 4805, 4806, 4807,\n",
       "       4808, 4809, 4810, 4811, 6308, 6309, 6310, 6311, 6618, 6619, 6620,\n",
       "       6621, 6622, 6623, 6624, 6625, 6626, 6627, 6628, 6629, 6630, 6631,\n",
       "       6632, 7588, 7589, 7590, 7591, 7596, 7597, 7598, 8443, 9014, 9015,\n",
       "       9071, 9073, 9074, 9075, 9076, 9078, 9079, 9080, 9081, 9082, 9083,\n",
       "       9084, 9085, 9086, 9087, 9088, 9089, 9090, 9091, 9092, 9093, 9094,\n",
       "       9095, 9096, 9098, 9099])"
      ]
     },
     "execution_count": 11,
     "metadata": {},
     "output_type": "execute_result"
    }
   ],
   "source": [
    "stc_in_label_0.vertices[0]"
   ]
  },
  {
   "cell_type": "code",
   "execution_count": 30,
   "id": "ce114b38",
   "metadata": {},
   "outputs": [
    {
     "data": {
      "text/plain": [
       "125"
      ]
     },
     "execution_count": 30,
     "metadata": {},
     "output_type": "execute_result"
    }
   ],
   "source": [
    "len(stc_in_label_0.vertices[0])"
   ]
  },
  {
   "cell_type": "code",
   "execution_count": 31,
   "id": "64117a9e",
   "metadata": {},
   "outputs": [
    {
     "data": {
      "text/plain": [
       "1117"
      ]
     },
     "execution_count": 31,
     "metadata": {},
     "output_type": "execute_result"
    }
   ],
   "source": [
    "stc_in_label_0.vertices[0][14]"
   ]
  },
  {
   "cell_type": "markdown",
   "id": "acd99afd",
   "metadata": {},
   "source": [
    "# common indexes for 10 vertices with max p_value "
   ]
  },
  {
   "cell_type": "code",
   "execution_count": 39,
   "id": "40e1c69d",
   "metadata": {},
   "outputs": [
    {
     "data": {
      "text/plain": [
       "[77, 76, 75, 15, 103, 74, 52, 37, 35, 107]"
      ]
     },
     "execution_count": 39,
     "metadata": {},
     "output_type": "execute_result"
    }
   ],
   "source": [
    "vertices_max_list = stc_in_label_0_data_reshape_sorted_arg[:10].tolist()\n",
    "vertices_max_list"
   ]
  },
  {
   "cell_type": "code",
   "execution_count": 40,
   "id": "ad452252",
   "metadata": {},
   "outputs": [
    {
     "data": {
      "text/plain": [
       "[6621, 6620, 6619, 1118, 9076, 6618, 4794, 3038, 3036, 9081]"
      ]
     },
     "execution_count": 40,
     "metadata": {},
     "output_type": "execute_result"
    }
   ],
   "source": [
    "common_indexes_max = []\n",
    "for ind in vertices_max_list:\n",
    "    common_indexes_max.append(stc_in_label_0.vertices[0][ind])\n",
    "    \n",
    "common_indexes_max    "
   ]
  },
  {
   "cell_type": "code",
   "execution_count": 41,
   "id": "b484470f",
   "metadata": {},
   "outputs": [
    {
     "data": {
      "text/plain": [
       "array([6621, 6620, 6619, 1118, 9076, 6618, 4794, 3038, 3036, 9081])"
      ]
     },
     "execution_count": 41,
     "metadata": {},
     "output_type": "execute_result"
    }
   ],
   "source": [
    "common_indexes_max = np.array(common_indexes_max)\n",
    "common_indexes_max"
   ]
  },
  {
   "cell_type": "markdown",
   "id": "b44a2967",
   "metadata": {},
   "source": [
    "# Vertices to MNI coordinate\n",
    "\n",
    "https://mne.tools/stable/generated/mne.vertex_to_mni.html  \n",
    "\n",
    "https://mne.tools/stable/auto_examples/inverse/label_activation_from_stc.html#sphx-glr-auto-examples-inverse-label-activation-from-stc-py"
   ]
  },
  {
   "cell_type": "code",
   "execution_count": 42,
   "id": "12b7c524",
   "metadata": {},
   "outputs": [
    {
     "data": {
      "text/plain": [
       "array([[-11.12793636,  18.33568176,  27.38112452],\n",
       "       [ -8.54681301,  18.43683991,  27.0002518 ],\n",
       "       [-10.09684849,  20.42596612,  25.58917049],\n",
       "       [ -9.63332748,  16.24067863,  28.76573184],\n",
       "       [ -5.77932072,  19.92279995,  20.82356837],\n",
       "       [-11.35647774,  23.12825762,  24.55611995],\n",
       "       [ -6.49138069,  18.54348931,  26.56808284],\n",
       "       [-12.38323498,  19.18790038,  29.16841701],\n",
       "       [-12.4078455 ,  24.31703553,  26.60349087],\n",
       "       [ -7.4679389 ,  16.57853492,  28.33433726]])"
      ]
     },
     "execution_count": 42,
     "metadata": {},
     "output_type": "execute_result"
    }
   ],
   "source": [
    "mni_0_lh = mne.vertex_to_mni(common_indexes_max, 0, 'avg_platon_27sub', subjects_dir=subjects_dir)\n",
    "mni_0_lh"
   ]
  },
  {
   "cell_type": "code",
   "execution_count": null,
   "id": "0c62891a",
   "metadata": {},
   "outputs": [],
   "source": []
  }
 ],
 "metadata": {
  "kernelspec": {
   "display_name": "Python 3 (ipykernel)",
   "language": "python",
   "name": "python3"
  },
  "language_info": {
   "codemirror_mode": {
    "name": "ipython",
    "version": 3
   },
   "file_extension": ".py",
   "mimetype": "text/x-python",
   "name": "python",
   "nbconvert_exporter": "python",
   "pygments_lexer": "ipython3",
   "version": "3.9.7"
  }
 },
 "nbformat": 4,
 "nbformat_minor": 5
}
