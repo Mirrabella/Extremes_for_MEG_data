{
 "cells": [
  {
   "cell_type": "markdown",
   "id": "7f5ab9f4",
   "metadata": {},
   "source": [
    "# Vertices in stc and src"
   ]
  },
  {
   "cell_type": "code",
   "execution_count": 1,
   "id": "35e1a479",
   "metadata": {},
   "outputs": [],
   "source": [
    "import os\n",
    "import mne\n",
    "import numpy as np\n",
    "import pandas as pd\n",
    "from scipy import stats\n",
    "from statsmodels.stats import multitest as mul"
   ]
  },
  {
   "cell_type": "code",
   "execution_count": 2,
   "id": "7efe0037",
   "metadata": {},
   "outputs": [],
   "source": [
    "subject = \"avg_platon_27sub\"\n",
    "\n",
    "os.environ[\"SUBJECTS_DIR\"] = \"/home/vtretyakova/Рабочий стол/speach_learn/Labels/freesurfer\"\n",
    "\n",
    "stc = mne.read_source_estimate('/net/server/data/home/inside/Niherus_work_transfer/Make_source_for_beta/MAIN_SCRIPT/Source/SourceEstimate/beta_reactclean_15_26/p_val/p-val_with_fdr_react_active2_active2-end_sub22_interv_merged-lh.stc')\n",
    "stc.subject = \"avg_platon_27sub\""
   ]
  },
  {
   "cell_type": "code",
   "execution_count": 3,
   "id": "ac9ba300",
   "metadata": {},
   "outputs": [
    {
     "name": "stdout",
     "output_type": "stream",
     "text": [
      "Reading labels from parcellation...\n",
      "   read 35 labels from /home/vtretyakova/Рабочий стол/speach_learn/Labels/freesurfer/avg_platon_27sub/label/lh.aparc.annot\n",
      "   read 35 labels from /home/vtretyakova/Рабочий стол/speach_learn/Labels/freesurfer/avg_platon_27sub/label/rh.aparc.annot\n"
     ]
    }
   ],
   "source": [
    "labels = mne.read_labels_from_annot('avg_platon_27sub', 'aparc')\n",
    "lab_parahip_lh = [label for label in labels if label.name == 'parahippocampal-lh'][0]"
   ]
  },
  {
   "cell_type": "code",
   "execution_count": 4,
   "id": "b78a05da",
   "metadata": {},
   "outputs": [
    {
     "data": {
      "text/plain": [
       "1427"
      ]
     },
     "execution_count": 4,
     "metadata": {},
     "output_type": "execute_result"
    }
   ],
   "source": [
    "len(lab_parahip_lh.vertices)"
   ]
  },
  {
   "cell_type": "code",
   "execution_count": 5,
   "id": "61d6098c",
   "metadata": {},
   "outputs": [
    {
     "data": {
      "text/plain": [
       "array([   359,    360,    606, ..., 163832, 163833, 163834])"
      ]
     },
     "execution_count": 5,
     "metadata": {},
     "output_type": "execute_result"
    }
   ],
   "source": [
    "lab_parahip_lh.vertices"
   ]
  },
  {
   "cell_type": "code",
   "execution_count": 6,
   "id": "abddd699",
   "metadata": {},
   "outputs": [
    {
     "data": {
      "text/plain": [
       "array([  359,   360,   606,   641,   838,  1349,  1437,  1438,  1439,\n",
       "        1440,  1793,  1795,  1796,  1797,  1798,  1799,  1800,  2454,\n",
       "        2557,  2558,  2559,  2560,  2561,  3267,  3268,  3269,  3357,\n",
       "        3358,  3359,  3360,  3948,  3949,  3950,  3951,  3952,  3953,\n",
       "        3954,  3955,  3956,  5485,  5487,  5489,  5747,  5748,  5749,\n",
       "        5750,  5751,  5752,  5753,  5754,  5755,  5756,  5758,  6118,\n",
       "        7036,  7037,  7193,  7194,  7195,  7196,  7197,  7198,  7199,\n",
       "        7200,  8021,  8023,  8026,  8027,  8033,  8034,  8035,  8036,\n",
       "        8037,  8038,  8039,  8040,  8602,  8603, 10228, 10229, 10230,\n",
       "       10231, 10232, 10233, 10234, 10235, 10236, 10237, 10238, 10239,\n",
       "       10240])"
      ]
     },
     "execution_count": 6,
     "metadata": {},
     "output_type": "execute_result"
    }
   ],
   "source": [
    "lab_parahip_lh.vertices[:91]"
   ]
  },
  {
   "cell_type": "code",
   "execution_count": 7,
   "id": "2b80b03c",
   "metadata": {},
   "outputs": [
    {
     "data": {
      "text/plain": [
       "[array([  359,   360,   606,   641,   838,  1349,  1437,  1438,  1439,\n",
       "         1440,  1793,  1795,  1796,  1797,  1798,  1799,  1800,  2454,\n",
       "         2557,  2558,  2559,  2560,  2561,  3267,  3268,  3269,  3357,\n",
       "         3358,  3359,  3360,  3948,  3949,  3950,  3951,  3952,  3953,\n",
       "         3954,  3955,  3956,  5485,  5487,  5489,  5747,  5748,  5749,\n",
       "         5750,  5751,  5752,  5753,  5754,  5755,  5756,  5758,  6118,\n",
       "         7036,  7037,  7193,  7194,  7195,  7196,  7197,  7198,  7199,\n",
       "         7200,  8021,  8023,  8026,  8027,  8033,  8034,  8035,  8036,\n",
       "         8037,  8038,  8039,  8040,  8602,  8603, 10228, 10229, 10230,\n",
       "        10231, 10232, 10233, 10234, 10235, 10236, 10237, 10238, 10239,\n",
       "        10240]),\n",
       " array([], dtype=int64)]"
      ]
     },
     "execution_count": 7,
     "metadata": {},
     "output_type": "execute_result"
    }
   ],
   "source": [
    "stc_in_label = stc.in_label(lab_parahip_lh) \n",
    "stc_in_label.vertices"
   ]
  },
  {
   "cell_type": "code",
   "execution_count": 8,
   "id": "c87a3ae1",
   "metadata": {},
   "outputs": [
    {
     "data": {
      "text/plain": [
       "91"
      ]
     },
     "execution_count": 8,
     "metadata": {},
     "output_type": "execute_result"
    }
   ],
   "source": [
    "len(stc_in_label.vertices[0])"
   ]
  },
  {
   "cell_type": "markdown",
   "id": "ceaf7e26",
   "metadata": {},
   "source": [
    "# SRC"
   ]
  },
  {
   "cell_type": "code",
   "execution_count": 9,
   "id": "1ee0fdb7",
   "metadata": {},
   "outputs": [
    {
     "name": "stdout",
     "output_type": "stream",
     "text": [
      "Setting up the source space with the following parameters:\n",
      "\n",
      "SUBJECTS_DIR = /home/vtretyakova/Рабочий стол/speach_learn/Labels/freesurfer\n",
      "Subject      = avg_platon_27sub\n",
      "Surface      = white\n",
      "Icosahedron subdivision grade 5\n",
      "\n",
      ">>> 1. Creating the source space...\n",
      "\n",
      "Doing the icosahedral vertex picking...\n",
      "Loading /home/vtretyakova/Рабочий стол/speach_learn/Labels/freesurfer/avg_platon_27sub/surf/lh.white...\n",
      "Mapping lh avg_platon_27sub -> ico (5) ...\n",
      "    Warning: zero size triangles: [3 4]\n",
      "    Triangle neighbors and vertex normals...\n",
      "Loading geometry from /home/vtretyakova/Рабочий стол/speach_learn/Labels/freesurfer/avg_platon_27sub/surf/lh.sphere...\n",
      "Setting up the triangulation for the decimated surface...\n",
      "loaded lh.white 10242/163842 selected to source space (ico = 5)\n",
      "\n",
      "Loading /home/vtretyakova/Рабочий стол/speach_learn/Labels/freesurfer/avg_platon_27sub/surf/rh.white...\n",
      "Mapping rh avg_platon_27sub -> ico (5) ...\n",
      "    Warning: zero size triangles: [3 4]\n",
      "    Triangle neighbors and vertex normals...\n",
      "Loading geometry from /home/vtretyakova/Рабочий стол/speach_learn/Labels/freesurfer/avg_platon_27sub/surf/rh.sphere...\n",
      "Setting up the triangulation for the decimated surface...\n",
      "loaded rh.white 10242/163842 selected to source space (ico = 5)\n",
      "\n",
      "You are now one step closer to computing the gain matrix\n"
     ]
    }
   ],
   "source": [
    "src = mne.setup_source_space(subject =subject, spacing='ico5', add_dist=False )"
   ]
  },
  {
   "cell_type": "code",
   "execution_count": 11,
   "id": "3a915e29",
   "metadata": {},
   "outputs": [],
   "source": [
    "src_in_lbl = [v for v in src[0]['vertno'] if v in lab_parahip_lh.vertices]"
   ]
  },
  {
   "cell_type": "code",
   "execution_count": 12,
   "id": "8aa7697a",
   "metadata": {},
   "outputs": [
    {
     "data": {
      "text/plain": [
       "91"
      ]
     },
     "execution_count": 12,
     "metadata": {},
     "output_type": "execute_result"
    }
   ],
   "source": [
    "len(src_in_lbl)"
   ]
  },
  {
   "cell_type": "code",
   "execution_count": 13,
   "id": "ea58163a",
   "metadata": {},
   "outputs": [
    {
     "data": {
      "text/plain": [
       "[359,\n",
       " 360,\n",
       " 606,\n",
       " 641,\n",
       " 838,\n",
       " 1349,\n",
       " 1437,\n",
       " 1438,\n",
       " 1439,\n",
       " 1440,\n",
       " 1793,\n",
       " 1795,\n",
       " 1796,\n",
       " 1797,\n",
       " 1798,\n",
       " 1799,\n",
       " 1800,\n",
       " 2454,\n",
       " 2557,\n",
       " 2558,\n",
       " 2559,\n",
       " 2560,\n",
       " 2561,\n",
       " 3267,\n",
       " 3268,\n",
       " 3269,\n",
       " 3357,\n",
       " 3358,\n",
       " 3359,\n",
       " 3360,\n",
       " 3948,\n",
       " 3949,\n",
       " 3950,\n",
       " 3951,\n",
       " 3952,\n",
       " 3953,\n",
       " 3954,\n",
       " 3955,\n",
       " 3956,\n",
       " 5485,\n",
       " 5487,\n",
       " 5489,\n",
       " 5747,\n",
       " 5748,\n",
       " 5749,\n",
       " 5750,\n",
       " 5751,\n",
       " 5752,\n",
       " 5753,\n",
       " 5754,\n",
       " 5755,\n",
       " 5756,\n",
       " 5758,\n",
       " 6118,\n",
       " 7036,\n",
       " 7037,\n",
       " 7193,\n",
       " 7194,\n",
       " 7195,\n",
       " 7196,\n",
       " 7197,\n",
       " 7198,\n",
       " 7199,\n",
       " 7200,\n",
       " 8021,\n",
       " 8023,\n",
       " 8026,\n",
       " 8027,\n",
       " 8033,\n",
       " 8034,\n",
       " 8035,\n",
       " 8036,\n",
       " 8037,\n",
       " 8038,\n",
       " 8039,\n",
       " 8040,\n",
       " 8602,\n",
       " 8603,\n",
       " 10228,\n",
       " 10229,\n",
       " 10230,\n",
       " 10231,\n",
       " 10232,\n",
       " 10233,\n",
       " 10234,\n",
       " 10235,\n",
       " 10236,\n",
       " 10237,\n",
       " 10238,\n",
       " 10239,\n",
       " 10240]"
      ]
     },
     "execution_count": 13,
     "metadata": {},
     "output_type": "execute_result"
    }
   ],
   "source": [
    "src_in_lbl"
   ]
  },
  {
   "cell_type": "code",
   "execution_count": null,
   "id": "5d4ce7c5",
   "metadata": {},
   "outputs": [],
   "source": []
  }
 ],
 "metadata": {
  "kernelspec": {
   "display_name": "Python 3 (ipykernel)",
   "language": "python",
   "name": "python3"
  },
  "language_info": {
   "codemirror_mode": {
    "name": "ipython",
    "version": 3
   },
   "file_extension": ".py",
   "mimetype": "text/x-python",
   "name": "python",
   "nbconvert_exporter": "python",
   "pygments_lexer": "ipython3",
   "version": "3.9.7"
  }
 },
 "nbformat": 4,
 "nbformat_minor": 5
}
