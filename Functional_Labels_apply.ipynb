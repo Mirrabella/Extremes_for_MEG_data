{
 "cells": [
  {
   "cell_type": "markdown",
   "metadata": {},
   "source": [
    "# Functional Labels for speach learning"
   ]
  },
  {
   "cell_type": "code",
   "execution_count": 1,
   "metadata": {},
   "outputs": [],
   "source": [
    "import os\n",
    "import mne\n",
    "import numpy as np\n",
    "import pandas as pd\n",
    "from scipy import stats\n",
    "from statsmodels.stats import multitest as mul\n",
    "\n"
   ]
  },
  {
   "cell_type": "markdown",
   "metadata": {},
   "source": [
    "# Plot parcellation (aparc in this example)"
   ]
  },
  {
   "cell_type": "code",
   "execution_count": 2,
   "metadata": {},
   "outputs": [
    {
     "name": "stdout",
     "output_type": "stream",
     "text": [
      "Using pyvistaqt 3d backend.\n",
      "\n",
      "Reading labels from parcellation...\n",
      "   read 35 labels from /net/server/data/Archive/speech_learn/freesurfer/fsaverage/label/lh.aparc.annot\n"
     ]
    },
    {
     "name": "stderr",
     "output_type": "stream",
     "text": [
      "QStandardPaths: XDG_RUNTIME_DIR not set, defaulting to '/tmp/runtime-vtretyakova'\n"
     ]
    }
   ],
   "source": [
    "subjects_dir = '/net/server/data/Archive/speech_learn/freesurfer'\n",
    "Brain = mne.viz.get_brain_class()\n",
    "labels = mne.read_labels_from_annot('fsaverage', 'aparc', 'lh', subjects_dir=subjects_dir )\n",
    "\n",
    "brain = Brain('fsaverage', 'lh', 'inflated', subjects_dir=subjects_dir, cortex='low_contrast', background='white', size=(800, 600))\n",
    "brain.add_annotation('aparc')"
   ]
  },
  {
   "cell_type": "markdown",
   "metadata": {},
   "source": [
    "# Download stc"
   ]
  },
  {
   "cell_type": "code",
   "execution_count": 3,
   "metadata": {},
   "outputs": [],
   "source": [
    "subject = \"avg_platon_27sub\""
   ]
  },
  {
   "cell_type": "code",
   "execution_count": 4,
   "metadata": {},
   "outputs": [],
   "source": [
    "os.environ[\"SUBJECTS_DIR\"] = \"/home/vtretyakova/Рабочий стол/speach_learn/Labels/freesurfer\""
   ]
  },
  {
   "cell_type": "code",
   "execution_count": 5,
   "metadata": {},
   "outputs": [],
   "source": [
    "stc = mne.read_source_estimate('/net/server/data/home/inside/Niherus_work_transfer/Make_source_for_beta/MAIN_SCRIPT/Source/SourceEstimate/beta_reactclean_15_26/p_val/p-val_with_fdr_react_active2_active2-end_sub22_interv_merged-lh.stc')\n",
    "stc.subject = \"avg_platon_27sub\""
   ]
  },
  {
   "cell_type": "code",
   "execution_count": 6,
   "metadata": {},
   "outputs": [
    {
     "data": {
      "text/plain": [
       "<SourceEstimate | 20484 vertices, subject : avg_platon_27sub, tmin : -2000.0 (ms), tmax : -1900.0 (ms), tstep : 50.0 (ms), data shape : (20484, 3), ~400 kB>"
      ]
     },
     "execution_count": 6,
     "metadata": {},
     "output_type": "execute_result"
    }
   ],
   "source": [
    "stc"
   ]
  },
  {
   "cell_type": "code",
   "execution_count": 7,
   "metadata": {},
   "outputs": [
    {
     "data": {
      "text/plain": [
       "array([[-0.8582185 ,  0.1264552 ,  0.989948  ],\n",
       "       [-0.9081641 ,  0.3200786 ,  0.9793256 ],\n",
       "       [-0.6293025 ,  0.9118382 ,  0.99065006],\n",
       "       ...,\n",
       "       [ 0.46706662,  0.6791369 ,  0.91071695],\n",
       "       [ 0.72962004,  0.7986527 ,  0.95428723],\n",
       "       [ 0.657199  ,  0.73625493,  0.90045387]], dtype=float32)"
      ]
     },
     "execution_count": 7,
     "metadata": {},
     "output_type": "execute_result"
    }
   ],
   "source": [
    "stc.data"
   ]
  },
  {
   "cell_type": "code",
   "execution_count": 8,
   "metadata": {},
   "outputs": [
    {
     "data": {
      "text/plain": [
       "20484"
      ]
     },
     "execution_count": 8,
     "metadata": {},
     "output_type": "execute_result"
    }
   ],
   "source": [
    "len(stc.data)"
   ]
  },
  {
   "cell_type": "markdown",
   "metadata": {},
   "source": [
    "# Plot stc on brain"
   ]
  },
  {
   "cell_type": "code",
   "execution_count": 103,
   "metadata": {},
   "outputs": [
    {
     "name": "stderr",
     "output_type": "stream",
     "text": [
      "/home/vtretyakova/.conda/envs/mymne/lib/python3.9/site-packages/ipykernel/eventloops.py:105: UserWarning: constrained_layout not applied because axes sizes collapsed to zero.  Try making figure larger or axes decorations smaller.\n",
      "  app.exec_()\n"
     ]
    }
   ],
   "source": [
    "scale = [0.95, 0.99, 1.0]\n",
    "\n",
    "brain = mne.viz.plot_source_estimates(stc, hemi='split', views = ['lat', 'med'], time_viewer='auto', initial_time = -1.950,\n",
    "                                            clim = dict(kind = 'value', pos_lims = scale),\n",
    "                                           spacing ='ico5')\n"
   ]
  },
  {
   "cell_type": "markdown",
   "metadata": {},
   "source": [
    "# Applying labels"
   ]
  },
  {
   "cell_type": "code",
   "execution_count": 10,
   "metadata": {},
   "outputs": [],
   "source": [
    " # read label file\n",
    "label = mne.read_label(\"/home/vtretyakova/Рабочий стол/speach_learn/Labels/functional_labels_Nikita/broca-lh.label\") "
   ]
  },
  {
   "cell_type": "markdown",
   "metadata": {},
   "source": [
    "# get activity just in label"
   ]
  },
  {
   "cell_type": "code",
   "execution_count": 13,
   "metadata": {
    "scrolled": true
   },
   "outputs": [
    {
     "name": "stdout",
     "output_type": "stream",
     "text": [
      "Using mayavi 3d backend.\n",
      "\n"
     ]
    },
    {
     "name": "stderr",
     "output_type": "stream",
     "text": [
      "/tmp/ipykernel_4125832/1493101844.py:2: DeprecationWarning: The Mayavi 3D backend is deprecated in 0.24 and will be removed in the next version of MNE-Python. Use the pyvistaqt or notebook backends instead\n",
      "  brain = mne.viz.plot_source_estimates(stc_in_label, hemi='split', views = ['lat', 'med'], time_viewer='auto', initial_time = -1.950,\n",
      "/tmp/ipykernel_4125832/1493101844.py:2: DeprecationWarning: The Mayavi 3D backend is deprecated in 0.24 and will be removed in the next version of MNE-Python. Use the pyvistaqt or notebook backends instead\n",
      "  brain = mne.viz.plot_source_estimates(stc_in_label, hemi='split', views = ['lat', 'med'], time_viewer='auto', initial_time = -1.950,\n"
     ]
    },
    {
     "name": "stdout",
     "output_type": "stream",
     "text": [
      "Using pyvistaqt 3d backend.\n",
      "\n"
     ]
    }
   ],
   "source": [
    "stc_in_label = stc.in_label(label) \n",
    "brain = mne.viz.plot_source_estimates(stc_in_label, hemi='split', views = ['lat', 'med'], time_viewer='auto', initial_time = -1.950,\n",
    "                                           background = 'white', clim = dict(kind = 'value', pos_lims = scale),\n",
    "                                           spacing ='ico5', backend = 'mayavi')\n",
    "\n",
    "brain.add_label(label, color = 'green', borders=True) # border - show borders or not"
   ]
  },
  {
   "cell_type": "code",
   "execution_count": 48,
   "metadata": {},
   "outputs": [],
   "source": [
    "brain.save_image(\"/home/vtretyakova/Рабочий стол/speach_learn/Labels/picture_pval_in_functional_labels_Nikita/broca-lh.jpeg\") "
   ]
  },
  {
   "cell_type": "markdown",
   "metadata": {},
   "source": [
    "# Get Lables from parcellations   \n",
    "\n",
    "парагиппокампальная извилина - parahippocampal gyros  \n",
    "\n",
    "\n",
    "# Plot a cortical parcellation  \n",
    "https://mne.tools/stable/auto_examples/visualization/parcellation.html#sphx-glr-auto-examples-visualization-parcellation-py  \n",
    "\n",
    "# Extracting time course from source_estimate object  \n",
    "\n",
    "https://mne.tools/stable/auto_examples/inverse/label_activation_from_stc.html#sphx-glr-auto-examples-inverse-label-activation-from-stc-py"
   ]
  },
  {
   "cell_type": "code",
   "execution_count": 9,
   "metadata": {},
   "outputs": [
    {
     "name": "stdout",
     "output_type": "stream",
     "text": [
      "Reading labels from parcellation...\n",
      "   read 35 labels from /home/vtretyakova/Рабочий стол/speach_learn/Labels/freesurfer/avg_platon_27sub/label/lh.aparc.annot\n",
      "   read 35 labels from /home/vtretyakova/Рабочий стол/speach_learn/Labels/freesurfer/avg_platon_27sub/label/rh.aparc.annot\n"
     ]
    }
   ],
   "source": [
    "# Читаем лейблы (они должны лежать в той директории, которую мы указали в os.environ[\"SUBJECTS_DIR\"], т.е. в\n",
    "#/home/vtretyakova/Рабочий стол/speach_learn/Labels/freesurfer/avg_platon_27sub/label)\n",
    "\n",
    "labels = mne.read_labels_from_annot('avg_platon_27sub', 'aparc')"
   ]
  },
  {
   "cell_type": "code",
   "execution_count": 24,
   "metadata": {},
   "outputs": [
    {
     "data": {
      "text/plain": [
       "list"
      ]
     },
     "execution_count": 24,
     "metadata": {},
     "output_type": "execute_result"
    }
   ],
   "source": [
    "type(labels)"
   ]
  },
  {
   "cell_type": "code",
   "execution_count": 41,
   "metadata": {},
   "outputs": [
    {
     "data": {
      "text/plain": [
       "[<Label | avg_platon_27sub, 'bankssts-lh', lh : 1758 vertices>,\n",
       " <Label | avg_platon_27sub, 'bankssts-rh', rh : 1855 vertices>,\n",
       " <Label | avg_platon_27sub, 'caudalanteriorcingulate-lh', lh : 1155 vertices>,\n",
       " <Label | avg_platon_27sub, 'caudalanteriorcingulate-rh', rh : 1309 vertices>,\n",
       " <Label | avg_platon_27sub, 'caudalmiddlefrontal-lh', lh : 3630 vertices>,\n",
       " <Label | avg_platon_27sub, 'caudalmiddlefrontal-rh', rh : 3496 vertices>,\n",
       " <Label | avg_platon_27sub, 'corpuscallosum-lh', lh : 3031 vertices>,\n",
       " <Label | avg_platon_27sub, 'corpuscallosum-rh', rh : 2896 vertices>,\n",
       " <Label | avg_platon_27sub, 'cuneus-lh', lh : 1789 vertices>,\n",
       " <Label | avg_platon_27sub, 'cuneus-rh', rh : 1979 vertices>,\n",
       " <Label | avg_platon_27sub, 'entorhinal-lh', lh : 808 vertices>,\n",
       " <Label | avg_platon_27sub, 'entorhinal-rh', rh : 740 vertices>,\n",
       " <Label | avg_platon_27sub, 'frontalpole-lh', lh : 371 vertices>,\n",
       " <Label | avg_platon_27sub, 'frontalpole-rh', rh : 450 vertices>,\n",
       " <Label | avg_platon_27sub, 'fusiform-lh', lh : 4789 vertices>,\n",
       " <Label | avg_platon_27sub, 'fusiform-rh', rh : 4447 vertices>,\n",
       " <Label | avg_platon_27sub, 'inferiorparietal-lh', lh : 7502 vertices>,\n",
       " <Label | avg_platon_27sub, 'inferiorparietal-rh', rh : 9507 vertices>,\n",
       " <Label | avg_platon_27sub, 'inferiortemporal-lh', lh : 4425 vertices>,\n",
       " <Label | avg_platon_27sub, 'inferiortemporal-rh', rh : 4311 vertices>,\n",
       " <Label | avg_platon_27sub, 'isthmuscingulate-lh', lh : 1788 vertices>,\n",
       " <Label | avg_platon_27sub, 'isthmuscingulate-rh', rh : 1740 vertices>,\n",
       " <Label | avg_platon_27sub, 'lateraloccipital-lh', lh : 6874 vertices>,\n",
       " <Label | avg_platon_27sub, 'lateraloccipital-rh', rh : 6549 vertices>,\n",
       " <Label | avg_platon_27sub, 'lateralorbitofrontal-lh', lh : 4173 vertices>,\n",
       " <Label | avg_platon_27sub, 'lateralorbitofrontal-rh', rh : 4385 vertices>,\n",
       " <Label | avg_platon_27sub, 'lingual-lh', lh : 4227 vertices>,\n",
       " <Label | avg_platon_27sub, 'lingual-rh', rh : 4134 vertices>,\n",
       " <Label | avg_platon_27sub, 'medialorbitofrontal-lh', lh : 2487 vertices>,\n",
       " <Label | avg_platon_27sub, 'medialorbitofrontal-rh', rh : 2730 vertices>,\n",
       " <Label | avg_platon_27sub, 'middletemporal-lh', lh : 4901 vertices>,\n",
       " <Label | avg_platon_27sub, 'middletemporal-rh', rh : 5330 vertices>,\n",
       " <Label | avg_platon_27sub, 'paracentral-lh', lh : 3230 vertices>,\n",
       " <Label | avg_platon_27sub, 'paracentral-rh', rh : 3713 vertices>,\n",
       " <Label | avg_platon_27sub, 'parahippocampal-lh', lh : 1427 vertices>,\n",
       " <Label | avg_platon_27sub, 'parahippocampal-rh', rh : 1236 vertices>,\n",
       " <Label | avg_platon_27sub, 'parsopercularis-lh', lh : 2777 vertices>,\n",
       " <Label | avg_platon_27sub, 'parsopercularis-rh', rh : 2357 vertices>,\n",
       " <Label | avg_platon_27sub, 'parsorbitalis-lh', lh : 1060 vertices>,\n",
       " <Label | avg_platon_27sub, 'parsorbitalis-rh', rh : 1052 vertices>,\n",
       " <Label | avg_platon_27sub, 'parstriangularis-lh', lh : 2207 vertices>,\n",
       " <Label | avg_platon_27sub, 'parstriangularis-rh', rh : 2440 vertices>,\n",
       " <Label | avg_platon_27sub, 'pericalcarine-lh', lh : 1989 vertices>,\n",
       " <Label | avg_platon_27sub, 'pericalcarine-rh', rh : 1933 vertices>,\n",
       " <Label | avg_platon_27sub, 'postcentral-lh', lh : 9284 vertices>,\n",
       " <Label | avg_platon_27sub, 'postcentral-rh', rh : 8794 vertices>,\n",
       " <Label | avg_platon_27sub, 'posteriorcingulate-lh', lh : 2756 vertices>,\n",
       " <Label | avg_platon_27sub, 'posteriorcingulate-rh', rh : 2498 vertices>,\n",
       " <Label | avg_platon_27sub, 'precentral-lh', lh : 10694 vertices>,\n",
       " <Label | avg_platon_27sub, 'precentral-rh', rh : 10629 vertices>,\n",
       " <Label | avg_platon_27sub, 'precuneus-lh', lh : 7235 vertices>,\n",
       " <Label | avg_platon_27sub, 'precuneus-rh', rh : 7906 vertices>,\n",
       " <Label | avg_platon_27sub, 'rostralanteriorcingulate-lh', lh : 1228 vertices>,\n",
       " <Label | avg_platon_27sub, 'rostralanteriorcingulate-rh', rh : 945 vertices>,\n",
       " <Label | avg_platon_27sub, 'rostralmiddlefrontal-lh', lh : 7733 vertices>,\n",
       " <Label | avg_platon_27sub, 'rostralmiddlefrontal-rh', rh : 8237 vertices>,\n",
       " <Label | avg_platon_27sub, 'superiorfrontal-lh', lh : 12230 vertices>,\n",
       " <Label | avg_platon_27sub, 'superiorfrontal-rh', rh : 11952 vertices>,\n",
       " <Label | avg_platon_27sub, 'superiorparietal-lh', lh : 10428 vertices>,\n",
       " <Label | avg_platon_27sub, 'superiorparietal-rh', rh : 10139 vertices>,\n",
       " <Label | avg_platon_27sub, 'superiortemporal-lh', lh : 7681 vertices>,\n",
       " <Label | avg_platon_27sub, 'superiortemporal-rh', rh : 7162 vertices>,\n",
       " <Label | avg_platon_27sub, 'supramarginal-lh', lh : 8448 vertices>,\n",
       " <Label | avg_platon_27sub, 'supramarginal-rh', rh : 7621 vertices>,\n",
       " <Label | avg_platon_27sub, 'temporalpole-lh', lh : 823 vertices>,\n",
       " <Label | avg_platon_27sub, 'temporalpole-rh', rh : 766 vertices>,\n",
       " <Label | avg_platon_27sub, 'transversetemporal-lh', lh : 1100 vertices>,\n",
       " <Label | avg_platon_27sub, 'transversetemporal-rh', rh : 807 vertices>,\n",
       " <Label | avg_platon_27sub, 'unknown-lh', lh : 17804 vertices>,\n",
       " <Label | avg_platon_27sub, 'unknown-rh', rh : 17797 vertices>]"
      ]
     },
     "execution_count": 41,
     "metadata": {},
     "output_type": "execute_result"
    }
   ],
   "source": [
    "labels"
   ]
  },
  {
   "cell_type": "markdown",
   "metadata": {},
   "source": [
    "# For example parahippocampal gyros "
   ]
  },
  {
   "cell_type": "code",
   "execution_count": 10,
   "metadata": {},
   "outputs": [],
   "source": [
    "# [0] - в конце строки обозначает, что мы извлекаем лейбл из списка. В противном случае у нас извлечется \n",
    "#нужный элемент, но он все еще будет оставаться списком\n",
    "lab_parahip_lh = [label for label in labels if label.name == 'parahippocampal-lh'][0]"
   ]
  },
  {
   "cell_type": "markdown",
   "metadata": {},
   "source": [
    "# Тоже самое привычным способом, для лучшего усвоения\n",
    "\n",
    "lll = []   \n",
    "for label in labels:   \n",
    "    if label.name == 'parahippocampal-lh':   \n",
    "        lll.append(label)   \n",
    "        \n",
    "lll[0]"
   ]
  },
  {
   "cell_type": "code",
   "execution_count": 55,
   "metadata": {},
   "outputs": [
    {
     "data": {
      "text/plain": [
       "mne.label.Label"
      ]
     },
     "execution_count": 55,
     "metadata": {},
     "output_type": "execute_result"
    }
   ],
   "source": [
    "type(lab_parahip_lh)"
   ]
  },
  {
   "cell_type": "code",
   "execution_count": 12,
   "metadata": {},
   "outputs": [],
   "source": [
    "scale = [0.95, 0.99, 1.0]\n",
    "\n",
    "stc_in_label = stc.in_label(lab_parahip_lh) \n",
    "brain = mne.viz.plot_source_estimates(stc_in_label, hemi='lh', time_viewer='auto', initial_time = -1.950,\n",
    "                                           background = 'white', clim = dict(kind = 'value', pos_lims = scale),\n",
    "                                           spacing ='ico5')\n",
    "brain.add_label(lab_parahip_lh, color = 'green', borders=True) # border - show borders or not"
   ]
  },
  {
   "cell_type": "code",
   "execution_count": 64,
   "metadata": {},
   "outputs": [
    {
     "data": {
      "text/plain": [
       "array([-0.6293025 ,  0.9118382 ,  0.99065006], dtype=float32)"
      ]
     },
     "execution_count": 64,
     "metadata": {},
     "output_type": "execute_result"
    }
   ],
   "source": [
    "stc_in_label.data[0]"
   ]
  },
  {
   "cell_type": "markdown",
   "metadata": {},
   "source": [
    "# Extract smaler label with max of p_value  \n",
    "\n",
    "https://mne.tools/stable/auto_examples/inverse/label_from_stc.html?highlight=labe   \n",
    "\n",
    "В stc, который мы загрузили выше - 3 временных точки, каждая из который соответсвует усреденному временному интервалу. Нас в данном случае интересует только средний, поэтому выделяем данные для этого интервала и присваеваем донору (в котором только одна временная точка) "
   ]
  },
  {
   "cell_type": "code",
   "execution_count": 13,
   "metadata": {},
   "outputs": [],
   "source": [
    "donor = mne.read_source_estimate('/net/server/data/home/inside/Niherus_work_transfer/Make_source_for_beta/MAIN_SCRIPT/Source/SourceEstimate/beta_reactclean_15_26/p_val_fdr/p-val_no_fdr_r1-st_vs_r2-end_sub22_0.1-0.55_merged')\n",
    "donor.subject = \"avg_platon_27sub\""
   ]
  },
  {
   "cell_type": "code",
   "execution_count": 66,
   "metadata": {},
   "outputs": [
    {
     "data": {
      "text/plain": [
       "<SourceEstimate | 20484 vertices, subject : avg_platon_27sub, tmin : 100.0 (ms), tmax : 100.0 (ms), tstep : 50.0 (ms), data shape : (20484, 1), ~240 kB>"
      ]
     },
     "execution_count": 66,
     "metadata": {},
     "output_type": "execute_result"
    }
   ],
   "source": [
    "donor"
   ]
  },
  {
   "cell_type": "code",
   "execution_count": 14,
   "metadata": {},
   "outputs": [
    {
     "data": {
      "text/plain": [
       "20484"
      ]
     },
     "execution_count": 14,
     "metadata": {},
     "output_type": "execute_result"
    }
   ],
   "source": [
    "stc_M_active2 = []\n",
    "for i in range(len(stc.data)):\n",
    "    s = stc.data[i][1]\n",
    "    stc_M_active2.append(s)\n",
    "    \n",
    "len(stc_M_active2)"
   ]
  },
  {
   "cell_type": "code",
   "execution_count": 15,
   "metadata": {},
   "outputs": [
    {
     "data": {
      "text/plain": [
       "(20484, 1)"
      ]
     },
     "execution_count": 15,
     "metadata": {},
     "output_type": "execute_result"
    }
   ],
   "source": [
    "stc_M_active2 = np.array(stc_M_active2)\n",
    "stc_M_active2 = stc_M_active2[:, np.newaxis]\n",
    "stc_M_active2.shape"
   ]
  },
  {
   "cell_type": "code",
   "execution_count": 16,
   "metadata": {},
   "outputs": [],
   "source": [
    "donor.data = stc_M_active2\n"
   ]
  },
  {
   "cell_type": "markdown",
   "metadata": {},
   "source": [
    "# Строим полученный stc  для средненго интервала и затем строим активность в parahippocampal gyros и сам лейбл на полученном stc"
   ]
  },
  {
   "cell_type": "code",
   "execution_count": 87,
   "metadata": {},
   "outputs": [],
   "source": [
    "M_active2 = mne.viz.plot_source_estimates(donor, hemi='rh', views = ['lat'], time_viewer='auto', initial_time = -1.950,\n",
    "                                           background = 'white', clim = dict(kind = 'value', pos_lims = scale),\n",
    "                                           spacing ='ico5')\n"
   ]
  },
  {
   "cell_type": "code",
   "execution_count": 17,
   "metadata": {},
   "outputs": [],
   "source": [
    "stc_in_label = donor.in_label(lab_parahip_lh) \n",
    "brain = mne.viz.plot_source_estimates(stc_in_label, hemi='lh', time_viewer='auto',\n",
    "                                           background = 'white', clim = dict(kind = 'value', pos_lims = scale),\n",
    "                                           spacing ='ico5')\n",
    "brain.add_label(lab_parahip_lh, color = 'green', borders=True) # border - show borders or not"
   ]
  },
  {
   "cell_type": "markdown",
   "metadata": {},
   "source": [
    "# get  maximum p_value from label   \n",
    "\n",
    "https://mne.tools/stable/auto_examples/inverse/label_from_stc.html?highlight=labe"
   ]
  },
  {
   "cell_type": "code",
   "execution_count": 18,
   "metadata": {},
   "outputs": [
    {
     "name": "stdout",
     "output_type": "stream",
     "text": [
      "Setting up the source space with the following parameters:\n",
      "\n",
      "SUBJECTS_DIR = /home/vtretyakova/Рабочий стол/speach_learn/Labels/freesurfer\n",
      "Subject      = avg_platon_27sub\n",
      "Surface      = white\n",
      "Icosahedron subdivision grade 5\n",
      "\n",
      ">>> 1. Creating the source space...\n",
      "\n",
      "Doing the icosahedral vertex picking...\n",
      "Loading /home/vtretyakova/Рабочий стол/speach_learn/Labels/freesurfer/avg_platon_27sub/surf/lh.white...\n",
      "Mapping lh avg_platon_27sub -> ico (5) ...\n",
      "    Warning: zero size triangles: [3 4]\n",
      "    Triangle neighbors and vertex normals...\n",
      "Loading geometry from /home/vtretyakova/Рабочий стол/speach_learn/Labels/freesurfer/avg_platon_27sub/surf/lh.sphere...\n",
      "Setting up the triangulation for the decimated surface...\n",
      "loaded lh.white 10242/163842 selected to source space (ico = 5)\n",
      "\n",
      "Loading /home/vtretyakova/Рабочий стол/speach_learn/Labels/freesurfer/avg_platon_27sub/surf/rh.white...\n",
      "Mapping rh avg_platon_27sub -> ico (5) ...\n",
      "    Warning: zero size triangles: [3 4]\n",
      "    Triangle neighbors and vertex normals...\n",
      "Loading geometry from /home/vtretyakova/Рабочий стол/speach_learn/Labels/freesurfer/avg_platon_27sub/surf/rh.sphere...\n",
      "Setting up the triangulation for the decimated surface...\n",
      "loaded rh.white 10242/163842 selected to source space (ico = 5)\n",
      "\n",
      "You are now one step closer to computing the gain matrix\n"
     ]
    }
   ],
   "source": [
    "src = mne.setup_source_space(subject =subject, spacing='ico5', add_dist=False )"
   ]
  },
  {
   "cell_type": "code",
   "execution_count": 19,
   "metadata": {},
   "outputs": [],
   "source": [
    "data = np.abs(stc_in_label.data)\n",
    "stc_in_label.data[data < 0.995 * np.max(data)] = 0. # приравниваем к 0, все что менее 90% от максимума"
   ]
  },
  {
   "cell_type": "code",
   "execution_count": 21,
   "metadata": {},
   "outputs": [
    {
     "data": {
      "text/plain": [
       "[<Label | avg_platon_27sub, unnamed, lh : 57 vertices>,\n",
       " <Label | avg_platon_27sub, unnamed, lh : 31 vertices>]"
      ]
     },
     "execution_count": 21,
     "metadata": {},
     "output_type": "execute_result"
    }
   ],
   "source": [
    "func_labels, _ = mne.stc_to_label(stc_in_label, src=src, smooth=True,\n",
    "                                  subjects_dir=subjects_dir, connected=True,\n",
    "                                  verbose='error')\n",
    "func_labels"
   ]
  },
  {
   "cell_type": "code",
   "execution_count": 22,
   "metadata": {},
   "outputs": [
    {
     "data": {
      "text/plain": [
       "<Label | avg_platon_27sub, unnamed, lh : 57 vertices>"
      ]
     },
     "execution_count": 22,
     "metadata": {},
     "output_type": "execute_result"
    }
   ],
   "source": [
    "labels_1 = func_labels[0]\n",
    "labels_1"
   ]
  },
  {
   "cell_type": "code",
   "execution_count": 23,
   "metadata": {},
   "outputs": [],
   "source": [
    "stc_in_label_1 = donor.in_label(labels_1) \n",
    "brain = mne.viz.plot_source_estimates(stc_in_label_1, hemi='lh', time_viewer='auto',\n",
    "                                           background = 'white', clim = dict(kind = 'value', pos_lims = scale),\n",
    "                                           spacing ='ico5')\n",
    "brain.add_label(labels_1, color = 'green', borders=True) # border - show borders or not"
   ]
  }
 ],
 "metadata": {
  "kernelspec": {
   "display_name": "Python 3 (ipykernel)",
   "language": "python",
   "name": "python3"
  },
  "language_info": {
   "codemirror_mode": {
    "name": "ipython",
    "version": 3
   },
   "file_extension": ".py",
   "mimetype": "text/x-python",
   "name": "python",
   "nbconvert_exporter": "python",
   "pygments_lexer": "ipython3",
   "version": "3.9.7"
  }
 },
 "nbformat": 4,
 "nbformat_minor": 4
}
