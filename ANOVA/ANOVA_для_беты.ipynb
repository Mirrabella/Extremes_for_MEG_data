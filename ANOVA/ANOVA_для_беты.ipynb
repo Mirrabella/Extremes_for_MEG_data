{
 "cells": [
  {
   "cell_type": "markdown",
   "metadata": {},
   "source": [
    "# ANOVA для беты  "
   ]
  },
  {
   "cell_type": "code",
   "execution_count": 1,
   "metadata": {},
   "outputs": [],
   "source": [
    "import pandas as pd\n",
    "import numpy as np\n",
    "import matplotlib.pyplot as plt\n",
    "import seaborn as sns\n",
    "import scipy.stats as stats\n",
    "from statsmodels.stats.multitest import fdrcorrection\n",
    "import statsmodels.api as sm\n",
    "from statsmodels.formula.api import ols\n",
    "from statsmodels.stats.anova import AnovaRM\n",
    "from bioinfokit.analys import stat\n",
    "from scipy.stats import ttest_rel"
   ]
  },
  {
   "cell_type": "markdown",
   "metadata": {},
   "source": [
    "# ANOVA для кондишена с тремя уровнями (Targeting, Probing, Self Paced)"
   ]
  },
  {
   "cell_type": "markdown",
   "metadata": {},
   "source": [
    "Используются данные из table_for_anova.csv   \n",
    "\n",
    "Для этого использовался скрипт: \n",
    "\n",
    "/home/vtretyakova/Рабочий стол/ANOVA_for_extrem/table_for_ANOVA.py (В текущей версии есть изменения, но суть та же)"
   ]
  },
  {
   "cell_type": "code",
   "execution_count": 2,
   "metadata": {},
   "outputs": [
    {
     "data": {
      "text/html": [
       "<div>\n",
       "<style scoped>\n",
       "    .dataframe tbody tr th:only-of-type {\n",
       "        vertical-align: middle;\n",
       "    }\n",
       "\n",
       "    .dataframe tbody tr th {\n",
       "        vertical-align: top;\n",
       "    }\n",
       "\n",
       "    .dataframe thead th {\n",
       "        text-align: right;\n",
       "    }\n",
       "</style>\n",
       "<table border=\"1\" class=\"dataframe\">\n",
       "  <thead>\n",
       "    <tr style=\"text-align: right;\">\n",
       "      <th></th>\n",
       "      <th>Subject</th>\n",
       "      <th>Condition</th>\n",
       "      <th>Hand</th>\n",
       "      <th>Hemisphere</th>\n",
       "      <th>Minimum_beta</th>\n",
       "      <th>Maximum_beta</th>\n",
       "    </tr>\n",
       "  </thead>\n",
       "  <tbody>\n",
       "    <tr>\n",
       "      <th>274</th>\n",
       "      <td>L019</td>\n",
       "      <td>self_pased</td>\n",
       "      <td>left</td>\n",
       "      <td>ipsilateral</td>\n",
       "      <td>-0.261534</td>\n",
       "      <td>0.869477</td>\n",
       "    </tr>\n",
       "    <tr>\n",
       "      <th>275</th>\n",
       "      <td>L020</td>\n",
       "      <td>self_pased</td>\n",
       "      <td>left</td>\n",
       "      <td>ipsilateral</td>\n",
       "      <td>-5.793184</td>\n",
       "      <td>-0.572137</td>\n",
       "    </tr>\n",
       "    <tr>\n",
       "      <th>276</th>\n",
       "      <td>L021</td>\n",
       "      <td>self_pased</td>\n",
       "      <td>left</td>\n",
       "      <td>ipsilateral</td>\n",
       "      <td>-0.280809</td>\n",
       "      <td>1.244223</td>\n",
       "    </tr>\n",
       "    <tr>\n",
       "      <th>277</th>\n",
       "      <td>L022</td>\n",
       "      <td>self_pased</td>\n",
       "      <td>left</td>\n",
       "      <td>ipsilateral</td>\n",
       "      <td>-3.976470</td>\n",
       "      <td>-1.142184</td>\n",
       "    </tr>\n",
       "    <tr>\n",
       "      <th>278</th>\n",
       "      <td>L023</td>\n",
       "      <td>self_pased</td>\n",
       "      <td>left</td>\n",
       "      <td>ipsilateral</td>\n",
       "      <td>-1.920863</td>\n",
       "      <td>0.502556</td>\n",
       "    </tr>\n",
       "    <tr>\n",
       "      <th>279</th>\n",
       "      <td>L024</td>\n",
       "      <td>self_pased</td>\n",
       "      <td>left</td>\n",
       "      <td>ipsilateral</td>\n",
       "      <td>0.245915</td>\n",
       "      <td>-0.951387</td>\n",
       "    </tr>\n",
       "    <tr>\n",
       "      <th>280</th>\n",
       "      <td>L025</td>\n",
       "      <td>self_pased</td>\n",
       "      <td>left</td>\n",
       "      <td>ipsilateral</td>\n",
       "      <td>-3.310223</td>\n",
       "      <td>0.036865</td>\n",
       "    </tr>\n",
       "    <tr>\n",
       "      <th>281</th>\n",
       "      <td>L026</td>\n",
       "      <td>self_pased</td>\n",
       "      <td>left</td>\n",
       "      <td>ipsilateral</td>\n",
       "      <td>-1.851566</td>\n",
       "      <td>0.849769</td>\n",
       "    </tr>\n",
       "    <tr>\n",
       "      <th>282</th>\n",
       "      <td>L027</td>\n",
       "      <td>self_pased</td>\n",
       "      <td>left</td>\n",
       "      <td>ipsilateral</td>\n",
       "      <td>-3.804128</td>\n",
       "      <td>4.076597</td>\n",
       "    </tr>\n",
       "    <tr>\n",
       "      <th>283</th>\n",
       "      <td>L028</td>\n",
       "      <td>self_pased</td>\n",
       "      <td>left</td>\n",
       "      <td>ipsilateral</td>\n",
       "      <td>-0.783858</td>\n",
       "      <td>0.824081</td>\n",
       "    </tr>\n",
       "  </tbody>\n",
       "</table>\n",
       "</div>"
      ],
      "text/plain": [
       "    Subject   Condition  Hand   Hemisphere  Minimum_beta  Maximum_beta\n",
       "274    L019  self_pased  left  ipsilateral     -0.261534      0.869477\n",
       "275    L020  self_pased  left  ipsilateral     -5.793184     -0.572137\n",
       "276    L021  self_pased  left  ipsilateral     -0.280809      1.244223\n",
       "277    L022  self_pased  left  ipsilateral     -3.976470     -1.142184\n",
       "278    L023  self_pased  left  ipsilateral     -1.920863      0.502556\n",
       "279    L024  self_pased  left  ipsilateral      0.245915     -0.951387\n",
       "280    L025  self_pased  left  ipsilateral     -3.310223      0.036865\n",
       "281    L026  self_pased  left  ipsilateral     -1.851566      0.849769\n",
       "282    L027  self_pased  left  ipsilateral     -3.804128      4.076597\n",
       "283    L028  self_pased  left  ipsilateral     -0.783858      0.824081"
      ]
     },
     "execution_count": 2,
     "metadata": {},
     "output_type": "execute_result"
    }
   ],
   "source": [
    "# load data file\n",
    "d = pd.read_csv(r\"/home/vera/MNE/ANOVA/table_for_anova_hemisphere_short_int.csv\")\n",
    "d.tail(10)"
   ]
  },
  {
   "cell_type": "markdown",
   "metadata": {},
   "source": [
    "###### Строим Boxplot для трех условий"
   ]
  },
  {
   "cell_type": "code",
   "execution_count": 3,
   "metadata": {},
   "outputs": [],
   "source": [
    "my_pal = {Hand: \"r\" if Hand == \"right\" else \"b\" for Hand in d.Hand.unique()}"
   ]
  },
  {
   "cell_type": "code",
   "execution_count": 4,
   "metadata": {},
   "outputs": [
    {
     "data": {
      "text/plain": [
       "<matplotlib.legend.Legend at 0x7fe24c593160>"
      ]
     },
     "execution_count": 4,
     "metadata": {},
     "output_type": "execute_result"
    },
    {
     "data": {
      "image/png": "[encoded data removed]",
      "text/plain": [
       "<Figure size 432x288 with 1 Axes>"
      ]
     },
     "metadata": {
      "needs_background": "light"
     },
     "output_type": "display_data"
    }
   ],
   "source": [
    "sns.boxplot(x=\"Condition\", y=\"Minimum_beta\", hue=\"Hand\", data=d, palette=my_pal)\n",
    "plt.legend(bbox_to_anchor=(1.01, 1),borderaxespad=0)\n",
    "plt.savefig(\"/home/vera/MNE/ANOVA/boxplot/boxplot_three_cond_minimum.jpeg\", format='jpeg',dpi=300)"
   ]
  },
  {
   "cell_type": "code",
   "execution_count": 5,
   "metadata": {},
   "outputs": [
    {
     "data": {
      "text/plain": [
       "<matplotlib.legend.Legend at 0x7fe21cd05d30>"
      ]
     },
     "execution_count": 5,
     "metadata": {},
     "output_type": "execute_result"
    },
    {
     "data": {
      "image/png": "[encoded data removed]",
      "text/plain": [
       "<Figure size 432x288 with 1 Axes>"
      ]
     },
     "metadata": {
      "needs_background": "light"
     },
     "output_type": "display_data"
    }
   ],
   "source": [
    "sns.boxplot(x=\"Condition\", y=\"Maximum_beta\", hue=\"Hand\", data=d, palette=my_pal)\n",
    "plt.legend(bbox_to_anchor=(1.2, 1),borderaxespad=0)\n",
    "plt.savefig(\"/home/vera/MNE/ANOVA/boxplot/boxplot_three_cond_maximum.jpeg\", format='jpeg',dpi=300)"
   ]
  },
  {
   "cell_type": "markdown",
   "metadata": {},
   "source": [
    "### Друая цветовая палитра "
   ]
  },
  {
   "cell_type": "code",
   "execution_count": 30,
   "metadata": {},
   "outputs": [
    {
     "data": {
      "image/png": "[encoded data removed]",
      "text/plain": [
       "<Figure size 432x288 with 1 Axes>"
      ]
     },
     "metadata": {
      "needs_background": "light"
     },
     "output_type": "display_data"
    }
   ],
   "source": [
    "sns.boxplot(x=\"Condition\", y=\"Minimum_beta\", hue=\"Hand\", data=d, palette=\"Set3\")\n",
    "plt.legend(bbox_to_anchor=(1.01, 1),borderaxespad=0)\n",
    "plt.savefig(\"/home/vera/MNE/ANOVA/boxplot/boxplot_three_cond_minimum_short_int.jpeg\", format='jpeg',dpi=300)"
   ]
  },
  {
   "cell_type": "code",
   "execution_count": 34,
   "metadata": {},
   "outputs": [
    {
     "data": {
      "image/png": "[encoded data removed]",
      "text/plain": [
       "<Figure size 432x288 with 1 Axes>"
      ]
     },
     "metadata": {
      "needs_background": "light"
     },
     "output_type": "display_data"
    }
   ],
   "source": [
    "sns.boxplot(x=\"Condition\", y=\"Maximum_beta\", hue=\"Hand\", data=d, palette=\"Set3\")\n",
    "plt.legend(bbox_to_anchor=(1.2, 1),borderaxespad=0)\n",
    "plt.savefig(\"/home/vera/MNE/ANOVA/boxplot/boxplot_three_cond_maximum_short_int.jpeg\", format='jpeg',dpi=300)"
   ]
  },
  {
   "cell_type": "markdown",
   "metadata": {},
   "source": [
    "###### Строим модель и проводим дисперсионный анализ (для не связанных выборок, поскольку у нас разные испытуемые)"
   ]
  },
  {
   "cell_type": "code",
   "execution_count": 6,
   "metadata": {},
   "outputs": [
    {
     "data": {
      "text/html": [
       "<div>\n",
       "<style scoped>\n",
       "    .dataframe tbody tr th:only-of-type {\n",
       "        vertical-align: middle;\n",
       "    }\n",
       "\n",
       "    .dataframe tbody tr th {\n",
       "        vertical-align: top;\n",
       "    }\n",
       "\n",
       "    .dataframe thead th {\n",
       "        text-align: right;\n",
       "    }\n",
       "</style>\n",
       "<table border=\"1\" class=\"dataframe\">\n",
       "  <thead>\n",
       "    <tr style=\"text-align: right;\">\n",
       "      <th></th>\n",
       "      <th>sum_sq</th>\n",
       "      <th>df</th>\n",
       "      <th>F</th>\n",
       "      <th>PR(&gt;F)</th>\n",
       "    </tr>\n",
       "  </thead>\n",
       "  <tbody>\n",
       "    <tr>\n",
       "      <th>C(Condition)</th>\n",
       "      <td>127.767336</td>\n",
       "      <td>2.0</td>\n",
       "      <td>9.135483</td>\n",
       "      <td>0.000144</td>\n",
       "    </tr>\n",
       "    <tr>\n",
       "      <th>C(Hand)</th>\n",
       "      <td>5.958411</td>\n",
       "      <td>1.0</td>\n",
       "      <td>0.852064</td>\n",
       "      <td>0.356770</td>\n",
       "    </tr>\n",
       "    <tr>\n",
       "      <th>C(Condition):C(Hand)</th>\n",
       "      <td>3.068083</td>\n",
       "      <td>2.0</td>\n",
       "      <td>0.219371</td>\n",
       "      <td>0.803163</td>\n",
       "    </tr>\n",
       "    <tr>\n",
       "      <th>Residual</th>\n",
       "      <td>1944.030682</td>\n",
       "      <td>278.0</td>\n",
       "      <td>NaN</td>\n",
       "      <td>NaN</td>\n",
       "    </tr>\n",
       "  </tbody>\n",
       "</table>\n",
       "</div>"
      ],
      "text/plain": [
       "                           sum_sq     df         F    PR(>F)\n",
       "C(Condition)           127.767336    2.0  9.135483  0.000144\n",
       "C(Hand)                  5.958411    1.0  0.852064  0.356770\n",
       "C(Condition):C(Hand)     3.068083    2.0  0.219371  0.803163\n",
       "Residual              1944.030682  278.0       NaN       NaN"
      ]
     },
     "execution_count": 6,
     "metadata": {},
     "output_type": "execute_result"
    }
   ],
   "source": [
    "model = ols('Minimum_beta ~ C(Condition) + C(Hand) + C(Condition):C(Hand)', data=d).fit()\n",
    "anova_table = sm.stats.anova_lm(model, typ=2)\n",
    "anova_table"
   ]
  },
  {
   "cell_type": "code",
   "execution_count": 22,
   "metadata": {
    "scrolled": true
   },
   "outputs": [
    {
     "data": {
      "text/html": [
       "<div>\n",
       "<style scoped>\n",
       "    .dataframe tbody tr th:only-of-type {\n",
       "        vertical-align: middle;\n",
       "    }\n",
       "\n",
       "    .dataframe tbody tr th {\n",
       "        vertical-align: top;\n",
       "    }\n",
       "\n",
       "    .dataframe thead th {\n",
       "        text-align: right;\n",
       "    }\n",
       "</style>\n",
       "<table border=\"1\" class=\"dataframe\">\n",
       "  <thead>\n",
       "    <tr style=\"text-align: right;\">\n",
       "      <th></th>\n",
       "      <th>sum_sq</th>\n",
       "      <th>df</th>\n",
       "      <th>F</th>\n",
       "      <th>PR(&gt;F)</th>\n",
       "    </tr>\n",
       "  </thead>\n",
       "  <tbody>\n",
       "    <tr>\n",
       "      <th>C(Condition)</th>\n",
       "      <td>161.578040</td>\n",
       "      <td>2.0</td>\n",
       "      <td>11.913934</td>\n",
       "      <td>0.000011</td>\n",
       "    </tr>\n",
       "    <tr>\n",
       "      <th>C(Hand)</th>\n",
       "      <td>3.456410</td>\n",
       "      <td>1.0</td>\n",
       "      <td>0.509716</td>\n",
       "      <td>0.475861</td>\n",
       "    </tr>\n",
       "    <tr>\n",
       "      <th>C(Condition):C(Hand)</th>\n",
       "      <td>5.094349</td>\n",
       "      <td>2.0</td>\n",
       "      <td>0.375631</td>\n",
       "      <td>0.687204</td>\n",
       "    </tr>\n",
       "    <tr>\n",
       "      <th>Residual</th>\n",
       "      <td>1885.132775</td>\n",
       "      <td>278.0</td>\n",
       "      <td>NaN</td>\n",
       "      <td>NaN</td>\n",
       "    </tr>\n",
       "  </tbody>\n",
       "</table>\n",
       "</div>"
      ],
      "text/plain": [
       "                           sum_sq     df          F    PR(>F)\n",
       "C(Condition)           161.578040    2.0  11.913934  0.000011\n",
       "C(Hand)                  3.456410    1.0   0.509716  0.475861\n",
       "C(Condition):C(Hand)     5.094349    2.0   0.375631  0.687204\n",
       "Residual              1885.132775  278.0        NaN       NaN"
      ]
     },
     "execution_count": 22,
     "metadata": {},
     "output_type": "execute_result"
    }
   ],
   "source": [
    "model = ols('Maximum_beta ~ C(Condition) + C(Hand) + C(Condition):C(Hand)', data=d).fit()\n",
    "anova_table = sm.stats.anova_lm(model, typ=2)\n",
    "anova_table"
   ]
  },
  {
   "cell_type": "markdown",
   "metadata": {},
   "source": [
    "# ANOVA для не связанных выборок с тремя факторами (Рука, полушарие, кондишен)"
   ]
  },
  {
   "cell_type": "code",
   "execution_count": 35,
   "metadata": {},
   "outputs": [
    {
     "data": {
      "text/html": [
       "<div>\n",
       "<style scoped>\n",
       "    .dataframe tbody tr th:only-of-type {\n",
       "        vertical-align: middle;\n",
       "    }\n",
       "\n",
       "    .dataframe tbody tr th {\n",
       "        vertical-align: top;\n",
       "    }\n",
       "\n",
       "    .dataframe thead th {\n",
       "        text-align: right;\n",
       "    }\n",
       "</style>\n",
       "<table border=\"1\" class=\"dataframe\">\n",
       "  <thead>\n",
       "    <tr style=\"text-align: right;\">\n",
       "      <th></th>\n",
       "      <th>Subject</th>\n",
       "      <th>Condition</th>\n",
       "      <th>Hand</th>\n",
       "      <th>Hemisphere</th>\n",
       "      <th>Minimum_beta</th>\n",
       "      <th>Maximum_beta</th>\n",
       "    </tr>\n",
       "  </thead>\n",
       "  <tbody>\n",
       "    <tr>\n",
       "      <th>274</th>\n",
       "      <td>L019</td>\n",
       "      <td>self_pased</td>\n",
       "      <td>left</td>\n",
       "      <td>ipsilateral</td>\n",
       "      <td>-0.261534</td>\n",
       "      <td>0.869477</td>\n",
       "    </tr>\n",
       "    <tr>\n",
       "      <th>275</th>\n",
       "      <td>L020</td>\n",
       "      <td>self_pased</td>\n",
       "      <td>left</td>\n",
       "      <td>ipsilateral</td>\n",
       "      <td>-5.793184</td>\n",
       "      <td>-0.572137</td>\n",
       "    </tr>\n",
       "    <tr>\n",
       "      <th>276</th>\n",
       "      <td>L021</td>\n",
       "      <td>self_pased</td>\n",
       "      <td>left</td>\n",
       "      <td>ipsilateral</td>\n",
       "      <td>-0.280809</td>\n",
       "      <td>1.244223</td>\n",
       "    </tr>\n",
       "    <tr>\n",
       "      <th>277</th>\n",
       "      <td>L022</td>\n",
       "      <td>self_pased</td>\n",
       "      <td>left</td>\n",
       "      <td>ipsilateral</td>\n",
       "      <td>-3.976470</td>\n",
       "      <td>-1.142184</td>\n",
       "    </tr>\n",
       "    <tr>\n",
       "      <th>278</th>\n",
       "      <td>L023</td>\n",
       "      <td>self_pased</td>\n",
       "      <td>left</td>\n",
       "      <td>ipsilateral</td>\n",
       "      <td>-1.920863</td>\n",
       "      <td>0.502556</td>\n",
       "    </tr>\n",
       "    <tr>\n",
       "      <th>279</th>\n",
       "      <td>L024</td>\n",
       "      <td>self_pased</td>\n",
       "      <td>left</td>\n",
       "      <td>ipsilateral</td>\n",
       "      <td>0.245915</td>\n",
       "      <td>-0.951387</td>\n",
       "    </tr>\n",
       "    <tr>\n",
       "      <th>280</th>\n",
       "      <td>L025</td>\n",
       "      <td>self_pased</td>\n",
       "      <td>left</td>\n",
       "      <td>ipsilateral</td>\n",
       "      <td>-3.310223</td>\n",
       "      <td>0.036865</td>\n",
       "    </tr>\n",
       "    <tr>\n",
       "      <th>281</th>\n",
       "      <td>L026</td>\n",
       "      <td>self_pased</td>\n",
       "      <td>left</td>\n",
       "      <td>ipsilateral</td>\n",
       "      <td>-1.851566</td>\n",
       "      <td>0.849769</td>\n",
       "    </tr>\n",
       "    <tr>\n",
       "      <th>282</th>\n",
       "      <td>L027</td>\n",
       "      <td>self_pased</td>\n",
       "      <td>left</td>\n",
       "      <td>ipsilateral</td>\n",
       "      <td>-3.804128</td>\n",
       "      <td>4.076597</td>\n",
       "    </tr>\n",
       "    <tr>\n",
       "      <th>283</th>\n",
       "      <td>L028</td>\n",
       "      <td>self_pased</td>\n",
       "      <td>left</td>\n",
       "      <td>ipsilateral</td>\n",
       "      <td>-0.783858</td>\n",
       "      <td>0.824081</td>\n",
       "    </tr>\n",
       "  </tbody>\n",
       "</table>\n",
       "</div>"
      ],
      "text/plain": [
       "    Subject   Condition  Hand   Hemisphere  Minimum_beta  Maximum_beta\n",
       "274    L019  self_pased  left  ipsilateral     -0.261534      0.869477\n",
       "275    L020  self_pased  left  ipsilateral     -5.793184     -0.572137\n",
       "276    L021  self_pased  left  ipsilateral     -0.280809      1.244223\n",
       "277    L022  self_pased  left  ipsilateral     -3.976470     -1.142184\n",
       "278    L023  self_pased  left  ipsilateral     -1.920863      0.502556\n",
       "279    L024  self_pased  left  ipsilateral      0.245915     -0.951387\n",
       "280    L025  self_pased  left  ipsilateral     -3.310223      0.036865\n",
       "281    L026  self_pased  left  ipsilateral     -1.851566      0.849769\n",
       "282    L027  self_pased  left  ipsilateral     -3.804128      4.076597\n",
       "283    L028  self_pased  left  ipsilateral     -0.783858      0.824081"
      ]
     },
     "execution_count": 35,
     "metadata": {},
     "output_type": "execute_result"
    }
   ],
   "source": [
    "# load data file\n",
    "d = pd.read_csv(r\"/home/vera/MNE/ANOVA/table_for_anova_hemisphere_short_int.csv\")\n",
    "d.tail(10)"
   ]
  },
  {
   "cell_type": "markdown",
   "metadata": {},
   "source": [
    "# Box plot for Minimum"
   ]
  },
  {
   "cell_type": "code",
   "execution_count": 37,
   "metadata": {},
   "outputs": [
    {
     "data": {
      "text/plain": [
       "<matplotlib.legend.Legend at 0x7f823b294850>"
      ]
     },
     "execution_count": 37,
     "metadata": {},
     "output_type": "execute_result"
    },
    {
     "data": {
      "image/png": "[encoded data removed]",
      "text/plain": [
       "<Figure size 432x288 with 1 Axes>"
      ]
     },
     "metadata": {
      "needs_background": "light"
     },
     "output_type": "display_data"
    }
   ],
   "source": [
    "my_pal = {Hand: \"r\" if Hand == \"right\" else \"b\" for Hand in d.Hand.unique()}\n",
    "sns.boxplot(x=\"Condition\", y=\"Minimum_beta\", hue=\"Hand\", data=d, palette=\"Set3\")\n",
    "plt.legend(bbox_to_anchor=(1.2, 1),borderaxespad=0)"
   ]
  },
  {
   "cell_type": "code",
   "execution_count": 38,
   "metadata": {},
   "outputs": [
    {
     "data": {
      "text/plain": [
       "<matplotlib.legend.Legend at 0x7f823b2afa00>"
      ]
     },
     "execution_count": 38,
     "metadata": {},
     "output_type": "execute_result"
    },
    {
     "data": {
      "image/png": "[encoded data removed]",
      "text/plain": [
       "<Figure size 432x288 with 1 Axes>"
      ]
     },
     "metadata": {
      "needs_background": "light"
     },
     "output_type": "display_data"
    }
   ],
   "source": [
    "my_pal2 = {Hemisphere: \"pink\" if Hemisphere == \"ipsilateral\" else \"g\" for Hemisphere in d.Hemisphere.unique()}\n",
    "sns.boxplot(x=\"Condition\", y=\"Minimum_beta\", hue=\"Hemisphere\", data=d, palette=my_pal2)\n",
    "plt.legend(bbox_to_anchor=(1.35, 1),borderaxespad=0)"
   ]
  },
  {
   "cell_type": "markdown",
   "metadata": {},
   "source": [
    "# Box plot for Maximum"
   ]
  },
  {
   "cell_type": "code",
   "execution_count": 39,
   "metadata": {},
   "outputs": [
    {
     "data": {
      "text/plain": [
       "<matplotlib.legend.Legend at 0x7f823af0dd30>"
      ]
     },
     "execution_count": 39,
     "metadata": {},
     "output_type": "execute_result"
    },
    {
     "data": {
      "image/png": "[encoded data removed]",
      "text/plain": [
       "<Figure size 432x288 with 1 Axes>"
      ]
     },
     "metadata": {
      "needs_background": "light"
     },
     "output_type": "display_data"
    }
   ],
   "source": [
    "my_pal = {Hand: \"r\" if Hand == \"right\" else \"b\" for Hand in d.Hand.unique()}\n",
    "sns.boxplot(x=\"Condition\", y=\"Maximum_beta\", hue=\"Hand\", data=d, palette=\"Set3\")\n",
    "plt.legend(bbox_to_anchor=(1.2, 1),borderaxespad=0)\n",
    "#plt.savefig(\"/home/vera/MNE/ANOVA/boxplot/boxplot_three_cond_maximum.jpeg\", format='jpeg',dpi=300)"
   ]
  },
  {
   "cell_type": "code",
   "execution_count": 40,
   "metadata": {},
   "outputs": [
    {
     "data": {
      "text/plain": [
       "<matplotlib.legend.Legend at 0x7f823af4e100>"
      ]
     },
     "execution_count": 40,
     "metadata": {},
     "output_type": "execute_result"
    },
    {
     "data": {
      "image/png": "[encoded data removed]",
      "text/plain": [
       "<Figure size 432x288 with 1 Axes>"
      ]
     },
     "metadata": {
      "needs_background": "light"
     },
     "output_type": "display_data"
    }
   ],
   "source": [
    "my_pal2 = {Hemisphere: \"pink\" if Hemisphere == \"ipsilateral\" else \"g\" for Hemisphere in d.Hemisphere.unique()}\n",
    "sns.boxplot(x=\"Condition\", y=\"Maximum_beta\", hue=\"Hemisphere\", data=d, palette=my_pal2)\n",
    "plt.legend(bbox_to_anchor=(1.35, 1),borderaxespad=0)"
   ]
  },
  {
   "cell_type": "code",
   "execution_count": null,
   "metadata": {},
   "outputs": [],
   "source": [
    "my_pal = {Hand: \"r\" if Hand == \"right\" else \"b\" for Hand in d.Hand.unique()}\n",
    "sns.boxplot(x=\"Condition\", y=\"Minimum_beta\", hue=[\"Hand\", \"Hemisphere\"], data=d, palette=my_pal)\n",
    "plt.legend(bbox_to_anchor=(1.2, 1),borderaxespad=0)"
   ]
  },
  {
   "cell_type": "markdown",
   "metadata": {},
   "source": [
    "# 12 boxplots на одном графике  \n",
    "\n",
    "для этого добавляем столбец Hand_plot, где вместо двух значений переменной (rigth, left)  у нас становиться 4: 'right_contra', 'right_ipsi', 'left_contra', 'left_ipsi'"
   ]
  },
  {
   "cell_type": "code",
   "execution_count": 7,
   "metadata": {},
   "outputs": [
    {
     "data": {
      "text/html": [
       "<div>\n",
       "<style scoped>\n",
       "    .dataframe tbody tr th:only-of-type {\n",
       "        vertical-align: middle;\n",
       "    }\n",
       "\n",
       "    .dataframe tbody tr th {\n",
       "        vertical-align: top;\n",
       "    }\n",
       "\n",
       "    .dataframe thead th {\n",
       "        text-align: right;\n",
       "    }\n",
       "</style>\n",
       "<table border=\"1\" class=\"dataframe\">\n",
       "  <thead>\n",
       "    <tr style=\"text-align: right;\">\n",
       "      <th></th>\n",
       "      <th>Subject</th>\n",
       "      <th>Condition</th>\n",
       "      <th>Hand</th>\n",
       "      <th>Hand_plot</th>\n",
       "      <th>Hemisphere</th>\n",
       "      <th>Minimum_beta</th>\n",
       "      <th>Maximum_beta</th>\n",
       "    </tr>\n",
       "  </thead>\n",
       "  <tbody>\n",
       "    <tr>\n",
       "      <th>274</th>\n",
       "      <td>L019</td>\n",
       "      <td>self_pased</td>\n",
       "      <td>left</td>\n",
       "      <td>left_ipsi</td>\n",
       "      <td>ipsilateral</td>\n",
       "      <td>-0.261534</td>\n",
       "      <td>0.869477</td>\n",
       "    </tr>\n",
       "    <tr>\n",
       "      <th>275</th>\n",
       "      <td>L020</td>\n",
       "      <td>self_pased</td>\n",
       "      <td>left</td>\n",
       "      <td>left_ipsi</td>\n",
       "      <td>ipsilateral</td>\n",
       "      <td>-5.793184</td>\n",
       "      <td>-0.572137</td>\n",
       "    </tr>\n",
       "    <tr>\n",
       "      <th>276</th>\n",
       "      <td>L021</td>\n",
       "      <td>self_pased</td>\n",
       "      <td>left</td>\n",
       "      <td>left_ipsi</td>\n",
       "      <td>ipsilateral</td>\n",
       "      <td>-0.280809</td>\n",
       "      <td>1.244223</td>\n",
       "    </tr>\n",
       "    <tr>\n",
       "      <th>277</th>\n",
       "      <td>L022</td>\n",
       "      <td>self_pased</td>\n",
       "      <td>left</td>\n",
       "      <td>left_ipsi</td>\n",
       "      <td>ipsilateral</td>\n",
       "      <td>-3.976470</td>\n",
       "      <td>-1.142184</td>\n",
       "    </tr>\n",
       "    <tr>\n",
       "      <th>278</th>\n",
       "      <td>L023</td>\n",
       "      <td>self_pased</td>\n",
       "      <td>left</td>\n",
       "      <td>left_ipsi</td>\n",
       "      <td>ipsilateral</td>\n",
       "      <td>-1.920863</td>\n",
       "      <td>0.502556</td>\n",
       "    </tr>\n",
       "    <tr>\n",
       "      <th>279</th>\n",
       "      <td>L024</td>\n",
       "      <td>self_pased</td>\n",
       "      <td>left</td>\n",
       "      <td>left_ipsi</td>\n",
       "      <td>ipsilateral</td>\n",
       "      <td>0.245915</td>\n",
       "      <td>-0.951387</td>\n",
       "    </tr>\n",
       "    <tr>\n",
       "      <th>280</th>\n",
       "      <td>L025</td>\n",
       "      <td>self_pased</td>\n",
       "      <td>left</td>\n",
       "      <td>left_ipsi</td>\n",
       "      <td>ipsilateral</td>\n",
       "      <td>-3.310223</td>\n",
       "      <td>0.036865</td>\n",
       "    </tr>\n",
       "    <tr>\n",
       "      <th>281</th>\n",
       "      <td>L026</td>\n",
       "      <td>self_pased</td>\n",
       "      <td>left</td>\n",
       "      <td>left_ipsi</td>\n",
       "      <td>ipsilateral</td>\n",
       "      <td>-1.851566</td>\n",
       "      <td>0.849769</td>\n",
       "    </tr>\n",
       "    <tr>\n",
       "      <th>282</th>\n",
       "      <td>L027</td>\n",
       "      <td>self_pased</td>\n",
       "      <td>left</td>\n",
       "      <td>left_ipsi</td>\n",
       "      <td>ipsilateral</td>\n",
       "      <td>-3.804128</td>\n",
       "      <td>4.076597</td>\n",
       "    </tr>\n",
       "    <tr>\n",
       "      <th>283</th>\n",
       "      <td>L028</td>\n",
       "      <td>self_pased</td>\n",
       "      <td>left</td>\n",
       "      <td>left_ipsi</td>\n",
       "      <td>ipsilateral</td>\n",
       "      <td>-0.783858</td>\n",
       "      <td>0.824081</td>\n",
       "    </tr>\n",
       "  </tbody>\n",
       "</table>\n",
       "</div>"
      ],
      "text/plain": [
       "    Subject   Condition  Hand  Hand_plot   Hemisphere  Minimum_beta  \\\n",
       "274    L019  self_pased  left  left_ipsi  ipsilateral     -0.261534   \n",
       "275    L020  self_pased  left  left_ipsi  ipsilateral     -5.793184   \n",
       "276    L021  self_pased  left  left_ipsi  ipsilateral     -0.280809   \n",
       "277    L022  self_pased  left  left_ipsi  ipsilateral     -3.976470   \n",
       "278    L023  self_pased  left  left_ipsi  ipsilateral     -1.920863   \n",
       "279    L024  self_pased  left  left_ipsi  ipsilateral      0.245915   \n",
       "280    L025  self_pased  left  left_ipsi  ipsilateral     -3.310223   \n",
       "281    L026  self_pased  left  left_ipsi  ipsilateral     -1.851566   \n",
       "282    L027  self_pased  left  left_ipsi  ipsilateral     -3.804128   \n",
       "283    L028  self_pased  left  left_ipsi  ipsilateral     -0.783858   \n",
       "\n",
       "     Maximum_beta  \n",
       "274      0.869477  \n",
       "275     -0.572137  \n",
       "276      1.244223  \n",
       "277     -1.142184  \n",
       "278      0.502556  \n",
       "279     -0.951387  \n",
       "280      0.036865  \n",
       "281      0.849769  \n",
       "282      4.076597  \n",
       "283      0.824081  "
      ]
     },
     "execution_count": 7,
     "metadata": {},
     "output_type": "execute_result"
    }
   ],
   "source": [
    "# load data file\n",
    "d = pd.read_csv(r\"table_for_anova_hands_hemisphere_short_int.csv\")\n",
    "d.tail(10)"
   ]
  },
  {
   "cell_type": "code",
   "execution_count": 53,
   "metadata": {},
   "outputs": [
    {
     "data": {
      "text/plain": [
       "<matplotlib.legend.Legend at 0x7f823b0d1c40>"
      ]
     },
     "execution_count": 53,
     "metadata": {},
     "output_type": "execute_result"
    },
    {
     "data": {
      "image/png": "[encoded data removed]",
      "text/plain": [
       "<Figure size 432x288 with 1 Axes>"
      ]
     },
     "metadata": {
      "needs_background": "light"
     },
     "output_type": "display_data"
    }
   ],
   "source": [
    "#my_pal = {Hand: \"r\" if Hand == \"right\" else \"b\" for Hand in d.Hand.unique()}\n",
    "sns.boxplot(x=\"Condition\", y=\"Minimum_beta\", hue=\"Hand_plot\", data=d, palette=\"Set3\")\n",
    "plt.legend(bbox_to_anchor=(1.2, 1),borderaxespad=0)"
   ]
  },
  {
   "cell_type": "markdown",
   "metadata": {},
   "source": [
    "###  задаем необходимые нам цвета"
   ]
  },
  {
   "cell_type": "code",
   "execution_count": 15,
   "metadata": {},
   "outputs": [
    {
     "data": {
      "text/plain": [
       "['right_contra', 'right_ipsi', 'left_contra', 'left_ipsi']"
      ]
     },
     "execution_count": 15,
     "metadata": {},
     "output_type": "execute_result"
    }
   ],
   "source": [
    "hands = d.Hand_plot.unique().tolist()\n",
    "hands\n"
   ]
  },
  {
   "cell_type": "code",
   "execution_count": 16,
   "metadata": {},
   "outputs": [],
   "source": [
    "# Hex code for each continents color\n",
    "hands_colors=[\"magenta\", \"pink\", \"skyblue\", \"green\"]"
   ]
  },
  {
   "cell_type": "code",
   "execution_count": 17,
   "metadata": {},
   "outputs": [
    {
     "data": {
      "image/png": "[encoded data removed]",
      "text/plain": [
       "<Figure size 432x288 with 1 Axes>"
      ]
     },
     "metadata": {
      "needs_background": "light"
     },
     "output_type": "display_data"
    }
   ],
   "source": [
    "color_dict = dict(zip(hands, hands_colors))\n",
    "sns.boxplot(x=\"Condition\", y=\"Minimum_beta\", hue=\"Hand_plot\", data=d, palette=color_dict)\n",
    "plt.legend(bbox_to_anchor=(1.2, 1),borderaxespad=0)\n",
    "plt.savefig(\"/home/vera/MNE/ANOVA/boxplot/boxplot_three_cond_minimum_hand_hemisphere_short_int.jpeg\", format='jpeg',dpi=300)"
   ]
  },
  {
   "cell_type": "code",
   "execution_count": 19,
   "metadata": {
    "scrolled": true
   },
   "outputs": [
    {
     "data": {
      "image/png": "[encoded data removed]",
      "text/plain": [
       "<Figure size 432x288 with 1 Axes>"
      ]
     },
     "metadata": {
      "needs_background": "light"
     },
     "output_type": "display_data"
    }
   ],
   "source": [
    "sns.boxplot(x=\"Condition\", y=\"Maximum_beta\", hue=\"Hand_plot\", data=d, palette=color_dict)\n",
    "plt.legend(bbox_to_anchor=(1.3, 1),borderaxespad=0)\n",
    "plt.savefig(\"/home/vera/MNE/ANOVA/boxplot/boxplot_three_cond_maximum_hand_hemisphere_short_int.jpeg\", format='jpeg',dpi=300)"
   ]
  },
  {
   "cell_type": "markdown",
   "metadata": {},
   "source": [
    "# Другой вид графика для тех же данных  - Bar plots\n",
    "\n",
    "https://pythonbasics.org/seaborn-barplot/  \n",
    "https://seaborn.pydata.org/generated/seaborn.barplot.html"
   ]
  },
  {
   "cell_type": "code",
   "execution_count": 21,
   "metadata": {},
   "outputs": [
    {
     "data": {
      "text/plain": [
       "Text(0, 0.5, 'Beta')"
      ]
     },
     "execution_count": 21,
     "metadata": {},
     "output_type": "execute_result"
    },
    {
     "data": {
      "image/png": "[encoded data removed]",
      "text/plain": [
       "<Figure size 432x288 with 1 Axes>"
      ]
     },
     "metadata": {
      "needs_background": "light"
     },
     "output_type": "display_data"
    }
   ],
   "source": [
    "# Если вместо среднего хотим задать другую меру центральной тенденции, то явно указываем estimator=median (см. примеры по ссылкам)\n",
    "# По умолчанию, показан 95% доверительный интервал (+/- 1.96SE, где SE стандартная ошибка среднего)\n",
    "color_dict = dict(zip(hands, hands_colors))\n",
    "\n",
    "fig = sns.barplot(x=\"Condition\", y=\"Maximum_beta\", hue=\"Hand_plot\", data=d, capsize=.1)\n",
    "\n",
    "plt.legend(bbox_to_anchor=(1.3, 1),borderaxespad=0)\n",
    "plt.xticks(fig.get_xticks(), fig.get_xticks() * 100)\n",
    "fig.set_ylabel(\"Beta\", fontsize=15)"
   ]
  },
  {
   "cell_type": "code",
   "execution_count": 26,
   "metadata": {},
   "outputs": [
    {
     "data": {
      "image/png": "[encoded data removed]",
      "text/plain": [
       "<Figure size 432x288 with 1 Axes>"
      ]
     },
     "metadata": {
      "needs_background": "light"
     },
     "output_type": "display_data"
    }
   ],
   "source": [
    "age_plot = sns.barplot(x=\"Condition\", y=\"Maximum_beta\", hue=\"Hand_plot\", data=d, capsize=.1, palette=color_dict)\n",
    "#age_plot.get_legend().remove()\n",
    "plt.legend(bbox_to_anchor=(1.3, 1),borderaxespad=0)\n",
    "plt.setp(age_plot.get_xticklabels(), rotation=90)\n",
    "#plt.ylim(0, 40)\n",
    "#age_plot.tick_params(labelsize=14)\n",
    "age_plot.tick_params(length=0, axis='x')\n",
    "#plt.bar(width=0.8, bottom=None, align='center', data=None)\n",
    "#age_plot.set_ylabel(\"Age\", fontsize=15)\n",
    "#age_plot.set_xlabel(\"\", fontsize=1)\n",
    "plt.tight_layout()\n",
    "plt.show()"
   ]
  },
  {
   "cell_type": "code",
   "execution_count": 23,
   "metadata": {},
   "outputs": [
    {
     "data": {
      "image/png": "[encoded data removed]",
      "text/plain": [
       "<Figure size 432x288 with 1 Axes>"
      ]
     },
     "metadata": {},
     "output_type": "display_data"
    }
   ],
   "source": [
    "sns.set_style(\"whitegrid\")\n",
    "tips = sns.load_dataset(\"tips\")\n",
    "ax = sns.barplot(x=\"Condition\", y=\"Maximum_beta\", hue=\"Hand_plot\", data=d)\n",
    "\n",
    "# Set these based on your column counts\n",
    "columncounts = [20,40,60]\n",
    "\n",
    "# Maximum bar width is 1. Normalise counts to be in the interval 0-1. Need to supply a maximum possible count here as maxwidth\n",
    "def normaliseCounts(widths,maxwidth):\n",
    "    widths = np.array(widths)/float(maxwidth)\n",
    "    return widths\n",
    "\n",
    "widthbars = normaliseCounts(columncounts,100)\n",
    "\n",
    "# Loop over the bars, and adjust the width (and position, to keep the bar centred)\n",
    "for bar,newwidth in zip(ax.patches,widthbars):\n",
    "    x = bar.get_x()\n",
    "    width = bar.get_width()\n",
    "    centre = x+width/2.\n",
    "\n",
    "    bar.set_x(centre-newwidth/2.)\n",
    "    bar.set_width(newwidth)\n",
    "\n",
    "plt.show()"
   ]
  },
  {
   "cell_type": "code",
   "execution_count": 31,
   "metadata": {},
   "outputs": [
    {
     "data": {
      "image/png": "[encoded data removed]",
      "text/plain": [
       "<Figure size 432x288 with 1 Axes>"
      ]
     },
     "metadata": {
      "needs_background": "light"
     },
     "output_type": "display_data"
    },
    {
     "data": {
      "text/plain": [
       "'\\nfig = sns.barplot(x=\"Condition\", y=\"Maximum beta\", hue=\"Hand\", data=d, cap\\nfig.tick_params(length=0, axis=\\'x\\')size=.1, palette=color_dict, errwidth = 5)\\n\\n#plt.xticks(fig.get_xticks(), fig.get_xticks() * 100)\\nfig.tick_params(length=0, axis=\\'x\\')\\nplt.xlabel(\\'Condition\\', fontsize=40)\\n\\n\\nplt.legend(bbox_to_anchor=(1.3, 1),borderaxespad=0)\\n'"
      ]
     },
     "execution_count": 31,
     "metadata": {},
     "output_type": "execute_result"
    }
   ],
   "source": [
    "fig = sns.barplot(data=d, x=\"Condition\", y=\"Maximum_beta\", hue=\"Hand_plot\", capsize=.1, palette=color_dict, errwidth = 2)\n",
    "fig.get_legend().remove()\n",
    "#plt.setp(fig.get_xticklabels(), rotation=90)\n",
    "#plt.ylim(0, 40)\n",
    "#fig.tick_params(labelsize=14)\n",
    "#fig.tick_params(length=0, axis='x')\n",
    "plt.xlabel('Condition', fontsize=15)\n",
    "#fig.set_ylabel(\"\", fontsize=15)\n",
    "#fig.set_xlabel(\"Condition\", fontsize=1)\n",
    "plt.tight_layout()\n",
    "plt.show()\n",
    "\n",
    "'''\n",
    "fig = sns.barplot(x=\"Condition\", y=\"Maximum beta\", hue=\"Hand\", data=d, cap\n",
    "fig.tick_params(length=0, axis='x')size=.1, palette=color_dict, errwidth = 5)\n",
    "\n",
    "#plt.xticks(fig.get_xticks(), fig.get_xticks() * 100)\n",
    "fig.tick_params(length=0, axis='x')\n",
    "plt.xlabel('Condition', fontsize=40)\n",
    "\n",
    "\n",
    "plt.legend(bbox_to_anchor=(1.3, 1),borderaxespad=0)\n",
    "'''"
   ]
  },
  {
   "cell_type": "code",
   "execution_count": 32,
   "metadata": {},
   "outputs": [
    {
     "data": {
      "text/plain": [
       "<matplotlib.legend.Legend at 0x7fe219c1f6d0>"
      ]
     },
     "execution_count": 32,
     "metadata": {},
     "output_type": "execute_result"
    },
    {
     "data": {
      "image/png": "[encoded data removed]",
      "text/plain": [
       "<Figure size 432x288 with 1 Axes>"
      ]
     },
     "metadata": {
      "needs_background": "light"
     },
     "output_type": "display_data"
    }
   ],
   "source": [
    "color_dict = dict(zip(hands, hands_colors))\n",
    "\n",
    "fig = sns.barplot(x=\"Condition\", y=\"Maximum_beta\", hue=\"Hand_plot\", data=d, capsize=.1, palette=color_dict, errwidth = 2)\n",
    "\n",
    "plt.legend(bbox_to_anchor=(1.3, 1),borderaxespad=0)\n",
    "#fig.tick_params(length=0, axis='x')"
   ]
  },
  {
   "cell_type": "code",
   "execution_count": 7,
   "metadata": {
    "scrolled": true
   },
   "outputs": [
    {
     "data": {
      "image/png": "[encoded data removed]",
      "text/plain": [
       "<Figure size 432x288 with 1 Axes>"
      ]
     },
     "metadata": {
      "needs_background": "light"
     },
     "output_type": "display_data"
    }
   ],
   "source": [
    "sns.barplot(x=\"Condition\", y=\"Minimum_beta\", hue=\"Hand\", data=d, capsize=.1, palette=color_dict)\n",
    "\n",
    "plt.legend(bbox_to_anchor=(1.3, 1),borderaxespad=0)\n",
    "plt.savefig(\"/home/vera/MNE/ANOVA/barplot/barplot_three_cond_mininum_PreM_hand_hemisphere.jpeg\", format='jpeg',dpi=300)"
   ]
  },
  {
   "cell_type": "code",
   "execution_count": 8,
   "metadata": {},
   "outputs": [
    {
     "data": {
      "image/png": "[encoded data removed]",
      "text/plain": [
       "<Figure size 432x288 with 1 Axes>"
      ]
     },
     "metadata": {
      "needs_background": "light"
     },
     "output_type": "display_data"
    }
   ],
   "source": [
    "sns.barplot(x=\"Condition\", y=\"Maximum_beta\", hue=\"Hand\", data=d, capsize=.1, palette=color_dict)\n",
    "\n",
    "plt.legend(bbox_to_anchor=(1.3, 1),borderaxespad=0)\n",
    "plt.savefig(\"/home/vera/MNE/ANOVA/barplot/barplot_three_cond_maximum_PostM_hand_hemisphere.jpeg\", format='jpeg',dpi=300)"
   ]
  },
  {
   "cell_type": "markdown",
   "metadata": {},
   "source": [
    "# !!!!!  \n",
    "typ=2  \n",
    "https://stats.stackexchange.com/questions/345684/which-one-to-choose-type-i-type-ii-or-type-iii-anova   \n",
    "\n",
    "In a balanced design, all three of these model types will yield the same results. With unbalanced data, you will get different results for the main effects but not the interaction term, assuming you only have a two-way interaction (as in your example). The general advice is to use a Type II sums-of-squares model for unbalanced designs. This model tests the main effects without the interaction term. The difference comes down to how you weight each mean or cell of the factorial. In a Type III model, each cell of the factorial gets the same weight (even if some have smaller sample sizes). In a Type II model, each observation gets the same weight. In most situations (but not all!) the latter is more defensible.\n",
    "\n",
    "If you are only interested in the interaction, then this decision doesn't matter. The sum-of-squares for the interaction will be the same for all three model types.\n",
    "\n",
    "I just checked and your design is balanced. As such you can use Type III SS. Built-in R functions will work just fine here."
   ]
  },
  {
   "cell_type": "markdown",
   "metadata": {},
   "source": [
    "# Minimums"
   ]
  },
  {
   "cell_type": "code",
   "execution_count": 14,
   "metadata": {},
   "outputs": [
    {
     "data": {
      "text/html": [
       "<div>\n",
       "<style scoped>\n",
       "    .dataframe tbody tr th:only-of-type {\n",
       "        vertical-align: middle;\n",
       "    }\n",
       "\n",
       "    .dataframe tbody tr th {\n",
       "        vertical-align: top;\n",
       "    }\n",
       "\n",
       "    .dataframe thead th {\n",
       "        text-align: right;\n",
       "    }\n",
       "</style>\n",
       "<table border=\"1\" class=\"dataframe\">\n",
       "  <thead>\n",
       "    <tr style=\"text-align: right;\">\n",
       "      <th></th>\n",
       "      <th>sum_sq</th>\n",
       "      <th>df</th>\n",
       "      <th>F</th>\n",
       "      <th>PR(&gt;F)</th>\n",
       "    </tr>\n",
       "  </thead>\n",
       "  <tbody>\n",
       "    <tr>\n",
       "      <th>C(Condition)</th>\n",
       "      <td>102.175002</td>\n",
       "      <td>2.0</td>\n",
       "      <td>6.801191</td>\n",
       "      <td>0.001308</td>\n",
       "    </tr>\n",
       "    <tr>\n",
       "      <th>C(Hand)</th>\n",
       "      <td>2.592954</td>\n",
       "      <td>1.0</td>\n",
       "      <td>0.345196</td>\n",
       "      <td>0.557326</td>\n",
       "    </tr>\n",
       "    <tr>\n",
       "      <th>C(Hemisphere)</th>\n",
       "      <td>47.240753</td>\n",
       "      <td>1.0</td>\n",
       "      <td>6.289080</td>\n",
       "      <td>0.012723</td>\n",
       "    </tr>\n",
       "    <tr>\n",
       "      <th>C(Condition):C(Hand)</th>\n",
       "      <td>1.890505</td>\n",
       "      <td>2.0</td>\n",
       "      <td>0.125840</td>\n",
       "      <td>0.881807</td>\n",
       "    </tr>\n",
       "    <tr>\n",
       "      <th>C(Hemisphere):C(Hand)</th>\n",
       "      <td>20.987516</td>\n",
       "      <td>1.0</td>\n",
       "      <td>2.794032</td>\n",
       "      <td>0.095749</td>\n",
       "    </tr>\n",
       "    <tr>\n",
       "      <th>C(Condition):C(Hemisphere)</th>\n",
       "      <td>11.746944</td>\n",
       "      <td>2.0</td>\n",
       "      <td>0.781925</td>\n",
       "      <td>0.458535</td>\n",
       "    </tr>\n",
       "    <tr>\n",
       "      <th>Residual</th>\n",
       "      <td>2073.188296</td>\n",
       "      <td>276.0</td>\n",
       "      <td>NaN</td>\n",
       "      <td>NaN</td>\n",
       "    </tr>\n",
       "  </tbody>\n",
       "</table>\n",
       "</div>"
      ],
      "text/plain": [
       "                                 sum_sq     df         F    PR(>F)\n",
       "C(Condition)                 102.175002    2.0  6.801191  0.001308\n",
       "C(Hand)                        2.592954    1.0  0.345196  0.557326\n",
       "C(Hemisphere)                 47.240753    1.0  6.289080  0.012723\n",
       "C(Condition):C(Hand)           1.890505    2.0  0.125840  0.881807\n",
       "C(Hemisphere):C(Hand)         20.987516    1.0  2.794032  0.095749\n",
       "C(Condition):C(Hemisphere)    11.746944    2.0  0.781925  0.458535\n",
       "Residual                    2073.188296  276.0       NaN       NaN"
      ]
     },
     "execution_count": 14,
     "metadata": {},
     "output_type": "execute_result"
    }
   ],
   "source": [
    "model = ols('Minimum_beta ~ C(Condition) + C(Hand) + C(Hemisphere) + C(Condition):C(Hand) + C(Hemisphere):C(Hand) + C(Condition):C(Hemisphere)', data=d).fit()\n",
    "# typ=2, Type 2 Anova DataFrame, see above\n",
    "anova_table = sm.stats.anova_lm(model, typ=2)\n",
    "anova_table"
   ]
  },
  {
   "cell_type": "markdown",
   "metadata": {},
   "source": [
    "# Критерий Тьюки"
   ]
  },
  {
   "cell_type": "code",
   "execution_count": 26,
   "metadata": {},
   "outputs": [
    {
     "data": {
      "text/html": [
       "<div>\n",
       "<style scoped>\n",
       "    .dataframe tbody tr th:only-of-type {\n",
       "        vertical-align: middle;\n",
       "    }\n",
       "\n",
       "    .dataframe tbody tr th {\n",
       "        vertical-align: top;\n",
       "    }\n",
       "\n",
       "    .dataframe thead th {\n",
       "        text-align: right;\n",
       "    }\n",
       "</style>\n",
       "<table border=\"1\" class=\"dataframe\">\n",
       "  <thead>\n",
       "    <tr style=\"text-align: right;\">\n",
       "      <th></th>\n",
       "      <th>group1</th>\n",
       "      <th>group2</th>\n",
       "      <th>Diff</th>\n",
       "      <th>Lower</th>\n",
       "      <th>Upper</th>\n",
       "      <th>q-value</th>\n",
       "      <th>p-value</th>\n",
       "    </tr>\n",
       "  </thead>\n",
       "  <tbody>\n",
       "    <tr>\n",
       "      <th>0</th>\n",
       "      <td>probing</td>\n",
       "      <td>targeted</td>\n",
       "      <td>0.565208</td>\n",
       "      <td>-0.408473</td>\n",
       "      <td>1.538889</td>\n",
       "      <td>1.934571</td>\n",
       "      <td>0.360193</td>\n",
       "    </tr>\n",
       "    <tr>\n",
       "      <th>1</th>\n",
       "      <td>probing</td>\n",
       "      <td>self_pased</td>\n",
       "      <td>1.421862</td>\n",
       "      <td>0.498147</td>\n",
       "      <td>2.345577</td>\n",
       "      <td>5.129944</td>\n",
       "      <td>0.001000</td>\n",
       "    </tr>\n",
       "    <tr>\n",
       "      <th>2</th>\n",
       "      <td>targeted</td>\n",
       "      <td>self_pased</td>\n",
       "      <td>0.856654</td>\n",
       "      <td>-0.067061</td>\n",
       "      <td>1.780369</td>\n",
       "      <td>3.090727</td>\n",
       "      <td>0.075542</td>\n",
       "    </tr>\n",
       "  </tbody>\n",
       "</table>\n",
       "</div>"
      ],
      "text/plain": [
       "     group1      group2      Diff     Lower     Upper   q-value   p-value\n",
       "0   probing    targeted  0.565208 -0.408473  1.538889  1.934571  0.360193\n",
       "1   probing  self_pased  1.421862  0.498147  2.345577  5.129944  0.001000\n",
       "2  targeted  self_pased  0.856654 -0.067061  1.780369  3.090727  0.075542"
      ]
     },
     "execution_count": 26,
     "metadata": {},
     "output_type": "execute_result"
    }
   ],
   "source": [
    "res = stat()\n",
    "res.tukey_hsd(df=d, res_var='Minimum_beta', xfac_var='Condition', anova_model= 'Minimum_beta ~ C(Condition) + C(Hand) + C(Hemisphere) + C(Condition):C(Hand) + C(Hemisphere):C(Hand) + C(Condition):C(Hemisphere)')\n",
    "res.tukey_summary"
   ]
  },
  {
   "cell_type": "markdown",
   "metadata": {},
   "source": [
    "# Maximum"
   ]
  },
  {
   "cell_type": "code",
   "execution_count": 18,
   "metadata": {},
   "outputs": [
    {
     "data": {
      "text/html": [
       "<div>\n",
       "<style scoped>\n",
       "    .dataframe tbody tr th:only-of-type {\n",
       "        vertical-align: middle;\n",
       "    }\n",
       "\n",
       "    .dataframe tbody tr th {\n",
       "        vertical-align: top;\n",
       "    }\n",
       "\n",
       "    .dataframe thead th {\n",
       "        text-align: right;\n",
       "    }\n",
       "</style>\n",
       "<table border=\"1\" class=\"dataframe\">\n",
       "  <thead>\n",
       "    <tr style=\"text-align: right;\">\n",
       "      <th></th>\n",
       "      <th>sum_sq</th>\n",
       "      <th>df</th>\n",
       "      <th>F</th>\n",
       "      <th>PR(&gt;F)</th>\n",
       "    </tr>\n",
       "  </thead>\n",
       "  <tbody>\n",
       "    <tr>\n",
       "      <th>C(Condition)</th>\n",
       "      <td>139.373280</td>\n",
       "      <td>2.0</td>\n",
       "      <td>15.196809</td>\n",
       "      <td>5.480911e-07</td>\n",
       "    </tr>\n",
       "    <tr>\n",
       "      <th>C(Hand)</th>\n",
       "      <td>8.965128</td>\n",
       "      <td>1.0</td>\n",
       "      <td>1.955057</td>\n",
       "      <td>1.631655e-01</td>\n",
       "    </tr>\n",
       "    <tr>\n",
       "      <th>C(Hemisphere)</th>\n",
       "      <td>89.537765</td>\n",
       "      <td>1.0</td>\n",
       "      <td>19.525813</td>\n",
       "      <td>1.427432e-05</td>\n",
       "    </tr>\n",
       "    <tr>\n",
       "      <th>C(Condition):C(Hand)</th>\n",
       "      <td>1.925460</td>\n",
       "      <td>2.0</td>\n",
       "      <td>0.209946</td>\n",
       "      <td>8.107574e-01</td>\n",
       "    </tr>\n",
       "    <tr>\n",
       "      <th>C(Hemisphere):C(Hand)</th>\n",
       "      <td>10.978714</td>\n",
       "      <td>1.0</td>\n",
       "      <td>2.394167</td>\n",
       "      <td>1.229345e-01</td>\n",
       "    </tr>\n",
       "    <tr>\n",
       "      <th>C(Condition):C(Hemisphere)</th>\n",
       "      <td>0.463041</td>\n",
       "      <td>2.0</td>\n",
       "      <td>0.050489</td>\n",
       "      <td>9.507736e-01</td>\n",
       "    </tr>\n",
       "    <tr>\n",
       "      <th>Residual</th>\n",
       "      <td>1265.628401</td>\n",
       "      <td>276.0</td>\n",
       "      <td>NaN</td>\n",
       "      <td>NaN</td>\n",
       "    </tr>\n",
       "  </tbody>\n",
       "</table>\n",
       "</div>"
      ],
      "text/plain": [
       "                                 sum_sq     df          F        PR(>F)\n",
       "C(Condition)                 139.373280    2.0  15.196809  5.480911e-07\n",
       "C(Hand)                        8.965128    1.0   1.955057  1.631655e-01\n",
       "C(Hemisphere)                 89.537765    1.0  19.525813  1.427432e-05\n",
       "C(Condition):C(Hand)           1.925460    2.0   0.209946  8.107574e-01\n",
       "C(Hemisphere):C(Hand)         10.978714    1.0   2.394167  1.229345e-01\n",
       "C(Condition):C(Hemisphere)     0.463041    2.0   0.050489  9.507736e-01\n",
       "Residual                    1265.628401  276.0        NaN           NaN"
      ]
     },
     "execution_count": 18,
     "metadata": {},
     "output_type": "execute_result"
    }
   ],
   "source": [
    "model = ols('Maximum_beta ~ C(Condition) + C(Hand) + C(Hemisphere) + C(Condition):C(Hand) + C(Hemisphere):C(Hand) + C(Condition):C(Hemisphere)', data=d).fit()\n",
    "# typ= 2, Type 2 Anova DataFrame, see above\n",
    "anova_table = sm.stats.anova_lm(model, typ=2)\n",
    "anova_table"
   ]
  },
  {
   "cell_type": "markdown",
   "metadata": {},
   "source": [
    "# Критерий Тьюки (ANOVA с тремя факторами)"
   ]
  },
  {
   "cell_type": "code",
   "execution_count": 28,
   "metadata": {},
   "outputs": [
    {
     "data": {
      "text/html": [
       "<div>\n",
       "<style scoped>\n",
       "    .dataframe tbody tr th:only-of-type {\n",
       "        vertical-align: middle;\n",
       "    }\n",
       "\n",
       "    .dataframe tbody tr th {\n",
       "        vertical-align: top;\n",
       "    }\n",
       "\n",
       "    .dataframe thead th {\n",
       "        text-align: right;\n",
       "    }\n",
       "</style>\n",
       "<table border=\"1\" class=\"dataframe\">\n",
       "  <thead>\n",
       "    <tr style=\"text-align: right;\">\n",
       "      <th></th>\n",
       "      <th>group1</th>\n",
       "      <th>group2</th>\n",
       "      <th>Diff</th>\n",
       "      <th>Lower</th>\n",
       "      <th>Upper</th>\n",
       "      <th>q-value</th>\n",
       "      <th>p-value</th>\n",
       "    </tr>\n",
       "  </thead>\n",
       "  <tbody>\n",
       "    <tr>\n",
       "      <th>0</th>\n",
       "      <td>probing</td>\n",
       "      <td>targeted</td>\n",
       "      <td>1.737297</td>\n",
       "      <td>0.976532</td>\n",
       "      <td>2.498062</td>\n",
       "      <td>7.610566</td>\n",
       "      <td>0.00100</td>\n",
       "    </tr>\n",
       "    <tr>\n",
       "      <th>1</th>\n",
       "      <td>probing</td>\n",
       "      <td>self_pased</td>\n",
       "      <td>0.553821</td>\n",
       "      <td>-0.167904</td>\n",
       "      <td>1.275546</td>\n",
       "      <td>2.557355</td>\n",
       "      <td>0.16895</td>\n",
       "    </tr>\n",
       "    <tr>\n",
       "      <th>2</th>\n",
       "      <td>targeted</td>\n",
       "      <td>self_pased</td>\n",
       "      <td>1.183476</td>\n",
       "      <td>0.461751</td>\n",
       "      <td>1.905201</td>\n",
       "      <td>5.464885</td>\n",
       "      <td>0.00100</td>\n",
       "    </tr>\n",
       "  </tbody>\n",
       "</table>\n",
       "</div>"
      ],
      "text/plain": [
       "     group1      group2      Diff     Lower     Upper   q-value  p-value\n",
       "0   probing    targeted  1.737297  0.976532  2.498062  7.610566  0.00100\n",
       "1   probing  self_pased  0.553821 -0.167904  1.275546  2.557355  0.16895\n",
       "2  targeted  self_pased  1.183476  0.461751  1.905201  5.464885  0.00100"
      ]
     },
     "execution_count": 28,
     "metadata": {},
     "output_type": "execute_result"
    }
   ],
   "source": [
    "res = stat()\n",
    "res.tukey_hsd(df=d, res_var='Maximum_beta', xfac_var='Condition', anova_model= 'Maximum_beta ~ C(Condition) + C(Hand) + C(Hemisphere) + C(Condition):C(Hand) + C(Hemisphere):C(Hand) + C(Condition):C(Hemisphere)')\n",
    "res.tukey_summary"
   ]
  },
  {
   "cell_type": "markdown",
   "metadata": {},
   "source": [
    "# Двухфакторная ANOVA для кондишена с двумя уровнями (Targeting, Probing)"
   ]
  },
  {
   "cell_type": "code",
   "execution_count": 11,
   "metadata": {},
   "outputs": [
    {
     "data": {
      "text/html": [
       "<div>\n",
       "<style scoped>\n",
       "    .dataframe tbody tr th:only-of-type {\n",
       "        vertical-align: middle;\n",
       "    }\n",
       "\n",
       "    .dataframe tbody tr th {\n",
       "        vertical-align: top;\n",
       "    }\n",
       "\n",
       "    .dataframe thead th {\n",
       "        text-align: right;\n",
       "    }\n",
       "</style>\n",
       "<table border=\"1\" class=\"dataframe\">\n",
       "  <thead>\n",
       "    <tr style=\"text-align: right;\">\n",
       "      <th></th>\n",
       "      <th>Condition</th>\n",
       "      <th>Hand</th>\n",
       "      <th>Minimum_beta</th>\n",
       "      <th>Maximum_beta</th>\n",
       "    </tr>\n",
       "  </thead>\n",
       "  <tbody>\n",
       "    <tr>\n",
       "      <th>78</th>\n",
       "      <td>targeted</td>\n",
       "      <td>left</td>\n",
       "      <td>-5.160903</td>\n",
       "      <td>1.898086</td>\n",
       "    </tr>\n",
       "    <tr>\n",
       "      <th>79</th>\n",
       "      <td>targeted</td>\n",
       "      <td>left</td>\n",
       "      <td>-1.982809</td>\n",
       "      <td>5.565144</td>\n",
       "    </tr>\n",
       "    <tr>\n",
       "      <th>80</th>\n",
       "      <td>targeted</td>\n",
       "      <td>left</td>\n",
       "      <td>-10.380881</td>\n",
       "      <td>0.849678</td>\n",
       "    </tr>\n",
       "    <tr>\n",
       "      <th>81</th>\n",
       "      <td>targeted</td>\n",
       "      <td>left</td>\n",
       "      <td>-4.328391</td>\n",
       "      <td>6.024862</td>\n",
       "    </tr>\n",
       "    <tr>\n",
       "      <th>82</th>\n",
       "      <td>targeted</td>\n",
       "      <td>left</td>\n",
       "      <td>-7.810778</td>\n",
       "      <td>1.602543</td>\n",
       "    </tr>\n",
       "    <tr>\n",
       "      <th>83</th>\n",
       "      <td>targeted</td>\n",
       "      <td>left</td>\n",
       "      <td>-3.616617</td>\n",
       "      <td>2.831747</td>\n",
       "    </tr>\n",
       "    <tr>\n",
       "      <th>84</th>\n",
       "      <td>targeted</td>\n",
       "      <td>left</td>\n",
       "      <td>-7.287090</td>\n",
       "      <td>1.465117</td>\n",
       "    </tr>\n",
       "    <tr>\n",
       "      <th>85</th>\n",
       "      <td>targeted</td>\n",
       "      <td>left</td>\n",
       "      <td>-3.795074</td>\n",
       "      <td>9.475308</td>\n",
       "    </tr>\n",
       "    <tr>\n",
       "      <th>86</th>\n",
       "      <td>targeted</td>\n",
       "      <td>left</td>\n",
       "      <td>-2.757010</td>\n",
       "      <td>6.391339</td>\n",
       "    </tr>\n",
       "    <tr>\n",
       "      <th>87</th>\n",
       "      <td>targeted</td>\n",
       "      <td>left</td>\n",
       "      <td>-4.810514</td>\n",
       "      <td>5.693317</td>\n",
       "    </tr>\n",
       "  </tbody>\n",
       "</table>\n",
       "</div>"
      ],
      "text/plain": [
       "   Condition  Hand  Minimum_beta  Maximum_beta\n",
       "78  targeted  left     -5.160903      1.898086\n",
       "79  targeted  left     -1.982809      5.565144\n",
       "80  targeted  left    -10.380881      0.849678\n",
       "81  targeted  left     -4.328391      6.024862\n",
       "82  targeted  left     -7.810778      1.602543\n",
       "83  targeted  left     -3.616617      2.831747\n",
       "84  targeted  left     -7.287090      1.465117\n",
       "85  targeted  left     -3.795074      9.475308\n",
       "86  targeted  left     -2.757010      6.391339\n",
       "87  targeted  left     -4.810514      5.693317"
      ]
     },
     "execution_count": 11,
     "metadata": {},
     "output_type": "execute_result"
    }
   ],
   "source": [
    "d2 = d[d['Condition'] != 'self_pased']\n",
    "d2.tail(10)"
   ]
  },
  {
   "cell_type": "markdown",
   "metadata": {},
   "source": [
    "###### Boxplots для двух условий"
   ]
  },
  {
   "cell_type": "code",
   "execution_count": 12,
   "metadata": {},
   "outputs": [
    {
     "data": {
      "image/png": "[encoded data removed]",
      "text/plain": [
       "<Figure size 432x288 with 1 Axes>"
      ]
     },
     "metadata": {
      "needs_background": "light"
     },
     "output_type": "display_data"
    }
   ],
   "source": [
    "my_pal = {Hand: \"r\" if Hand == \"right\" else \"b\" for Hand in d2.Hand.unique()}\n",
    "sns.boxplot(x=\"Condition\", y=\"Minimum_beta\", hue=\"Hand\", data=d2, palette=my_pal)\n",
    "plt.legend(bbox_to_anchor=(1.01, 1),borderaxespad=0)\n",
    "plt.savefig(\"/home/vera/MNE/ANOVA/boxplot/boxplot_two_cond_minimum.jpeg\", format='jpeg',dpi=300)"
   ]
  },
  {
   "cell_type": "code",
   "execution_count": 6,
   "metadata": {},
   "outputs": [
    {
     "data": {
      "text/plain": [
       "<AxesSubplot:xlabel='Condition', ylabel='Minimum_beta'>"
      ]
     },
     "execution_count": 6,
     "metadata": {},
     "output_type": "execute_result"
    },
    {
     "data": {
      "image/png": "[encoded data removed]",
      "text/plain": [
       "<Figure size 432x288 with 1 Axes>"
      ]
     },
     "metadata": {
      "needs_background": "light"
     },
     "output_type": "display_data"
    }
   ],
   "source": [
    "sns.boxplot(x=\"Condition\", y=\"Minimum_beta\", hue=\"Hand\", data=d2, palette=\"Set3\")"
   ]
  },
  {
   "cell_type": "code",
   "execution_count": 13,
   "metadata": {
    "scrolled": true
   },
   "outputs": [
    {
     "data": {
      "image/png": "[encoded data removed]",
      "text/plain": [
       "<Figure size 432x288 with 1 Axes>"
      ]
     },
     "metadata": {
      "needs_background": "light"
     },
     "output_type": "display_data"
    }
   ],
   "source": [
    "my_pal = {Hand: \"r\" if Hand == \"right\" else \"b\" for Hand in d.Hand.unique()} # задаем цвета\n",
    "sns.boxplot(x=\"Condition\", y=\"Maximum_beta\", hue=\"Hand\", data=d2, palette=my_pal)\n",
    "plt.legend(bbox_to_anchor=(1.01, 1),borderaxespad=0)\n",
    "plt.savefig(\"/home/vera/MNE/ANOVA/boxplot/boxplot_two_cond_maximum.jpeg\", format='jpeg',dpi=300)"
   ]
  },
  {
   "cell_type": "code",
   "execution_count": 7,
   "metadata": {},
   "outputs": [
    {
     "data": {
      "text/plain": [
       "<AxesSubplot:xlabel='Condition', ylabel='Maximum_beta'>"
      ]
     },
     "execution_count": 7,
     "metadata": {},
     "output_type": "execute_result"
    },
    {
     "data": {
      "image/png": "[encoded data removed]",
      "text/plain": [
       "<Figure size 432x288 with 1 Axes>"
      ]
     },
     "metadata": {
      "needs_background": "light"
     },
     "output_type": "display_data"
    }
   ],
   "source": [
    "sns.boxplot(x=\"Condition\", y=\"Maximum_beta\", hue=\"Hand\", data=d2, palette=\"Set3\")"
   ]
  },
  {
   "cell_type": "code",
   "execution_count": 12,
   "metadata": {
    "scrolled": true
   },
   "outputs": [
    {
     "data": {
      "text/html": [
       "<div>\n",
       "<style scoped>\n",
       "    .dataframe tbody tr th:only-of-type {\n",
       "        vertical-align: middle;\n",
       "    }\n",
       "\n",
       "    .dataframe tbody tr th {\n",
       "        vertical-align: top;\n",
       "    }\n",
       "\n",
       "    .dataframe thead th {\n",
       "        text-align: right;\n",
       "    }\n",
       "</style>\n",
       "<table border=\"1\" class=\"dataframe\">\n",
       "  <thead>\n",
       "    <tr style=\"text-align: right;\">\n",
       "      <th></th>\n",
       "      <th>sum_sq</th>\n",
       "      <th>df</th>\n",
       "      <th>F</th>\n",
       "      <th>PR(&gt;F)</th>\n",
       "    </tr>\n",
       "  </thead>\n",
       "  <tbody>\n",
       "    <tr>\n",
       "      <th>C(Condition)</th>\n",
       "      <td>7.312325</td>\n",
       "      <td>1.0</td>\n",
       "      <td>0.834360</td>\n",
       "      <td>0.363629</td>\n",
       "    </tr>\n",
       "    <tr>\n",
       "      <th>C(Hand)</th>\n",
       "      <td>15.942451</td>\n",
       "      <td>1.0</td>\n",
       "      <td>1.819085</td>\n",
       "      <td>0.181047</td>\n",
       "    </tr>\n",
       "    <tr>\n",
       "      <th>C(Condition):C(Hand)</th>\n",
       "      <td>0.600818</td>\n",
       "      <td>1.0</td>\n",
       "      <td>0.068555</td>\n",
       "      <td>0.794093</td>\n",
       "    </tr>\n",
       "    <tr>\n",
       "      <th>Residual</th>\n",
       "      <td>736.175409</td>\n",
       "      <td>84.0</td>\n",
       "      <td>NaN</td>\n",
       "      <td>NaN</td>\n",
       "    </tr>\n",
       "  </tbody>\n",
       "</table>\n",
       "</div>"
      ],
      "text/plain": [
       "                          sum_sq    df         F    PR(>F)\n",
       "C(Condition)            7.312325   1.0  0.834360  0.363629\n",
       "C(Hand)                15.942451   1.0  1.819085  0.181047\n",
       "C(Condition):C(Hand)    0.600818   1.0  0.068555  0.794093\n",
       "Residual              736.175409  84.0       NaN       NaN"
      ]
     },
     "execution_count": 12,
     "metadata": {},
     "output_type": "execute_result"
    }
   ],
   "source": [
    "model = ols('Minimum_beta ~ C(Condition) + C(Hand) + C(Condition):C(Hand)', data=d2).fit()\n",
    "anova_table = sm.stats.anova_lm(model, typ=2)\n",
    "anova_table"
   ]
  },
  {
   "cell_type": "code",
   "execution_count": 13,
   "metadata": {},
   "outputs": [
    {
     "data": {
      "text/html": [
       "<div>\n",
       "<style scoped>\n",
       "    .dataframe tbody tr th:only-of-type {\n",
       "        vertical-align: middle;\n",
       "    }\n",
       "\n",
       "    .dataframe tbody tr th {\n",
       "        vertical-align: top;\n",
       "    }\n",
       "\n",
       "    .dataframe thead th {\n",
       "        text-align: right;\n",
       "    }\n",
       "</style>\n",
       "<table border=\"1\" class=\"dataframe\">\n",
       "  <thead>\n",
       "    <tr style=\"text-align: right;\">\n",
       "      <th></th>\n",
       "      <th>sum_sq</th>\n",
       "      <th>df</th>\n",
       "      <th>F</th>\n",
       "      <th>PR(&gt;F)</th>\n",
       "    </tr>\n",
       "  </thead>\n",
       "  <tbody>\n",
       "    <tr>\n",
       "      <th>C(Condition)</th>\n",
       "      <td>73.684950</td>\n",
       "      <td>1.0</td>\n",
       "      <td>9.234732</td>\n",
       "      <td>0.003165</td>\n",
       "    </tr>\n",
       "    <tr>\n",
       "      <th>C(Hand)</th>\n",
       "      <td>8.951298</td>\n",
       "      <td>1.0</td>\n",
       "      <td>1.121841</td>\n",
       "      <td>0.292558</td>\n",
       "    </tr>\n",
       "    <tr>\n",
       "      <th>C(Condition):C(Hand)</th>\n",
       "      <td>0.161985</td>\n",
       "      <td>1.0</td>\n",
       "      <td>0.020301</td>\n",
       "      <td>0.887041</td>\n",
       "    </tr>\n",
       "    <tr>\n",
       "      <th>Residual</th>\n",
       "      <td>670.245304</td>\n",
       "      <td>84.0</td>\n",
       "      <td>NaN</td>\n",
       "      <td>NaN</td>\n",
       "    </tr>\n",
       "  </tbody>\n",
       "</table>\n",
       "</div>"
      ],
      "text/plain": [
       "                          sum_sq    df         F    PR(>F)\n",
       "C(Condition)           73.684950   1.0  9.234732  0.003165\n",
       "C(Hand)                 8.951298   1.0  1.121841  0.292558\n",
       "C(Condition):C(Hand)    0.161985   1.0  0.020301  0.887041\n",
       "Residual              670.245304  84.0       NaN       NaN"
      ]
     },
     "execution_count": 13,
     "metadata": {},
     "output_type": "execute_result"
    }
   ],
   "source": [
    "model = ols('Maximum_beta ~ C(Condition) + C(Hand) + C(Condition):C(Hand)', data=d2).fit()\n",
    "anova_table = sm.stats.anova_lm(model, typ=2)\n",
    "anova_table"
   ]
  },
  {
   "cell_type": "markdown",
   "metadata": {},
   "source": [
    "# Тест Тьюки для двухфакторной ANOVA"
   ]
  },
  {
   "cell_type": "markdown",
   "metadata": {},
   "source": [
    "Теперь мы знаем, что различия беты между условиями статистически значимы, но ANOVA не показывает, при каких кондишенах значение беты значительно отличается друг от друга. Чтобы узнать пары значимо различающихся мощностей беты при отпределенных кондишенах, выполним анализ множественных парных сравнений (Post-hoc comparison), используя тест HSD Тьюки."
   ]
  },
  {
   "cell_type": "code",
   "execution_count": 19,
   "metadata": {},
   "outputs": [
    {
     "data": {
      "text/html": [
       "<div>\n",
       "<style scoped>\n",
       "    .dataframe tbody tr th:only-of-type {\n",
       "        vertical-align: middle;\n",
       "    }\n",
       "\n",
       "    .dataframe tbody tr th {\n",
       "        vertical-align: top;\n",
       "    }\n",
       "\n",
       "    .dataframe thead th {\n",
       "        text-align: right;\n",
       "    }\n",
       "</style>\n",
       "<table border=\"1\" class=\"dataframe\">\n",
       "  <thead>\n",
       "    <tr style=\"text-align: right;\">\n",
       "      <th></th>\n",
       "      <th>group1</th>\n",
       "      <th>group2</th>\n",
       "      <th>Diff</th>\n",
       "      <th>Lower</th>\n",
       "      <th>Upper</th>\n",
       "      <th>q-value</th>\n",
       "      <th>p-value</th>\n",
       "    </tr>\n",
       "  </thead>\n",
       "  <tbody>\n",
       "    <tr>\n",
       "      <th>0</th>\n",
       "      <td>probing</td>\n",
       "      <td>targeted</td>\n",
       "      <td>1.830114</td>\n",
       "      <td>0.604550</td>\n",
       "      <td>3.055678</td>\n",
       "      <td>5.004261</td>\n",
       "      <td>0.001587</td>\n",
       "    </tr>\n",
       "    <tr>\n",
       "      <th>1</th>\n",
       "      <td>probing</td>\n",
       "      <td>self_pased</td>\n",
       "      <td>0.631892</td>\n",
       "      <td>-0.530780</td>\n",
       "      <td>1.794564</td>\n",
       "      <td>1.821309</td>\n",
       "      <td>0.406027</td>\n",
       "    </tr>\n",
       "    <tr>\n",
       "      <th>2</th>\n",
       "      <td>targeted</td>\n",
       "      <td>self_pased</td>\n",
       "      <td>1.198222</td>\n",
       "      <td>0.035549</td>\n",
       "      <td>2.360894</td>\n",
       "      <td>3.453646</td>\n",
       "      <td>0.041763</td>\n",
       "    </tr>\n",
       "  </tbody>\n",
       "</table>\n",
       "</div>"
      ],
      "text/plain": [
       "     group1      group2      Diff     Lower     Upper   q-value   p-value\n",
       "0   probing    targeted  1.830114  0.604550  3.055678  5.004261  0.001587\n",
       "1   probing  self_pased  0.631892 -0.530780  1.794564  1.821309  0.406027\n",
       "2  targeted  self_pased  1.198222  0.035549  2.360894  3.453646  0.041763"
      ]
     },
     "execution_count": 19,
     "metadata": {},
     "output_type": "execute_result"
    }
   ],
   "source": [
    "res = stat()\n",
    "res.tukey_hsd(df=d, res_var='Maximum_beta', xfac_var='Condition', anova_model='Maximum_beta ~ C(Condition) + C(Hand) + C(Condition):C(Hand)')\n",
    "res.tukey_summary"
   ]
  },
  {
   "cell_type": "code",
   "execution_count": 20,
   "metadata": {},
   "outputs": [
    {
     "data": {
      "text/html": [
       "<div>\n",
       "<style scoped>\n",
       "    .dataframe tbody tr th:only-of-type {\n",
       "        vertical-align: middle;\n",
       "    }\n",
       "\n",
       "    .dataframe tbody tr th {\n",
       "        vertical-align: top;\n",
       "    }\n",
       "\n",
       "    .dataframe thead th {\n",
       "        text-align: right;\n",
       "    }\n",
       "</style>\n",
       "<table border=\"1\" class=\"dataframe\">\n",
       "  <thead>\n",
       "    <tr style=\"text-align: right;\">\n",
       "      <th></th>\n",
       "      <th>group1</th>\n",
       "      <th>group2</th>\n",
       "      <th>Diff</th>\n",
       "      <th>Lower</th>\n",
       "      <th>Upper</th>\n",
       "      <th>q-value</th>\n",
       "      <th>p-value</th>\n",
       "    </tr>\n",
       "  </thead>\n",
       "  <tbody>\n",
       "    <tr>\n",
       "      <th>0</th>\n",
       "      <td>probing</td>\n",
       "      <td>targeted</td>\n",
       "      <td>1.830114</td>\n",
       "      <td>0.632504</td>\n",
       "      <td>3.027724</td>\n",
       "      <td>4.297611</td>\n",
       "      <td>0.003167</td>\n",
       "    </tr>\n",
       "  </tbody>\n",
       "</table>\n",
       "</div>"
      ],
      "text/plain": [
       "    group1    group2      Diff     Lower     Upper   q-value   p-value\n",
       "0  probing  targeted  1.830114  0.632504  3.027724  4.297611  0.003167"
      ]
     },
     "execution_count": 20,
     "metadata": {},
     "output_type": "execute_result"
    }
   ],
   "source": [
    "res = stat()\n",
    "res.tukey_hsd(df=d2, res_var='Maximum_beta', xfac_var='Condition', anova_model='Maximum_beta ~ C(Condition) + C(Hand) + C(Condition):C(Hand)')\n",
    "res.tukey_summary"
   ]
  },
  {
   "cell_type": "markdown",
   "metadata": {},
   "source": [
    "# t test для связанных выборок   \n",
    "\n",
    "Сравниваем beta при Condition: Probing vs Targeted"
   ]
  },
  {
   "cell_type": "code",
   "execution_count": 5,
   "metadata": {},
   "outputs": [],
   "source": [
    "d2_probing = d2[d2['Condition'] == 'probing']\n",
    "d2_targeted = d2[d2['Condition'] == 'targeted']"
   ]
  },
  {
   "cell_type": "code",
   "execution_count": 7,
   "metadata": {
    "scrolled": true
   },
   "outputs": [
    {
     "name": "stdout",
     "output_type": "stream",
     "text": [
      "Statistics=-3.899, p=0.000\n",
      "Different distributions (reject H0)\n"
     ]
    }
   ],
   "source": [
    "data1 = d2_probing['Maximum_beta']\n",
    "data2 = d2_targeted['Maximum_beta']\n",
    "\n",
    "stat, p = ttest_rel(data1, data2)\n",
    "p = float(p)\n",
    "print('Statistics=%.3f, p=%.3f' % (stat, p))\n",
    "\n",
    "alpha = 0.05\n",
    "if p > alpha:\n",
    "\tprint('Same distributions (fail to reject H0)')\n",
    "else:\n",
    "\tprint('Different distributions (reject H0)')"
   ]
  },
  {
   "cell_type": "markdown",
   "metadata": {},
   "source": [
    "#####  Получили значимое отличие между максимумами беты для условий  targeting и probing - p-value = 0.05   \n",
    "##### Сделаем поправку на множественные сравнения с помощью FDR коррекции"
   ]
  },
  {
   "cell_type": "code",
   "execution_count": 9,
   "metadata": {},
   "outputs": [],
   "source": [
    "rejected, p_val_fdr = fdrcorrection(p, alpha=0.05, method='indep', is_sorted=False)"
   ]
  },
  {
   "cell_type": "markdown",
   "metadata": {},
   "source": [
    "##### установили, что отличия все еще значимые, даже после коррекции"
   ]
  },
  {
   "cell_type": "code",
   "execution_count": 11,
   "metadata": {},
   "outputs": [
    {
     "data": {
      "text/plain": [
       "array([0.00033358])"
      ]
     },
     "execution_count": 11,
     "metadata": {},
     "output_type": "execute_result"
    }
   ],
   "source": [
    "p_val_fdr"
   ]
  },
  {
   "cell_type": "code",
   "execution_count": 16,
   "metadata": {},
   "outputs": [
    {
     "name": "stdout",
     "output_type": "stream",
     "text": [
      "Statistics=-1.298, p=0.201\n",
      "Same distributions (fail to reject H0)\n"
     ]
    }
   ],
   "source": [
    "data1 = d2_probing['Minimum_beta']\n",
    "data2 = d2_targeted['Minimum_beta']\n",
    "\n",
    "stat, p = ttest_rel(data1, data2)\n",
    "p = float(p)\n",
    "print('Statistics=%.3f, p=%.3f' % (stat, p))\n",
    "\n",
    "alpha = 0.05\n",
    "if p > alpha:\n",
    "\tprint('Same distributions (fail to reject H0)')\n",
    "else:\n",
    "\tprint('Different distributions (reject H0)')"
   ]
  },
  {
   "cell_type": "markdown",
   "metadata": {},
   "source": [
    "# Repeated measures ANOVA Python   \n",
    "\n",
    "Сравниваем бету при Condition: Probing vs Targeted (одни и те же испытуемые, т.е. выборки связанные)\n",
    "https://www.marsja.se/repeated-measures-anova-in-python-using-statsmodels/  \n",
    "\n",
    "https://python.cogsci.nl/numerical/statistics/ \n",
    "\n",
    "Сначала убираем строки для Self paced"
   ]
  },
  {
   "cell_type": "code",
   "execution_count": 2,
   "metadata": {},
   "outputs": [
    {
     "data": {
      "text/html": [
       "<div>\n",
       "<style scoped>\n",
       "    .dataframe tbody tr th:only-of-type {\n",
       "        vertical-align: middle;\n",
       "    }\n",
       "\n",
       "    .dataframe tbody tr th {\n",
       "        vertical-align: top;\n",
       "    }\n",
       "\n",
       "    .dataframe thead th {\n",
       "        text-align: right;\n",
       "    }\n",
       "</style>\n",
       "<table border=\"1\" class=\"dataframe\">\n",
       "  <thead>\n",
       "    <tr style=\"text-align: right;\">\n",
       "      <th></th>\n",
       "      <th>Subject</th>\n",
       "      <th>Condition</th>\n",
       "      <th>Hand</th>\n",
       "      <th>Minimum beta</th>\n",
       "      <th>Maximum beta</th>\n",
       "    </tr>\n",
       "  </thead>\n",
       "  <tbody>\n",
       "    <tr>\n",
       "      <th>133</th>\n",
       "      <td>L019</td>\n",
       "      <td>self_pased</td>\n",
       "      <td>left</td>\n",
       "      <td>-2.264036</td>\n",
       "      <td>1.671180</td>\n",
       "    </tr>\n",
       "    <tr>\n",
       "      <th>134</th>\n",
       "      <td>L020</td>\n",
       "      <td>self_pased</td>\n",
       "      <td>left</td>\n",
       "      <td>-10.009629</td>\n",
       "      <td>1.220419</td>\n",
       "    </tr>\n",
       "    <tr>\n",
       "      <th>135</th>\n",
       "      <td>L021</td>\n",
       "      <td>self_pased</td>\n",
       "      <td>left</td>\n",
       "      <td>-2.395103</td>\n",
       "      <td>2.580837</td>\n",
       "    </tr>\n",
       "    <tr>\n",
       "      <th>136</th>\n",
       "      <td>L022</td>\n",
       "      <td>self_pased</td>\n",
       "      <td>left</td>\n",
       "      <td>-4.061008</td>\n",
       "      <td>2.879128</td>\n",
       "    </tr>\n",
       "    <tr>\n",
       "      <th>137</th>\n",
       "      <td>L023</td>\n",
       "      <td>self_pased</td>\n",
       "      <td>left</td>\n",
       "      <td>-3.125089</td>\n",
       "      <td>1.594101</td>\n",
       "    </tr>\n",
       "    <tr>\n",
       "      <th>138</th>\n",
       "      <td>L024</td>\n",
       "      <td>self_pased</td>\n",
       "      <td>left</td>\n",
       "      <td>-6.561952</td>\n",
       "      <td>2.634952</td>\n",
       "    </tr>\n",
       "    <tr>\n",
       "      <th>139</th>\n",
       "      <td>L025</td>\n",
       "      <td>self_pased</td>\n",
       "      <td>left</td>\n",
       "      <td>-5.808643</td>\n",
       "      <td>3.358962</td>\n",
       "    </tr>\n",
       "    <tr>\n",
       "      <th>140</th>\n",
       "      <td>L026</td>\n",
       "      <td>self_pased</td>\n",
       "      <td>left</td>\n",
       "      <td>-7.064633</td>\n",
       "      <td>3.368875</td>\n",
       "    </tr>\n",
       "    <tr>\n",
       "      <th>141</th>\n",
       "      <td>L027</td>\n",
       "      <td>self_pased</td>\n",
       "      <td>left</td>\n",
       "      <td>-11.551385</td>\n",
       "      <td>3.668236</td>\n",
       "    </tr>\n",
       "    <tr>\n",
       "      <th>142</th>\n",
       "      <td>L028</td>\n",
       "      <td>self_pased</td>\n",
       "      <td>left</td>\n",
       "      <td>-1.985082</td>\n",
       "      <td>2.911335</td>\n",
       "    </tr>\n",
       "  </tbody>\n",
       "</table>\n",
       "</div>"
      ],
      "text/plain": [
       "    Subject   Condition  Hand  Minimum beta  Maximum beta\n",
       "133    L019  self_pased  left     -2.264036      1.671180\n",
       "134    L020  self_pased  left    -10.009629      1.220419\n",
       "135    L021  self_pased  left     -2.395103      2.580837\n",
       "136    L022  self_pased  left     -4.061008      2.879128\n",
       "137    L023  self_pased  left     -3.125089      1.594101\n",
       "138    L024  self_pased  left     -6.561952      2.634952\n",
       "139    L025  self_pased  left     -5.808643      3.358962\n",
       "140    L026  self_pased  left     -7.064633      3.368875\n",
       "141    L027  self_pased  left    -11.551385      3.668236\n",
       "142    L028  self_pased  left     -1.985082      2.911335"
      ]
     },
     "execution_count": 2,
     "metadata": {},
     "output_type": "execute_result"
    }
   ],
   "source": [
    "# load data file\n",
    "#Загружаем данные для Repeated measured ANOVA (добавлен столбец с именами испытуемых)\n",
    "d = pd.read_csv(r\"/home/vera/MNE/ANOVA/table_for_anovaRM.csv\")\n",
    "d.tail(10)"
   ]
  },
  {
   "cell_type": "code",
   "execution_count": 40,
   "metadata": {},
   "outputs": [
    {
     "data": {
      "text/html": [
       "<div>\n",
       "<style scoped>\n",
       "    .dataframe tbody tr th:only-of-type {\n",
       "        vertical-align: middle;\n",
       "    }\n",
       "\n",
       "    .dataframe tbody tr th {\n",
       "        vertical-align: top;\n",
       "    }\n",
       "\n",
       "    .dataframe thead th {\n",
       "        text-align: right;\n",
       "    }\n",
       "</style>\n",
       "<table border=\"1\" class=\"dataframe\">\n",
       "  <thead>\n",
       "    <tr style=\"text-align: right;\">\n",
       "      <th></th>\n",
       "      <th>Subject</th>\n",
       "      <th>Condition</th>\n",
       "      <th>Hand</th>\n",
       "      <th>Hand_plot</th>\n",
       "      <th>Hemisphere</th>\n",
       "      <th>Minimum_beta</th>\n",
       "      <th>Maximum_beta</th>\n",
       "    </tr>\n",
       "  </thead>\n",
       "  <tbody>\n",
       "    <tr>\n",
       "      <th>166</th>\n",
       "      <td>372_skju</td>\n",
       "      <td>targeted</td>\n",
       "      <td>left</td>\n",
       "      <td>left_ipsi</td>\n",
       "      <td>ipsilateral</td>\n",
       "      <td>-2.097256</td>\n",
       "      <td>2.675151</td>\n",
       "    </tr>\n",
       "    <tr>\n",
       "      <th>167</th>\n",
       "      <td>389_revi</td>\n",
       "      <td>targeted</td>\n",
       "      <td>left</td>\n",
       "      <td>left_ipsi</td>\n",
       "      <td>ipsilateral</td>\n",
       "      <td>-0.598858</td>\n",
       "      <td>1.694444</td>\n",
       "    </tr>\n",
       "    <tr>\n",
       "      <th>168</th>\n",
       "      <td>390_shko</td>\n",
       "      <td>targeted</td>\n",
       "      <td>left</td>\n",
       "      <td>left_ipsi</td>\n",
       "      <td>ipsilateral</td>\n",
       "      <td>-7.199962</td>\n",
       "      <td>2.571866</td>\n",
       "    </tr>\n",
       "    <tr>\n",
       "      <th>169</th>\n",
       "      <td>394_tiev</td>\n",
       "      <td>targeted</td>\n",
       "      <td>left</td>\n",
       "      <td>left_ipsi</td>\n",
       "      <td>ipsilateral</td>\n",
       "      <td>-2.527432</td>\n",
       "      <td>6.684009</td>\n",
       "    </tr>\n",
       "    <tr>\n",
       "      <th>170</th>\n",
       "      <td>402_maev</td>\n",
       "      <td>targeted</td>\n",
       "      <td>left</td>\n",
       "      <td>left_ipsi</td>\n",
       "      <td>ipsilateral</td>\n",
       "      <td>-1.423851</td>\n",
       "      <td>2.513176</td>\n",
       "    </tr>\n",
       "    <tr>\n",
       "      <th>171</th>\n",
       "      <td>406_bial</td>\n",
       "      <td>targeted</td>\n",
       "      <td>left</td>\n",
       "      <td>left_ipsi</td>\n",
       "      <td>ipsilateral</td>\n",
       "      <td>-1.744277</td>\n",
       "      <td>-1.083532</td>\n",
       "    </tr>\n",
       "    <tr>\n",
       "      <th>172</th>\n",
       "      <td>409_kodm</td>\n",
       "      <td>targeted</td>\n",
       "      <td>left</td>\n",
       "      <td>left_ipsi</td>\n",
       "      <td>ipsilateral</td>\n",
       "      <td>-6.254350</td>\n",
       "      <td>0.477280</td>\n",
       "    </tr>\n",
       "    <tr>\n",
       "      <th>173</th>\n",
       "      <td>415_yael</td>\n",
       "      <td>targeted</td>\n",
       "      <td>left</td>\n",
       "      <td>left_ipsi</td>\n",
       "      <td>ipsilateral</td>\n",
       "      <td>-1.581416</td>\n",
       "      <td>3.598771</td>\n",
       "    </tr>\n",
       "    <tr>\n",
       "      <th>174</th>\n",
       "      <td>436_buni</td>\n",
       "      <td>targeted</td>\n",
       "      <td>left</td>\n",
       "      <td>left_ipsi</td>\n",
       "      <td>ipsilateral</td>\n",
       "      <td>-1.825463</td>\n",
       "      <td>4.685921</td>\n",
       "    </tr>\n",
       "    <tr>\n",
       "      <th>175</th>\n",
       "      <td>383_laan</td>\n",
       "      <td>targeted</td>\n",
       "      <td>left</td>\n",
       "      <td>left_ipsi</td>\n",
       "      <td>ipsilateral</td>\n",
       "      <td>-1.508447</td>\n",
       "      <td>4.152978</td>\n",
       "    </tr>\n",
       "  </tbody>\n",
       "</table>\n",
       "</div>"
      ],
      "text/plain": [
       "      Subject Condition  Hand  Hand_plot   Hemisphere  Minimum_beta  \\\n",
       "166  372_skju  targeted  left  left_ipsi  ipsilateral     -2.097256   \n",
       "167  389_revi  targeted  left  left_ipsi  ipsilateral     -0.598858   \n",
       "168  390_shko  targeted  left  left_ipsi  ipsilateral     -7.199962   \n",
       "169  394_tiev  targeted  left  left_ipsi  ipsilateral     -2.527432   \n",
       "170  402_maev  targeted  left  left_ipsi  ipsilateral     -1.423851   \n",
       "171  406_bial  targeted  left  left_ipsi  ipsilateral     -1.744277   \n",
       "172  409_kodm  targeted  left  left_ipsi  ipsilateral     -6.254350   \n",
       "173  415_yael  targeted  left  left_ipsi  ipsilateral     -1.581416   \n",
       "174  436_buni  targeted  left  left_ipsi  ipsilateral     -1.825463   \n",
       "175  383_laan  targeted  left  left_ipsi  ipsilateral     -1.508447   \n",
       "\n",
       "     Maximum_beta  \n",
       "166      2.675151  \n",
       "167      1.694444  \n",
       "168      2.571866  \n",
       "169      6.684009  \n",
       "170      2.513176  \n",
       "171     -1.083532  \n",
       "172      0.477280  \n",
       "173      3.598771  \n",
       "174      4.685921  \n",
       "175      4.152978  "
      ]
     },
     "execution_count": 40,
     "metadata": {},
     "output_type": "execute_result"
    }
   ],
   "source": [
    "#Убираем self paced \n",
    "d2 = d[d['Condition'] != 'self_pased']\n",
    "d2.tail(10)"
   ]
  },
  {
   "cell_type": "markdown",
   "metadata": {},
   "source": [
    "если хотим убрать фактор полушария, то надо удалить повторяющиеся значения для Hand"
   ]
  },
  {
   "cell_type": "code",
   "execution_count": 42,
   "metadata": {},
   "outputs": [
    {
     "name": "stdout",
     "output_type": "stream",
     "text": [
      "                         Anova\n",
      "=======================================================\n",
      "                          F Value Num DF  Den DF Pr > F\n",
      "-------------------------------------------------------\n",
      "Condition                  0.9923 1.0000 21.0000 0.3305\n",
      "Hand                       1.7116 1.0000 21.0000 0.2049\n",
      "Hemisphere                16.5464 1.0000 21.0000 0.0006\n",
      "Condition:Hand             1.2632 1.0000 21.0000 0.2737\n",
      "Condition:Hemisphere       0.2446 1.0000 21.0000 0.6260\n",
      "Hand:Hemisphere            3.8021 1.0000 21.0000 0.0647\n",
      "Condition:Hand:Hemisphere  0.0310 1.0000 21.0000 0.8618\n",
      "=======================================================\n",
      "\n"
     ]
    }
   ],
   "source": [
    "############### MINIMUM THREE FACTORS #####################\n",
    "\n",
    "aovrm3way = AnovaRM(d2, 'Minimum_beta', 'Subject', within=['Condition', 'Hand', 'Hemisphere'])\n",
    "res3way = aovrm3way.fit()\n",
    "\n",
    "print(res3way)"
   ]
  },
  {
   "cell_type": "code",
   "execution_count": 43,
   "metadata": {
    "scrolled": true
   },
   "outputs": [
    {
     "name": "stdout",
     "output_type": "stream",
     "text": [
      "                         Anova\n",
      "=======================================================\n",
      "                          F Value Num DF  Den DF Pr > F\n",
      "-------------------------------------------------------\n",
      "Condition                 16.4958 1.0000 21.0000 0.0006\n",
      "Hand                       0.0008 1.0000 21.0000 0.9779\n",
      "Hemisphere                24.1717 1.0000 21.0000 0.0001\n",
      "Condition:Hand             0.0000 1.0000 21.0000 0.9961\n",
      "Condition:Hemisphere       1.3643 1.0000 21.0000 0.2559\n",
      "Hand:Hemisphere           11.2279 1.0000 21.0000 0.0030\n",
      "Condition:Hand:Hemisphere  0.8394 1.0000 21.0000 0.3700\n",
      "=======================================================\n",
      "\n"
     ]
    }
   ],
   "source": [
    "############### MAXIMUM THREE FACTORS #####################\n",
    "\n",
    "aovrm3way = AnovaRM(d2, 'Maximum_beta', 'Subject', within=['Condition', 'Hand', 'Hemisphere'])\n",
    "res3way = aovrm3way.fit()\n",
    "\n",
    "print(res3way)"
   ]
  },
  {
   "cell_type": "markdown",
   "metadata": {},
   "source": [
    "# Выбираем испытуемых 1, 2, 3, 4, 6, 9, 12, 13, 15, 16, 18, 20, 21"
   ]
  },
  {
   "cell_type": "code",
   "execution_count": 44,
   "metadata": {},
   "outputs": [
    {
     "data": {
      "text/plain": [
       "22"
      ]
     },
     "execution_count": 44,
     "metadata": {},
     "output_type": "execute_result"
    }
   ],
   "source": [
    "subjects_list = [ \n",
    "    '030_koal',\n",
    "    '051_vlro',\n",
    "    '128_godz',\n",
    "    '136_spar',\n",
    "    '176_nama',\n",
    "    '202_skol',\n",
    "    '211_gnlu',\n",
    "    '277_trev',\n",
    "    '307_firo',\n",
    "    '308_lodm',\n",
    "    '317_arel',\n",
    "    '355_slya',\n",
    "    '372_skju',\n",
    "    '389_revi',\n",
    "    '390_shko',\n",
    "    '394_tiev',\n",
    "    '402_maev',\n",
    "    '406_bial',\n",
    "    '409_kodm',\n",
    "    '415_yael',\n",
    "    '436_buni',\n",
    "    '383_laan']\n",
    "\n",
    "len(subjects_list)"
   ]
  },
  {
   "cell_type": "code",
   "execution_count": 47,
   "metadata": {},
   "outputs": [
    {
     "data": {
      "text/plain": [
       "[0, 1, 2, 3, 5, 8, 11, 12, 14, 15, 17, 19, 20]"
      ]
     },
     "execution_count": 47,
     "metadata": {},
     "output_type": "execute_result"
    }
   ],
   "source": [
    "# получаем из номеров испытуемых индексы\n",
    "a = [1, 2, 3, 4, 6, 9, 12, 13, 15, 16, 18, 20, 21]\n",
    "ind = [x - 1 for x in a]\n",
    "ind\n"
   ]
  },
  {
   "cell_type": "code",
   "execution_count": 48,
   "metadata": {},
   "outputs": [],
   "source": [
    "subj_short = []\n",
    "for i, subj in enumerate(subjects_list):\n",
    "    if i in ind:\n",
    "        subj_short.append(subj)"
   ]
  },
  {
   "cell_type": "code",
   "execution_count": 50,
   "metadata": {},
   "outputs": [
    {
     "data": {
      "text/plain": [
       "13"
      ]
     },
     "execution_count": 50,
     "metadata": {},
     "output_type": "execute_result"
    }
   ],
   "source": [
    "len(subj_short)"
   ]
  },
  {
   "cell_type": "code",
   "execution_count": 52,
   "metadata": {},
   "outputs": [
    {
     "data": {
      "text/plain": [
       "(104, 7)"
      ]
     },
     "execution_count": 52,
     "metadata": {},
     "output_type": "execute_result"
    }
   ],
   "source": [
    "d4 = d.loc[d['Subject'].isin(subj_short)]\n",
    "\n",
    "d4.shape"
   ]
  },
  {
   "cell_type": "code",
   "execution_count": 54,
   "metadata": {},
   "outputs": [
    {
     "data": {
      "text/plain": [
       "(176, 7)"
      ]
     },
     "execution_count": 54,
     "metadata": {},
     "output_type": "execute_result"
    }
   ],
   "source": [
    "d2.shape"
   ]
  },
  {
   "cell_type": "code",
   "execution_count": 55,
   "metadata": {},
   "outputs": [
    {
     "name": "stdout",
     "output_type": "stream",
     "text": [
      "                         Anova\n",
      "=======================================================\n",
      "                          F Value Num DF  Den DF Pr > F\n",
      "-------------------------------------------------------\n",
      "Condition                  0.6770 1.0000 12.0000 0.4267\n",
      "Hand                       1.4247 1.0000 12.0000 0.2557\n",
      "Hemisphere                 8.4224 1.0000 12.0000 0.0133\n",
      "Condition:Hand             1.3353 1.0000 12.0000 0.2704\n",
      "Condition:Hemisphere       0.8883 1.0000 12.0000 0.3645\n",
      "Hand:Hemisphere            0.1709 1.0000 12.0000 0.6866\n",
      "Condition:Hand:Hemisphere  0.3992 1.0000 12.0000 0.5394\n",
      "=======================================================\n",
      "\n"
     ]
    }
   ],
   "source": [
    "############### MINIMUM THREE FACTORS #####################\n",
    "\n",
    "aovrm3way = AnovaRM(d4, 'Minimum_beta', 'Subject', within=['Condition', 'Hand', 'Hemisphere'])\n",
    "res3way = aovrm3way.fit()\n",
    "\n",
    "print(res3way)"
   ]
  },
  {
   "cell_type": "code",
   "execution_count": 56,
   "metadata": {},
   "outputs": [
    {
     "name": "stdout",
     "output_type": "stream",
     "text": [
      "                         Anova\n",
      "=======================================================\n",
      "                          F Value Num DF  Den DF Pr > F\n",
      "-------------------------------------------------------\n",
      "Condition                  9.7227 1.0000 12.0000 0.0089\n",
      "Hand                       0.3103 1.0000 12.0000 0.5877\n",
      "Hemisphere                19.1452 1.0000 12.0000 0.0009\n",
      "Condition:Hand             0.0023 1.0000 12.0000 0.9623\n",
      "Condition:Hemisphere       0.0013 1.0000 12.0000 0.9714\n",
      "Hand:Hemisphere            5.7159 1.0000 12.0000 0.0341\n",
      "Condition:Hand:Hemisphere  3.7007 1.0000 12.0000 0.0784\n",
      "=======================================================\n",
      "\n"
     ]
    }
   ],
   "source": [
    "############### MAXIMUM THREE FACTORS #####################\n",
    "\n",
    "aovrm3way = AnovaRM(d4, 'Maximum_beta', 'Subject', within=['Condition', 'Hand', 'Hemisphere'])\n",
    "res3way = aovrm3way.fit()\n",
    "\n",
    "print(res3way)"
   ]
  },
  {
   "cell_type": "markdown",
   "metadata": {},
   "source": [
    "# Self pased, factors: hand, Hemisphere"
   ]
  },
  {
   "cell_type": "code",
   "execution_count": 34,
   "metadata": {},
   "outputs": [
    {
     "data": {
      "text/html": [
       "<div>\n",
       "<style scoped>\n",
       "    .dataframe tbody tr th:only-of-type {\n",
       "        vertical-align: middle;\n",
       "    }\n",
       "\n",
       "    .dataframe tbody tr th {\n",
       "        vertical-align: top;\n",
       "    }\n",
       "\n",
       "    .dataframe thead th {\n",
       "        text-align: right;\n",
       "    }\n",
       "</style>\n",
       "<table border=\"1\" class=\"dataframe\">\n",
       "  <thead>\n",
       "    <tr style=\"text-align: right;\">\n",
       "      <th></th>\n",
       "      <th>Subject</th>\n",
       "      <th>Condition</th>\n",
       "      <th>Hand</th>\n",
       "      <th>Hand_plot</th>\n",
       "      <th>Hemisphere</th>\n",
       "      <th>Minimum_beta</th>\n",
       "      <th>Maximum_beta</th>\n",
       "    </tr>\n",
       "  </thead>\n",
       "  <tbody>\n",
       "    <tr>\n",
       "      <th>274</th>\n",
       "      <td>L019</td>\n",
       "      <td>self_pased</td>\n",
       "      <td>left</td>\n",
       "      <td>left_ipsi</td>\n",
       "      <td>ipsilateral</td>\n",
       "      <td>-0.261534</td>\n",
       "      <td>0.869477</td>\n",
       "    </tr>\n",
       "    <tr>\n",
       "      <th>275</th>\n",
       "      <td>L020</td>\n",
       "      <td>self_pased</td>\n",
       "      <td>left</td>\n",
       "      <td>left_ipsi</td>\n",
       "      <td>ipsilateral</td>\n",
       "      <td>-5.793184</td>\n",
       "      <td>-0.572137</td>\n",
       "    </tr>\n",
       "    <tr>\n",
       "      <th>276</th>\n",
       "      <td>L021</td>\n",
       "      <td>self_pased</td>\n",
       "      <td>left</td>\n",
       "      <td>left_ipsi</td>\n",
       "      <td>ipsilateral</td>\n",
       "      <td>-0.280809</td>\n",
       "      <td>1.244223</td>\n",
       "    </tr>\n",
       "    <tr>\n",
       "      <th>277</th>\n",
       "      <td>L022</td>\n",
       "      <td>self_pased</td>\n",
       "      <td>left</td>\n",
       "      <td>left_ipsi</td>\n",
       "      <td>ipsilateral</td>\n",
       "      <td>-3.976470</td>\n",
       "      <td>-1.142184</td>\n",
       "    </tr>\n",
       "    <tr>\n",
       "      <th>278</th>\n",
       "      <td>L023</td>\n",
       "      <td>self_pased</td>\n",
       "      <td>left</td>\n",
       "      <td>left_ipsi</td>\n",
       "      <td>ipsilateral</td>\n",
       "      <td>-1.920863</td>\n",
       "      <td>0.502556</td>\n",
       "    </tr>\n",
       "    <tr>\n",
       "      <th>279</th>\n",
       "      <td>L024</td>\n",
       "      <td>self_pased</td>\n",
       "      <td>left</td>\n",
       "      <td>left_ipsi</td>\n",
       "      <td>ipsilateral</td>\n",
       "      <td>0.245915</td>\n",
       "      <td>-0.951387</td>\n",
       "    </tr>\n",
       "    <tr>\n",
       "      <th>280</th>\n",
       "      <td>L025</td>\n",
       "      <td>self_pased</td>\n",
       "      <td>left</td>\n",
       "      <td>left_ipsi</td>\n",
       "      <td>ipsilateral</td>\n",
       "      <td>-3.310223</td>\n",
       "      <td>0.036865</td>\n",
       "    </tr>\n",
       "    <tr>\n",
       "      <th>281</th>\n",
       "      <td>L026</td>\n",
       "      <td>self_pased</td>\n",
       "      <td>left</td>\n",
       "      <td>left_ipsi</td>\n",
       "      <td>ipsilateral</td>\n",
       "      <td>-1.851566</td>\n",
       "      <td>0.849769</td>\n",
       "    </tr>\n",
       "    <tr>\n",
       "      <th>282</th>\n",
       "      <td>L027</td>\n",
       "      <td>self_pased</td>\n",
       "      <td>left</td>\n",
       "      <td>left_ipsi</td>\n",
       "      <td>ipsilateral</td>\n",
       "      <td>-3.804128</td>\n",
       "      <td>4.076597</td>\n",
       "    </tr>\n",
       "    <tr>\n",
       "      <th>283</th>\n",
       "      <td>L028</td>\n",
       "      <td>self_pased</td>\n",
       "      <td>left</td>\n",
       "      <td>left_ipsi</td>\n",
       "      <td>ipsilateral</td>\n",
       "      <td>-0.783858</td>\n",
       "      <td>0.824081</td>\n",
       "    </tr>\n",
       "  </tbody>\n",
       "</table>\n",
       "</div>"
      ],
      "text/plain": [
       "    Subject   Condition  Hand  Hand_plot   Hemisphere  Minimum_beta  \\\n",
       "274    L019  self_pased  left  left_ipsi  ipsilateral     -0.261534   \n",
       "275    L020  self_pased  left  left_ipsi  ipsilateral     -5.793184   \n",
       "276    L021  self_pased  left  left_ipsi  ipsilateral     -0.280809   \n",
       "277    L022  self_pased  left  left_ipsi  ipsilateral     -3.976470   \n",
       "278    L023  self_pased  left  left_ipsi  ipsilateral     -1.920863   \n",
       "279    L024  self_pased  left  left_ipsi  ipsilateral      0.245915   \n",
       "280    L025  self_pased  left  left_ipsi  ipsilateral     -3.310223   \n",
       "281    L026  self_pased  left  left_ipsi  ipsilateral     -1.851566   \n",
       "282    L027  self_pased  left  left_ipsi  ipsilateral     -3.804128   \n",
       "283    L028  self_pased  left  left_ipsi  ipsilateral     -0.783858   \n",
       "\n",
       "     Maximum_beta  \n",
       "274      0.869477  \n",
       "275     -0.572137  \n",
       "276      1.244223  \n",
       "277     -1.142184  \n",
       "278      0.502556  \n",
       "279     -0.951387  \n",
       "280      0.036865  \n",
       "281      0.849769  \n",
       "282      4.076597  \n",
       "283      0.824081  "
      ]
     },
     "execution_count": 34,
     "metadata": {},
     "output_type": "execute_result"
    }
   ],
   "source": [
    "# load data file\n",
    "d = pd.read_csv(r\"/home/vera/MNE/ANOVA/table_for_anova_hands_hemisphere_short_int.csv\")\n",
    "d.tail(10)"
   ]
  },
  {
   "cell_type": "code",
   "execution_count": 36,
   "metadata": {},
   "outputs": [
    {
     "data": {
      "text/html": [
       "<div>\n",
       "<style scoped>\n",
       "    .dataframe tbody tr th:only-of-type {\n",
       "        vertical-align: middle;\n",
       "    }\n",
       "\n",
       "    .dataframe tbody tr th {\n",
       "        vertical-align: top;\n",
       "    }\n",
       "\n",
       "    .dataframe thead th {\n",
       "        text-align: right;\n",
       "    }\n",
       "</style>\n",
       "<table border=\"1\" class=\"dataframe\">\n",
       "  <thead>\n",
       "    <tr style=\"text-align: right;\">\n",
       "      <th></th>\n",
       "      <th>Subject</th>\n",
       "      <th>Condition</th>\n",
       "      <th>Hand</th>\n",
       "      <th>Hand_plot</th>\n",
       "      <th>Hemisphere</th>\n",
       "      <th>Minimum_beta</th>\n",
       "      <th>Maximum_beta</th>\n",
       "    </tr>\n",
       "  </thead>\n",
       "  <tbody>\n",
       "    <tr>\n",
       "      <th>274</th>\n",
       "      <td>L019</td>\n",
       "      <td>self_pased</td>\n",
       "      <td>left</td>\n",
       "      <td>left_ipsi</td>\n",
       "      <td>ipsilateral</td>\n",
       "      <td>-0.261534</td>\n",
       "      <td>0.869477</td>\n",
       "    </tr>\n",
       "    <tr>\n",
       "      <th>275</th>\n",
       "      <td>L020</td>\n",
       "      <td>self_pased</td>\n",
       "      <td>left</td>\n",
       "      <td>left_ipsi</td>\n",
       "      <td>ipsilateral</td>\n",
       "      <td>-5.793184</td>\n",
       "      <td>-0.572137</td>\n",
       "    </tr>\n",
       "    <tr>\n",
       "      <th>276</th>\n",
       "      <td>L021</td>\n",
       "      <td>self_pased</td>\n",
       "      <td>left</td>\n",
       "      <td>left_ipsi</td>\n",
       "      <td>ipsilateral</td>\n",
       "      <td>-0.280809</td>\n",
       "      <td>1.244223</td>\n",
       "    </tr>\n",
       "    <tr>\n",
       "      <th>277</th>\n",
       "      <td>L022</td>\n",
       "      <td>self_pased</td>\n",
       "      <td>left</td>\n",
       "      <td>left_ipsi</td>\n",
       "      <td>ipsilateral</td>\n",
       "      <td>-3.976470</td>\n",
       "      <td>-1.142184</td>\n",
       "    </tr>\n",
       "    <tr>\n",
       "      <th>278</th>\n",
       "      <td>L023</td>\n",
       "      <td>self_pased</td>\n",
       "      <td>left</td>\n",
       "      <td>left_ipsi</td>\n",
       "      <td>ipsilateral</td>\n",
       "      <td>-1.920863</td>\n",
       "      <td>0.502556</td>\n",
       "    </tr>\n",
       "    <tr>\n",
       "      <th>279</th>\n",
       "      <td>L024</td>\n",
       "      <td>self_pased</td>\n",
       "      <td>left</td>\n",
       "      <td>left_ipsi</td>\n",
       "      <td>ipsilateral</td>\n",
       "      <td>0.245915</td>\n",
       "      <td>-0.951387</td>\n",
       "    </tr>\n",
       "    <tr>\n",
       "      <th>280</th>\n",
       "      <td>L025</td>\n",
       "      <td>self_pased</td>\n",
       "      <td>left</td>\n",
       "      <td>left_ipsi</td>\n",
       "      <td>ipsilateral</td>\n",
       "      <td>-3.310223</td>\n",
       "      <td>0.036865</td>\n",
       "    </tr>\n",
       "    <tr>\n",
       "      <th>281</th>\n",
       "      <td>L026</td>\n",
       "      <td>self_pased</td>\n",
       "      <td>left</td>\n",
       "      <td>left_ipsi</td>\n",
       "      <td>ipsilateral</td>\n",
       "      <td>-1.851566</td>\n",
       "      <td>0.849769</td>\n",
       "    </tr>\n",
       "    <tr>\n",
       "      <th>282</th>\n",
       "      <td>L027</td>\n",
       "      <td>self_pased</td>\n",
       "      <td>left</td>\n",
       "      <td>left_ipsi</td>\n",
       "      <td>ipsilateral</td>\n",
       "      <td>-3.804128</td>\n",
       "      <td>4.076597</td>\n",
       "    </tr>\n",
       "    <tr>\n",
       "      <th>283</th>\n",
       "      <td>L028</td>\n",
       "      <td>self_pased</td>\n",
       "      <td>left</td>\n",
       "      <td>left_ipsi</td>\n",
       "      <td>ipsilateral</td>\n",
       "      <td>-0.783858</td>\n",
       "      <td>0.824081</td>\n",
       "    </tr>\n",
       "  </tbody>\n",
       "</table>\n",
       "</div>"
      ],
      "text/plain": [
       "    Subject   Condition  Hand  Hand_plot   Hemisphere  Minimum_beta  \\\n",
       "274    L019  self_pased  left  left_ipsi  ipsilateral     -0.261534   \n",
       "275    L020  self_pased  left  left_ipsi  ipsilateral     -5.793184   \n",
       "276    L021  self_pased  left  left_ipsi  ipsilateral     -0.280809   \n",
       "277    L022  self_pased  left  left_ipsi  ipsilateral     -3.976470   \n",
       "278    L023  self_pased  left  left_ipsi  ipsilateral     -1.920863   \n",
       "279    L024  self_pased  left  left_ipsi  ipsilateral      0.245915   \n",
       "280    L025  self_pased  left  left_ipsi  ipsilateral     -3.310223   \n",
       "281    L026  self_pased  left  left_ipsi  ipsilateral     -1.851566   \n",
       "282    L027  self_pased  left  left_ipsi  ipsilateral     -3.804128   \n",
       "283    L028  self_pased  left  left_ipsi  ipsilateral     -0.783858   \n",
       "\n",
       "     Maximum_beta  \n",
       "274      0.869477  \n",
       "275     -0.572137  \n",
       "276      1.244223  \n",
       "277     -1.142184  \n",
       "278      0.502556  \n",
       "279     -0.951387  \n",
       "280      0.036865  \n",
       "281      0.849769  \n",
       "282      4.076597  \n",
       "283      0.824081  "
      ]
     },
     "execution_count": 36,
     "metadata": {},
     "output_type": "execute_result"
    }
   ],
   "source": [
    "#Оставляем только self paced \n",
    "d3 = d[d['Condition'] == 'self_pased']\n",
    "d3.tail(10)"
   ]
  },
  {
   "cell_type": "code",
   "execution_count": 29,
   "metadata": {},
   "outputs": [
    {
     "data": {
      "text/html": [
       "<div>\n",
       "<style scoped>\n",
       "    .dataframe tbody tr th:only-of-type {\n",
       "        vertical-align: middle;\n",
       "    }\n",
       "\n",
       "    .dataframe tbody tr th {\n",
       "        vertical-align: top;\n",
       "    }\n",
       "\n",
       "    .dataframe thead th {\n",
       "        text-align: right;\n",
       "    }\n",
       "</style>\n",
       "<table border=\"1\" class=\"dataframe\">\n",
       "  <thead>\n",
       "    <tr style=\"text-align: right;\">\n",
       "      <th></th>\n",
       "      <th>Subject</th>\n",
       "      <th>Condition</th>\n",
       "      <th>Hand</th>\n",
       "      <th>Hemisphere</th>\n",
       "      <th>Minimum_beta</th>\n",
       "      <th>Maximum_beta</th>\n",
       "    </tr>\n",
       "  </thead>\n",
       "  <tbody>\n",
       "    <tr>\n",
       "      <th>274</th>\n",
       "      <td>L019</td>\n",
       "      <td>self_pased</td>\n",
       "      <td>left_ipsi</td>\n",
       "      <td>ipsilateral</td>\n",
       "      <td>-0.261534</td>\n",
       "      <td>0.869477</td>\n",
       "    </tr>\n",
       "    <tr>\n",
       "      <th>275</th>\n",
       "      <td>L020</td>\n",
       "      <td>self_pased</td>\n",
       "      <td>left_ipsi</td>\n",
       "      <td>ipsilateral</td>\n",
       "      <td>-5.793184</td>\n",
       "      <td>-0.572137</td>\n",
       "    </tr>\n",
       "    <tr>\n",
       "      <th>276</th>\n",
       "      <td>L021</td>\n",
       "      <td>self_pased</td>\n",
       "      <td>left_ipsi</td>\n",
       "      <td>ipsilateral</td>\n",
       "      <td>-0.280809</td>\n",
       "      <td>1.244223</td>\n",
       "    </tr>\n",
       "    <tr>\n",
       "      <th>277</th>\n",
       "      <td>L022</td>\n",
       "      <td>self_pased</td>\n",
       "      <td>left_ipsi</td>\n",
       "      <td>ipsilateral</td>\n",
       "      <td>-3.976470</td>\n",
       "      <td>-1.142184</td>\n",
       "    </tr>\n",
       "    <tr>\n",
       "      <th>278</th>\n",
       "      <td>L023</td>\n",
       "      <td>self_pased</td>\n",
       "      <td>left_ipsi</td>\n",
       "      <td>ipsilateral</td>\n",
       "      <td>-1.920863</td>\n",
       "      <td>0.502556</td>\n",
       "    </tr>\n",
       "    <tr>\n",
       "      <th>279</th>\n",
       "      <td>L024</td>\n",
       "      <td>self_pased</td>\n",
       "      <td>left_ipsi</td>\n",
       "      <td>ipsilateral</td>\n",
       "      <td>0.245915</td>\n",
       "      <td>-0.951387</td>\n",
       "    </tr>\n",
       "    <tr>\n",
       "      <th>280</th>\n",
       "      <td>L025</td>\n",
       "      <td>self_pased</td>\n",
       "      <td>left_ipsi</td>\n",
       "      <td>ipsilateral</td>\n",
       "      <td>-3.310223</td>\n",
       "      <td>0.036865</td>\n",
       "    </tr>\n",
       "    <tr>\n",
       "      <th>281</th>\n",
       "      <td>L026</td>\n",
       "      <td>self_pased</td>\n",
       "      <td>left_ipsi</td>\n",
       "      <td>ipsilateral</td>\n",
       "      <td>-1.851566</td>\n",
       "      <td>0.849769</td>\n",
       "    </tr>\n",
       "    <tr>\n",
       "      <th>282</th>\n",
       "      <td>L027</td>\n",
       "      <td>self_pased</td>\n",
       "      <td>left_ipsi</td>\n",
       "      <td>ipsilateral</td>\n",
       "      <td>-3.804128</td>\n",
       "      <td>4.076597</td>\n",
       "    </tr>\n",
       "    <tr>\n",
       "      <th>283</th>\n",
       "      <td>L028</td>\n",
       "      <td>self_pased</td>\n",
       "      <td>left_ipsi</td>\n",
       "      <td>ipsilateral</td>\n",
       "      <td>-0.783858</td>\n",
       "      <td>0.824081</td>\n",
       "    </tr>\n",
       "  </tbody>\n",
       "</table>\n",
       "</div>"
      ],
      "text/plain": [
       "    Subject   Condition       Hand   Hemisphere  Minimum_beta  Maximum_beta\n",
       "274    L019  self_pased  left_ipsi  ipsilateral     -0.261534      0.869477\n",
       "275    L020  self_pased  left_ipsi  ipsilateral     -5.793184     -0.572137\n",
       "276    L021  self_pased  left_ipsi  ipsilateral     -0.280809      1.244223\n",
       "277    L022  self_pased  left_ipsi  ipsilateral     -3.976470     -1.142184\n",
       "278    L023  self_pased  left_ipsi  ipsilateral     -1.920863      0.502556\n",
       "279    L024  self_pased  left_ipsi  ipsilateral      0.245915     -0.951387\n",
       "280    L025  self_pased  left_ipsi  ipsilateral     -3.310223      0.036865\n",
       "281    L026  self_pased  left_ipsi  ipsilateral     -1.851566      0.849769\n",
       "282    L027  self_pased  left_ipsi  ipsilateral     -3.804128      4.076597\n",
       "283    L028  self_pased  left_ipsi  ipsilateral     -0.783858      0.824081"
      ]
     },
     "execution_count": 29,
     "metadata": {},
     "output_type": "execute_result"
    }
   ],
   "source": [
    "#оставляем только self paced \n",
    "d3 = d[d['Condition'] == 'self_pased']\n",
    "d3.tail(10)"
   ]
  },
  {
   "cell_type": "code",
   "execution_count": 38,
   "metadata": {},
   "outputs": [
    {
     "name": "stdout",
     "output_type": "stream",
     "text": [
      "                    Anova\n",
      "=============================================\n",
      "                F Value Num DF  Den DF Pr > F\n",
      "---------------------------------------------\n",
      "Hand             0.7943 1.0000 26.0000 0.3810\n",
      "Hemisphere      39.9281 1.0000 26.0000 0.0000\n",
      "Hand:Hemisphere  0.2138 1.0000 26.0000 0.6476\n",
      "=============================================\n",
      "\n"
     ]
    }
   ],
   "source": [
    "############### MINIMUM #####################\n",
    "\n",
    "aovrm2way = AnovaRM(d3, 'Minimum_beta', 'Subject', within=['Hand', 'Hemisphere'])\n",
    "res2way = aovrm2way.fit()\n",
    "\n",
    "print(res2way)"
   ]
  },
  {
   "cell_type": "code",
   "execution_count": 57,
   "metadata": {},
   "outputs": [
    {
     "name": "stdout",
     "output_type": "stream",
     "text": [
      "                    Anova\n",
      "=============================================\n",
      "                F Value Num DF  Den DF Pr > F\n",
      "---------------------------------------------\n",
      "Hand             1.7580 1.0000 26.0000 0.1964\n",
      "Hemisphere      20.5794 1.0000 26.0000 0.0001\n",
      "Hand:Hemisphere  2.9043 1.0000 26.0000 0.1003\n",
      "=============================================\n",
      "\n"
     ]
    }
   ],
   "source": [
    "############### MAXIMUM #####################\n",
    "\n",
    "aovrm2way = AnovaRM(d3, 'Maximum_beta', 'Subject', within=['Hand', 'Hemisphere'])\n",
    "res2way = aovrm2way.fit()\n",
    "\n",
    "print(res2way)"
   ]
  },
  {
   "cell_type": "markdown",
   "metadata": {},
   "source": [
    "# Good luck with your analysis ;)"
   ]
  }
 ],
 "metadata": {
  "kernelspec": {
   "display_name": "Python 3",
   "language": "python",
   "name": "python3"
  },
  "language_info": {
   "codemirror_mode": {
    "name": "ipython",
    "version": 3
   },
   "file_extension": ".py",
   "mimetype": "text/x-python",
   "name": "python",
   "nbconvert_exporter": "python",
   "pygments_lexer": "ipython3",
   "version": "3.8.5"
  }
 },
 "nbformat": 4,
 "nbformat_minor": 4
}
