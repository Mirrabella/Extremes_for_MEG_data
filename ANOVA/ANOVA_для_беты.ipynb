{
 "cells": [
  {
   "cell_type": "markdown",
   "metadata": {},
   "source": [
    "# ANOVA для беты  \n",
    "\n",
    "Используются данные из table_for_anova.csv   \n",
    "\n",
    "Для этого использовался скрипт: \n",
    "\n",
    "/home/vtretyakova/Рабочий стол/ANOVA_for_extrem/table_for_ANOVA.py\n"
   ]
  },
  {
   "cell_type": "code",
   "execution_count": 1,
   "metadata": {},
   "outputs": [],
   "source": [
    "import pandas as pd\n",
    "import matplotlib.pyplot as plt\n",
    "import seaborn as sns\n",
    "import scipy.stats as stats\n",
    "from statsmodels.stats.multitest import fdrcorrection\n",
    "import statsmodels.api as sm\n",
    "from statsmodels.formula.api import ols\n",
    "from bioinfokit.analys import stat\n",
    "from scipy.stats import ttest_rel"
   ]
  },
  {
   "cell_type": "code",
   "execution_count": 2,
   "metadata": {},
   "outputs": [
    {
     "data": {
      "text/html": [
       "<div>\n",
       "<style scoped>\n",
       "    .dataframe tbody tr th:only-of-type {\n",
       "        vertical-align: middle;\n",
       "    }\n",
       "\n",
       "    .dataframe tbody tr th {\n",
       "        vertical-align: top;\n",
       "    }\n",
       "\n",
       "    .dataframe thead th {\n",
       "        text-align: right;\n",
       "    }\n",
       "</style>\n",
       "<table border=\"1\" class=\"dataframe\">\n",
       "  <thead>\n",
       "    <tr style=\"text-align: right;\">\n",
       "      <th></th>\n",
       "      <th>Condition</th>\n",
       "      <th>Hand</th>\n",
       "      <th>Minimum_beta</th>\n",
       "      <th>Maximum_beta</th>\n",
       "    </tr>\n",
       "  </thead>\n",
       "  <tbody>\n",
       "    <tr>\n",
       "      <th>133</th>\n",
       "      <td>self_pased</td>\n",
       "      <td>left</td>\n",
       "      <td>-2.264036</td>\n",
       "      <td>1.671180</td>\n",
       "    </tr>\n",
       "    <tr>\n",
       "      <th>134</th>\n",
       "      <td>self_pased</td>\n",
       "      <td>left</td>\n",
       "      <td>-10.009629</td>\n",
       "      <td>1.220419</td>\n",
       "    </tr>\n",
       "    <tr>\n",
       "      <th>135</th>\n",
       "      <td>self_pased</td>\n",
       "      <td>left</td>\n",
       "      <td>-2.395103</td>\n",
       "      <td>2.580837</td>\n",
       "    </tr>\n",
       "    <tr>\n",
       "      <th>136</th>\n",
       "      <td>self_pased</td>\n",
       "      <td>left</td>\n",
       "      <td>-4.061008</td>\n",
       "      <td>2.879128</td>\n",
       "    </tr>\n",
       "    <tr>\n",
       "      <th>137</th>\n",
       "      <td>self_pased</td>\n",
       "      <td>left</td>\n",
       "      <td>-3.125089</td>\n",
       "      <td>1.594101</td>\n",
       "    </tr>\n",
       "    <tr>\n",
       "      <th>138</th>\n",
       "      <td>self_pased</td>\n",
       "      <td>left</td>\n",
       "      <td>-6.561952</td>\n",
       "      <td>2.634952</td>\n",
       "    </tr>\n",
       "    <tr>\n",
       "      <th>139</th>\n",
       "      <td>self_pased</td>\n",
       "      <td>left</td>\n",
       "      <td>-5.808643</td>\n",
       "      <td>3.358962</td>\n",
       "    </tr>\n",
       "    <tr>\n",
       "      <th>140</th>\n",
       "      <td>self_pased</td>\n",
       "      <td>left</td>\n",
       "      <td>-7.064633</td>\n",
       "      <td>3.368875</td>\n",
       "    </tr>\n",
       "    <tr>\n",
       "      <th>141</th>\n",
       "      <td>self_pased</td>\n",
       "      <td>left</td>\n",
       "      <td>-11.551385</td>\n",
       "      <td>3.668236</td>\n",
       "    </tr>\n",
       "    <tr>\n",
       "      <th>142</th>\n",
       "      <td>self_pased</td>\n",
       "      <td>left</td>\n",
       "      <td>-1.985082</td>\n",
       "      <td>2.911335</td>\n",
       "    </tr>\n",
       "  </tbody>\n",
       "</table>\n",
       "</div>"
      ],
      "text/plain": [
       "      Condition  Hand  Minimum_beta  Maximum_beta\n",
       "133  self_pased  left     -2.264036      1.671180\n",
       "134  self_pased  left    -10.009629      1.220419\n",
       "135  self_pased  left     -2.395103      2.580837\n",
       "136  self_pased  left     -4.061008      2.879128\n",
       "137  self_pased  left     -3.125089      1.594101\n",
       "138  self_pased  left     -6.561952      2.634952\n",
       "139  self_pased  left     -5.808643      3.358962\n",
       "140  self_pased  left     -7.064633      3.368875\n",
       "141  self_pased  left    -11.551385      3.668236\n",
       "142  self_pased  left     -1.985082      2.911335"
      ]
     },
     "execution_count": 2,
     "metadata": {},
     "output_type": "execute_result"
    }
   ],
   "source": [
    "# load data file\n",
    "d = pd.read_csv(r\"/home/vera/MNE/ANOVA/table_for_anova.csv\")\n",
    "d.tail(10)"
   ]
  },
  {
   "cell_type": "markdown",
   "metadata": {},
   "source": [
    "# ANOVA для кондишена с тремя уровнями (Targeting, Probing, Self Paced)"
   ]
  },
  {
   "cell_type": "markdown",
   "metadata": {},
   "source": [
    "###### Строим Boxplot для трех условий"
   ]
  },
  {
   "cell_type": "code",
   "execution_count": 14,
   "metadata": {},
   "outputs": [],
   "source": [
    "my_pal = {Hand: \"r\" if Hand == \"right\" else \"b\" for Hand in d.Hand.unique()}"
   ]
  },
  {
   "cell_type": "code",
   "execution_count": 15,
   "metadata": {},
   "outputs": [
    {
     "data": {
      "image/png": "[encoded data removed]",
      "text/plain": [
       "<Figure size 432x288 with 1 Axes>"
      ]
     },
     "metadata": {
      "needs_background": "light"
     },
     "output_type": "display_data"
    }
   ],
   "source": [
    "sns.boxplot(x=\"Condition\", y=\"Minimum_beta\", hue=\"Hand\", data=d, palette=my_pal)\n",
    "plt.legend(bbox_to_anchor=(1.01, 1),borderaxespad=0)\n",
    "plt.savefig(\"/home/vera/MNE/ANOVA/boxplot/boxplot_three_cond_minimum.jpeg\", format='jpeg',dpi=300)"
   ]
  },
  {
   "cell_type": "code",
   "execution_count": 22,
   "metadata": {},
   "outputs": [
    {
     "data": {
      "image/png": "[encoded data removed]",
      "text/plain": [
       "<Figure size 432x288 with 1 Axes>"
      ]
     },
     "metadata": {
      "needs_background": "light"
     },
     "output_type": "display_data"
    }
   ],
   "source": [
    "sns.boxplot(x=\"Condition\", y=\"Maximum_beta\", hue=\"Hand\", data=d, palette=my_pal)\n",
    "plt.legend(bbox_to_anchor=(1.2, 1),borderaxespad=0)\n",
    "plt.savefig(\"/home/vera/MNE/ANOVA/boxplot/boxplot_three_cond_maximum.jpeg\", format='jpeg',dpi=300)"
   ]
  },
  {
   "cell_type": "code",
   "execution_count": 5,
   "metadata": {},
   "outputs": [
    {
     "data": {
      "text/plain": [
       "<AxesSubplot:xlabel='Condition', ylabel='Maximum beta'>"
      ]
     },
     "execution_count": 5,
     "metadata": {},
     "output_type": "execute_result"
    },
    {
     "data": {
      "image/png": "[encoded data removed]",
      "text/plain": [
       "<Figure size 432x288 with 1 Axes>"
      ]
     },
     "metadata": {
      "needs_background": "light"
     },
     "output_type": "display_data"
    }
   ],
   "source": [
    "sns.boxplot(x=\"Condition\", y=\"Maximum beta\", hue=\"Hand\", data=d, palette=\"Set3\")"
   ]
  },
  {
   "cell_type": "markdown",
   "metadata": {},
   "source": [
    "###### Строим модель и проводим дисперсионный анализ"
   ]
  },
  {
   "cell_type": "code",
   "execution_count": 8,
   "metadata": {},
   "outputs": [
    {
     "data": {
      "text/html": [
       "<div>\n",
       "<style scoped>\n",
       "    .dataframe tbody tr th:only-of-type {\n",
       "        vertical-align: middle;\n",
       "    }\n",
       "\n",
       "    .dataframe tbody tr th {\n",
       "        vertical-align: top;\n",
       "    }\n",
       "\n",
       "    .dataframe thead th {\n",
       "        text-align: right;\n",
       "    }\n",
       "</style>\n",
       "<table border=\"1\" class=\"dataframe\">\n",
       "  <thead>\n",
       "    <tr style=\"text-align: right;\">\n",
       "      <th></th>\n",
       "      <th>sum_sq</th>\n",
       "      <th>df</th>\n",
       "      <th>F</th>\n",
       "      <th>PR(&gt;F)</th>\n",
       "    </tr>\n",
       "  </thead>\n",
       "  <tbody>\n",
       "    <tr>\n",
       "      <th>C(Condition)</th>\n",
       "      <td>25.076700</td>\n",
       "      <td>2.0</td>\n",
       "      <td>1.306421</td>\n",
       "      <td>0.274139</td>\n",
       "    </tr>\n",
       "    <tr>\n",
       "      <th>C(Hand)</th>\n",
       "      <td>19.167204</td>\n",
       "      <td>1.0</td>\n",
       "      <td>1.997107</td>\n",
       "      <td>0.159868</td>\n",
       "    </tr>\n",
       "    <tr>\n",
       "      <th>C(Condition):C(Hand)</th>\n",
       "      <td>1.411014</td>\n",
       "      <td>2.0</td>\n",
       "      <td>0.073510</td>\n",
       "      <td>0.929164</td>\n",
       "    </tr>\n",
       "    <tr>\n",
       "      <th>Residual</th>\n",
       "      <td>1314.855075</td>\n",
       "      <td>137.0</td>\n",
       "      <td>NaN</td>\n",
       "      <td>NaN</td>\n",
       "    </tr>\n",
       "  </tbody>\n",
       "</table>\n",
       "</div>"
      ],
      "text/plain": [
       "                           sum_sq     df         F    PR(>F)\n",
       "C(Condition)            25.076700    2.0  1.306421  0.274139\n",
       "C(Hand)                 19.167204    1.0  1.997107  0.159868\n",
       "C(Condition):C(Hand)     1.411014    2.0  0.073510  0.929164\n",
       "Residual              1314.855075  137.0       NaN       NaN"
      ]
     },
     "execution_count": 8,
     "metadata": {},
     "output_type": "execute_result"
    }
   ],
   "source": [
    "model = ols('Minimum_beta ~ C(Condition) + C(Hand) + C(Condition):C(Hand)', data=d).fit()\n",
    "anova_table = sm.stats.anova_lm(model, typ=2)\n",
    "anova_table"
   ]
  },
  {
   "cell_type": "code",
   "execution_count": 14,
   "metadata": {
    "scrolled": true
   },
   "outputs": [
    {
     "data": {
      "text/html": [
       "<div>\n",
       "<style scoped>\n",
       "    .dataframe tbody tr th:only-of-type {\n",
       "        vertical-align: middle;\n",
       "    }\n",
       "\n",
       "    .dataframe tbody tr th {\n",
       "        vertical-align: top;\n",
       "    }\n",
       "\n",
       "    .dataframe thead th {\n",
       "        text-align: right;\n",
       "    }\n",
       "</style>\n",
       "<table border=\"1\" class=\"dataframe\">\n",
       "  <thead>\n",
       "    <tr style=\"text-align: right;\">\n",
       "      <th></th>\n",
       "      <th>sum_sq</th>\n",
       "      <th>df</th>\n",
       "      <th>F</th>\n",
       "      <th>PR(&gt;F)</th>\n",
       "    </tr>\n",
       "  </thead>\n",
       "  <tbody>\n",
       "    <tr>\n",
       "      <th>C(Condition)</th>\n",
       "      <td>76.270172</td>\n",
       "      <td>2.0</td>\n",
       "      <td>6.480312</td>\n",
       "      <td>0.002046</td>\n",
       "    </tr>\n",
       "    <tr>\n",
       "      <th>C(Hand)</th>\n",
       "      <td>19.892888</td>\n",
       "      <td>1.0</td>\n",
       "      <td>3.380407</td>\n",
       "      <td>0.068141</td>\n",
       "    </tr>\n",
       "    <tr>\n",
       "      <th>C(Condition):C(Hand)</th>\n",
       "      <td>0.830911</td>\n",
       "      <td>2.0</td>\n",
       "      <td>0.070599</td>\n",
       "      <td>0.931870</td>\n",
       "    </tr>\n",
       "    <tr>\n",
       "      <th>Residual</th>\n",
       "      <td>806.212269</td>\n",
       "      <td>137.0</td>\n",
       "      <td>NaN</td>\n",
       "      <td>NaN</td>\n",
       "    </tr>\n",
       "  </tbody>\n",
       "</table>\n",
       "</div>"
      ],
      "text/plain": [
       "                          sum_sq     df         F    PR(>F)\n",
       "C(Condition)           76.270172    2.0  6.480312  0.002046\n",
       "C(Hand)                19.892888    1.0  3.380407  0.068141\n",
       "C(Condition):C(Hand)    0.830911    2.0  0.070599  0.931870\n",
       "Residual              806.212269  137.0       NaN       NaN"
      ]
     },
     "execution_count": 14,
     "metadata": {},
     "output_type": "execute_result"
    }
   ],
   "source": [
    "model = ols('Maximum_beta ~ C(Condition) + C(Hand) + C(Condition):C(Hand)', data=d).fit()\n",
    "anova_table = sm.stats.anova_lm(model, typ=2)\n",
    "anova_table"
   ]
  },
  {
   "cell_type": "markdown",
   "metadata": {},
   "source": [
    "# ANOVA для кондишена с двумя уровнями (Targeting, Probing)"
   ]
  },
  {
   "cell_type": "code",
   "execution_count": 11,
   "metadata": {},
   "outputs": [
    {
     "data": {
      "text/html": [
       "<div>\n",
       "<style scoped>\n",
       "    .dataframe tbody tr th:only-of-type {\n",
       "        vertical-align: middle;\n",
       "    }\n",
       "\n",
       "    .dataframe tbody tr th {\n",
       "        vertical-align: top;\n",
       "    }\n",
       "\n",
       "    .dataframe thead th {\n",
       "        text-align: right;\n",
       "    }\n",
       "</style>\n",
       "<table border=\"1\" class=\"dataframe\">\n",
       "  <thead>\n",
       "    <tr style=\"text-align: right;\">\n",
       "      <th></th>\n",
       "      <th>Condition</th>\n",
       "      <th>Hand</th>\n",
       "      <th>Minimum_beta</th>\n",
       "      <th>Maximum_beta</th>\n",
       "    </tr>\n",
       "  </thead>\n",
       "  <tbody>\n",
       "    <tr>\n",
       "      <th>78</th>\n",
       "      <td>targeted</td>\n",
       "      <td>left</td>\n",
       "      <td>-5.160903</td>\n",
       "      <td>1.898086</td>\n",
       "    </tr>\n",
       "    <tr>\n",
       "      <th>79</th>\n",
       "      <td>targeted</td>\n",
       "      <td>left</td>\n",
       "      <td>-1.982809</td>\n",
       "      <td>5.565144</td>\n",
       "    </tr>\n",
       "    <tr>\n",
       "      <th>80</th>\n",
       "      <td>targeted</td>\n",
       "      <td>left</td>\n",
       "      <td>-10.380881</td>\n",
       "      <td>0.849678</td>\n",
       "    </tr>\n",
       "    <tr>\n",
       "      <th>81</th>\n",
       "      <td>targeted</td>\n",
       "      <td>left</td>\n",
       "      <td>-4.328391</td>\n",
       "      <td>6.024862</td>\n",
       "    </tr>\n",
       "    <tr>\n",
       "      <th>82</th>\n",
       "      <td>targeted</td>\n",
       "      <td>left</td>\n",
       "      <td>-7.810778</td>\n",
       "      <td>1.602543</td>\n",
       "    </tr>\n",
       "    <tr>\n",
       "      <th>83</th>\n",
       "      <td>targeted</td>\n",
       "      <td>left</td>\n",
       "      <td>-3.616617</td>\n",
       "      <td>2.831747</td>\n",
       "    </tr>\n",
       "    <tr>\n",
       "      <th>84</th>\n",
       "      <td>targeted</td>\n",
       "      <td>left</td>\n",
       "      <td>-7.287090</td>\n",
       "      <td>1.465117</td>\n",
       "    </tr>\n",
       "    <tr>\n",
       "      <th>85</th>\n",
       "      <td>targeted</td>\n",
       "      <td>left</td>\n",
       "      <td>-3.795074</td>\n",
       "      <td>9.475308</td>\n",
       "    </tr>\n",
       "    <tr>\n",
       "      <th>86</th>\n",
       "      <td>targeted</td>\n",
       "      <td>left</td>\n",
       "      <td>-2.757010</td>\n",
       "      <td>6.391339</td>\n",
       "    </tr>\n",
       "    <tr>\n",
       "      <th>87</th>\n",
       "      <td>targeted</td>\n",
       "      <td>left</td>\n",
       "      <td>-4.810514</td>\n",
       "      <td>5.693317</td>\n",
       "    </tr>\n",
       "  </tbody>\n",
       "</table>\n",
       "</div>"
      ],
      "text/plain": [
       "   Condition  Hand  Minimum_beta  Maximum_beta\n",
       "78  targeted  left     -5.160903      1.898086\n",
       "79  targeted  left     -1.982809      5.565144\n",
       "80  targeted  left    -10.380881      0.849678\n",
       "81  targeted  left     -4.328391      6.024862\n",
       "82  targeted  left     -7.810778      1.602543\n",
       "83  targeted  left     -3.616617      2.831747\n",
       "84  targeted  left     -7.287090      1.465117\n",
       "85  targeted  left     -3.795074      9.475308\n",
       "86  targeted  left     -2.757010      6.391339\n",
       "87  targeted  left     -4.810514      5.693317"
      ]
     },
     "execution_count": 11,
     "metadata": {},
     "output_type": "execute_result"
    }
   ],
   "source": [
    "d2 = d[d['Condition'] != 'self_pased']\n",
    "d2.tail(10)"
   ]
  },
  {
   "cell_type": "markdown",
   "metadata": {},
   "source": [
    "###### Boxplots для двух условий"
   ]
  },
  {
   "cell_type": "code",
   "execution_count": 12,
   "metadata": {},
   "outputs": [
    {
     "data": {
      "image/png": "[encoded data removed]",
      "text/plain": [
       "<Figure size 432x288 with 1 Axes>"
      ]
     },
     "metadata": {
      "needs_background": "light"
     },
     "output_type": "display_data"
    }
   ],
   "source": [
    "my_pal = {Hand: \"r\" if Hand == \"right\" else \"b\" for Hand in d2.Hand.unique()}\n",
    "sns.boxplot(x=\"Condition\", y=\"Minimum_beta\", hue=\"Hand\", data=d2, palette=my_pal)\n",
    "plt.legend(bbox_to_anchor=(1.01, 1),borderaxespad=0)\n",
    "plt.savefig(\"/home/vera/MNE/ANOVA/boxplot/boxplot_two_cond_minimum.jpeg\", format='jpeg',dpi=300)"
   ]
  },
  {
   "cell_type": "code",
   "execution_count": 6,
   "metadata": {},
   "outputs": [
    {
     "data": {
      "text/plain": [
       "<AxesSubplot:xlabel='Condition', ylabel='Minimum_beta'>"
      ]
     },
     "execution_count": 6,
     "metadata": {},
     "output_type": "execute_result"
    },
    {
     "data": {
      "image/png": "[encoded data removed]",
      "text/plain": [
       "<Figure size 432x288 with 1 Axes>"
      ]
     },
     "metadata": {
      "needs_background": "light"
     },
     "output_type": "display_data"
    }
   ],
   "source": [
    "sns.boxplot(x=\"Condition\", y=\"Minimum_beta\", hue=\"Hand\", data=d2, palette=\"Set3\")"
   ]
  },
  {
   "cell_type": "code",
   "execution_count": 13,
   "metadata": {},
   "outputs": [
    {
     "data": {
      "image/png": "[encoded data removed]",
      "text/plain": [
       "<Figure size 432x288 with 1 Axes>"
      ]
     },
     "metadata": {
      "needs_background": "light"
     },
     "output_type": "display_data"
    }
   ],
   "source": [
    "my_pal = {Hand: \"r\" if Hand == \"right\" else \"b\" for Hand in d.Hand.unique()} # задаем цвета\n",
    "sns.boxplot(x=\"Condition\", y=\"Maximum_beta\", hue=\"Hand\", data=d2, palette=my_pal)\n",
    "plt.legend(bbox_to_anchor=(1.01, 1),borderaxespad=0)\n",
    "plt.savefig(\"/home/vera/MNE/ANOVA/boxplot/boxplot_two_cond_maximum.jpeg\", format='jpeg',dpi=300)"
   ]
  },
  {
   "cell_type": "code",
   "execution_count": 7,
   "metadata": {},
   "outputs": [
    {
     "data": {
      "text/plain": [
       "<AxesSubplot:xlabel='Condition', ylabel='Maximum_beta'>"
      ]
     },
     "execution_count": 7,
     "metadata": {},
     "output_type": "execute_result"
    },
    {
     "data": {
      "image/png": "[encoded data removed]",
      "text/plain": [
       "<Figure size 432x288 with 1 Axes>"
      ]
     },
     "metadata": {
      "needs_background": "light"
     },
     "output_type": "display_data"
    }
   ],
   "source": [
    "sns.boxplot(x=\"Condition\", y=\"Maximum_beta\", hue=\"Hand\", data=d2, palette=\"Set3\")"
   ]
  },
  {
   "cell_type": "code",
   "execution_count": 12,
   "metadata": {
    "scrolled": true
   },
   "outputs": [
    {
     "data": {
      "text/html": [
       "<div>\n",
       "<style scoped>\n",
       "    .dataframe tbody tr th:only-of-type {\n",
       "        vertical-align: middle;\n",
       "    }\n",
       "\n",
       "    .dataframe tbody tr th {\n",
       "        vertical-align: top;\n",
       "    }\n",
       "\n",
       "    .dataframe thead th {\n",
       "        text-align: right;\n",
       "    }\n",
       "</style>\n",
       "<table border=\"1\" class=\"dataframe\">\n",
       "  <thead>\n",
       "    <tr style=\"text-align: right;\">\n",
       "      <th></th>\n",
       "      <th>sum_sq</th>\n",
       "      <th>df</th>\n",
       "      <th>F</th>\n",
       "      <th>PR(&gt;F)</th>\n",
       "    </tr>\n",
       "  </thead>\n",
       "  <tbody>\n",
       "    <tr>\n",
       "      <th>C(Condition)</th>\n",
       "      <td>7.312325</td>\n",
       "      <td>1.0</td>\n",
       "      <td>0.834360</td>\n",
       "      <td>0.363629</td>\n",
       "    </tr>\n",
       "    <tr>\n",
       "      <th>C(Hand)</th>\n",
       "      <td>15.942451</td>\n",
       "      <td>1.0</td>\n",
       "      <td>1.819085</td>\n",
       "      <td>0.181047</td>\n",
       "    </tr>\n",
       "    <tr>\n",
       "      <th>C(Condition):C(Hand)</th>\n",
       "      <td>0.600818</td>\n",
       "      <td>1.0</td>\n",
       "      <td>0.068555</td>\n",
       "      <td>0.794093</td>\n",
       "    </tr>\n",
       "    <tr>\n",
       "      <th>Residual</th>\n",
       "      <td>736.175409</td>\n",
       "      <td>84.0</td>\n",
       "      <td>NaN</td>\n",
       "      <td>NaN</td>\n",
       "    </tr>\n",
       "  </tbody>\n",
       "</table>\n",
       "</div>"
      ],
      "text/plain": [
       "                          sum_sq    df         F    PR(>F)\n",
       "C(Condition)            7.312325   1.0  0.834360  0.363629\n",
       "C(Hand)                15.942451   1.0  1.819085  0.181047\n",
       "C(Condition):C(Hand)    0.600818   1.0  0.068555  0.794093\n",
       "Residual              736.175409  84.0       NaN       NaN"
      ]
     },
     "execution_count": 12,
     "metadata": {},
     "output_type": "execute_result"
    }
   ],
   "source": [
    "model = ols('Minimum_beta ~ C(Condition) + C(Hand) + C(Condition):C(Hand)', data=d2).fit()\n",
    "anova_table = sm.stats.anova_lm(model, typ=2)\n",
    "anova_table"
   ]
  },
  {
   "cell_type": "code",
   "execution_count": 13,
   "metadata": {},
   "outputs": [
    {
     "data": {
      "text/html": [
       "<div>\n",
       "<style scoped>\n",
       "    .dataframe tbody tr th:only-of-type {\n",
       "        vertical-align: middle;\n",
       "    }\n",
       "\n",
       "    .dataframe tbody tr th {\n",
       "        vertical-align: top;\n",
       "    }\n",
       "\n",
       "    .dataframe thead th {\n",
       "        text-align: right;\n",
       "    }\n",
       "</style>\n",
       "<table border=\"1\" class=\"dataframe\">\n",
       "  <thead>\n",
       "    <tr style=\"text-align: right;\">\n",
       "      <th></th>\n",
       "      <th>sum_sq</th>\n",
       "      <th>df</th>\n",
       "      <th>F</th>\n",
       "      <th>PR(&gt;F)</th>\n",
       "    </tr>\n",
       "  </thead>\n",
       "  <tbody>\n",
       "    <tr>\n",
       "      <th>C(Condition)</th>\n",
       "      <td>73.684950</td>\n",
       "      <td>1.0</td>\n",
       "      <td>9.234732</td>\n",
       "      <td>0.003165</td>\n",
       "    </tr>\n",
       "    <tr>\n",
       "      <th>C(Hand)</th>\n",
       "      <td>8.951298</td>\n",
       "      <td>1.0</td>\n",
       "      <td>1.121841</td>\n",
       "      <td>0.292558</td>\n",
       "    </tr>\n",
       "    <tr>\n",
       "      <th>C(Condition):C(Hand)</th>\n",
       "      <td>0.161985</td>\n",
       "      <td>1.0</td>\n",
       "      <td>0.020301</td>\n",
       "      <td>0.887041</td>\n",
       "    </tr>\n",
       "    <tr>\n",
       "      <th>Residual</th>\n",
       "      <td>670.245304</td>\n",
       "      <td>84.0</td>\n",
       "      <td>NaN</td>\n",
       "      <td>NaN</td>\n",
       "    </tr>\n",
       "  </tbody>\n",
       "</table>\n",
       "</div>"
      ],
      "text/plain": [
       "                          sum_sq    df         F    PR(>F)\n",
       "C(Condition)           73.684950   1.0  9.234732  0.003165\n",
       "C(Hand)                 8.951298   1.0  1.121841  0.292558\n",
       "C(Condition):C(Hand)    0.161985   1.0  0.020301  0.887041\n",
       "Residual              670.245304  84.0       NaN       NaN"
      ]
     },
     "execution_count": 13,
     "metadata": {},
     "output_type": "execute_result"
    }
   ],
   "source": [
    "model = ols('Maximum_beta ~ C(Condition) + C(Hand) + C(Condition):C(Hand)', data=d2).fit()\n",
    "anova_table = sm.stats.anova_lm(model, typ=2)\n",
    "anova_table"
   ]
  },
  {
   "cell_type": "markdown",
   "metadata": {},
   "source": [
    "# Тест Тьюки"
   ]
  },
  {
   "cell_type": "markdown",
   "metadata": {},
   "source": [
    "Теперь мы знаем, что различия беты между условиями статистически значимы, но ANOVA не показывает, при каких кондишенах значение беты значительно отличается друг от друга. Чтобы узнать пары значимо различающихся мощностей беты при отпределенных кондишенах, выполним анализ множественных парных сравнений (Post-hoc comparison), используя тест HSD Тьюки."
   ]
  },
  {
   "cell_type": "code",
   "execution_count": 19,
   "metadata": {},
   "outputs": [
    {
     "data": {
      "text/html": [
       "<div>\n",
       "<style scoped>\n",
       "    .dataframe tbody tr th:only-of-type {\n",
       "        vertical-align: middle;\n",
       "    }\n",
       "\n",
       "    .dataframe tbody tr th {\n",
       "        vertical-align: top;\n",
       "    }\n",
       "\n",
       "    .dataframe thead th {\n",
       "        text-align: right;\n",
       "    }\n",
       "</style>\n",
       "<table border=\"1\" class=\"dataframe\">\n",
       "  <thead>\n",
       "    <tr style=\"text-align: right;\">\n",
       "      <th></th>\n",
       "      <th>group1</th>\n",
       "      <th>group2</th>\n",
       "      <th>Diff</th>\n",
       "      <th>Lower</th>\n",
       "      <th>Upper</th>\n",
       "      <th>q-value</th>\n",
       "      <th>p-value</th>\n",
       "    </tr>\n",
       "  </thead>\n",
       "  <tbody>\n",
       "    <tr>\n",
       "      <th>0</th>\n",
       "      <td>probing</td>\n",
       "      <td>targeted</td>\n",
       "      <td>1.830114</td>\n",
       "      <td>0.604550</td>\n",
       "      <td>3.055678</td>\n",
       "      <td>5.004261</td>\n",
       "      <td>0.001587</td>\n",
       "    </tr>\n",
       "    <tr>\n",
       "      <th>1</th>\n",
       "      <td>probing</td>\n",
       "      <td>self_pased</td>\n",
       "      <td>0.631892</td>\n",
       "      <td>-0.530780</td>\n",
       "      <td>1.794564</td>\n",
       "      <td>1.821309</td>\n",
       "      <td>0.406027</td>\n",
       "    </tr>\n",
       "    <tr>\n",
       "      <th>2</th>\n",
       "      <td>targeted</td>\n",
       "      <td>self_pased</td>\n",
       "      <td>1.198222</td>\n",
       "      <td>0.035549</td>\n",
       "      <td>2.360894</td>\n",
       "      <td>3.453646</td>\n",
       "      <td>0.041763</td>\n",
       "    </tr>\n",
       "  </tbody>\n",
       "</table>\n",
       "</div>"
      ],
      "text/plain": [
       "     group1      group2      Diff     Lower     Upper   q-value   p-value\n",
       "0   probing    targeted  1.830114  0.604550  3.055678  5.004261  0.001587\n",
       "1   probing  self_pased  0.631892 -0.530780  1.794564  1.821309  0.406027\n",
       "2  targeted  self_pased  1.198222  0.035549  2.360894  3.453646  0.041763"
      ]
     },
     "execution_count": 19,
     "metadata": {},
     "output_type": "execute_result"
    }
   ],
   "source": [
    "res = stat()\n",
    "res.tukey_hsd(df=d, res_var='Maximum_beta', xfac_var='Condition', anova_model='Maximum_beta ~ C(Condition) + C(Hand) + C(Condition):C(Hand)')\n",
    "res.tukey_summary"
   ]
  },
  {
   "cell_type": "code",
   "execution_count": 20,
   "metadata": {},
   "outputs": [
    {
     "data": {
      "text/html": [
       "<div>\n",
       "<style scoped>\n",
       "    .dataframe tbody tr th:only-of-type {\n",
       "        vertical-align: middle;\n",
       "    }\n",
       "\n",
       "    .dataframe tbody tr th {\n",
       "        vertical-align: top;\n",
       "    }\n",
       "\n",
       "    .dataframe thead th {\n",
       "        text-align: right;\n",
       "    }\n",
       "</style>\n",
       "<table border=\"1\" class=\"dataframe\">\n",
       "  <thead>\n",
       "    <tr style=\"text-align: right;\">\n",
       "      <th></th>\n",
       "      <th>group1</th>\n",
       "      <th>group2</th>\n",
       "      <th>Diff</th>\n",
       "      <th>Lower</th>\n",
       "      <th>Upper</th>\n",
       "      <th>q-value</th>\n",
       "      <th>p-value</th>\n",
       "    </tr>\n",
       "  </thead>\n",
       "  <tbody>\n",
       "    <tr>\n",
       "      <th>0</th>\n",
       "      <td>probing</td>\n",
       "      <td>targeted</td>\n",
       "      <td>1.830114</td>\n",
       "      <td>0.632504</td>\n",
       "      <td>3.027724</td>\n",
       "      <td>4.297611</td>\n",
       "      <td>0.003167</td>\n",
       "    </tr>\n",
       "  </tbody>\n",
       "</table>\n",
       "</div>"
      ],
      "text/plain": [
       "    group1    group2      Diff     Lower     Upper   q-value   p-value\n",
       "0  probing  targeted  1.830114  0.632504  3.027724  4.297611  0.003167"
      ]
     },
     "execution_count": 20,
     "metadata": {},
     "output_type": "execute_result"
    }
   ],
   "source": [
    "res = stat()\n",
    "res.tukey_hsd(df=d2, res_var='Maximum_beta', xfac_var='Condition', anova_model='Maximum_beta ~ C(Condition) + C(Hand) + C(Condition):C(Hand)')\n",
    "res.tukey_summary"
   ]
  },
  {
   "cell_type": "markdown",
   "metadata": {},
   "source": [
    "# t test для связанных выборок"
   ]
  },
  {
   "cell_type": "code",
   "execution_count": 5,
   "metadata": {},
   "outputs": [],
   "source": [
    "d2_probing = d2[d2['Condition'] == 'probing']\n",
    "d2_targeted = d2[d2['Condition'] == 'targeted']"
   ]
  },
  {
   "cell_type": "code",
   "execution_count": 7,
   "metadata": {
    "scrolled": true
   },
   "outputs": [
    {
     "name": "stdout",
     "output_type": "stream",
     "text": [
      "Statistics=-3.899, p=0.000\n",
      "Different distributions (reject H0)\n"
     ]
    }
   ],
   "source": [
    "data1 = d2_probing['Maximum_beta']\n",
    "data2 = d2_targeted['Maximum_beta']\n",
    "\n",
    "stat, p = ttest_rel(data1, data2)\n",
    "p = float(p)\n",
    "print('Statistics=%.3f, p=%.3f' % (stat, p))\n",
    "\n",
    "alpha = 0.05\n",
    "if p > alpha:\n",
    "\tprint('Same distributions (fail to reject H0)')\n",
    "else:\n",
    "\tprint('Different distributions (reject H0)')"
   ]
  },
  {
   "cell_type": "markdown",
   "metadata": {},
   "source": [
    "#####  Получили значимое отличие между максимумами беты для условий  targeting и probing - p-value = 0.05   \n",
    "##### Сделаем поправку на множественные сравнения с помощью FDR коррекции"
   ]
  },
  {
   "cell_type": "code",
   "execution_count": 9,
   "metadata": {},
   "outputs": [],
   "source": [
    "rejected, p_val_fdr = fdrcorrection(p, alpha=0.05, method='indep', is_sorted=False)"
   ]
  },
  {
   "cell_type": "markdown",
   "metadata": {},
   "source": [
    "##### установили, что отличия все еще значимые, даже после коррекции"
   ]
  },
  {
   "cell_type": "code",
   "execution_count": 11,
   "metadata": {},
   "outputs": [
    {
     "data": {
      "text/plain": [
       "array([0.00033358])"
      ]
     },
     "execution_count": 11,
     "metadata": {},
     "output_type": "execute_result"
    }
   ],
   "source": [
    "p_val_fdr"
   ]
  },
  {
   "cell_type": "code",
   "execution_count": 16,
   "metadata": {},
   "outputs": [
    {
     "name": "stdout",
     "output_type": "stream",
     "text": [
      "Statistics=-1.298, p=0.201\n",
      "Same distributions (fail to reject H0)\n"
     ]
    }
   ],
   "source": [
    "data1 = d2_probing['Minimum_beta']\n",
    "data2 = d2_targeted['Minimum_beta']\n",
    "\n",
    "stat, p = ttest_rel(data1, data2)\n",
    "p = float(p)\n",
    "print('Statistics=%.3f, p=%.3f' % (stat, p))\n",
    "\n",
    "alpha = 0.05\n",
    "if p > alpha:\n",
    "\tprint('Same distributions (fail to reject H0)')\n",
    "else:\n",
    "\tprint('Different distributions (reject H0)')"
   ]
  }
 ],
 "metadata": {
  "kernelspec": {
   "display_name": "Python 3",
   "language": "python",
   "name": "python3"
  },
  "language_info": {
   "codemirror_mode": {
    "name": "ipython",
    "version": 3
   },
   "file_extension": ".py",
   "mimetype": "text/x-python",
   "name": "python",
   "nbconvert_exporter": "python",
   "pygments_lexer": "ipython3",
   "version": "3.8.5"
  }
 },
 "nbformat": 4,
 "nbformat_minor": 4
}
